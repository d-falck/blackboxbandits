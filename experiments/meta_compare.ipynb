{
 "cells": [
  {
   "cell_type": "markdown",
   "id": "9e119645",
   "metadata": {
    "id": "9e119645"
   },
   "source": [
    "# Meta comparison working notebook"
   ]
  },
  {
   "cell_type": "code",
   "execution_count": 2,
   "id": "d3cbd1cf-a6fc-4282-8d6a-e5ae0c71910c",
   "metadata": {
    "colab": {
     "base_uri": "https://localhost:8080/",
     "height": 368
    },
    "id": "d3cbd1cf-a6fc-4282-8d6a-e5ae0c71910c",
    "outputId": "e6da4e31-46f0-4b85-d618-d213876640d3"
   },
   "outputs": [],
   "source": [
    "%load_ext autoreload\n",
    "%autoreload 2\n",
    "\n",
    "from blackboxbandits import compare, bandits, meta, utils\n",
    "import pandas as pd\n",
    "\n",
    "pd.set_option('display.max_rows', None)\n",
    "pd.options.display.float_format = '{:20,.4f}'.format\n",
    "\n",
    "DBID = \"bo_20220228_124924_b7rkpeqg\""
   ]
  },
  {
   "cell_type": "markdown",
   "id": "86fb2c3d",
   "metadata": {},
   "source": [
    "## Set up meta optimizers"
   ]
  },
  {
   "cell_type": "code",
   "execution_count": null,
   "id": "16ce7ba4",
   "metadata": {},
   "outputs": [],
   "source": [
    "# factors = [(a,b) for a in range(1,7) for b in range(1,7) if a*b < 7]\n",
    "\n",
    "# S = 1\n",
    "# GAMMA = 0.2\n",
    "\n",
    "# best = {\n",
    "#     f\"best_{T}\": meta.BestFixedTAlgos(T=T)\n",
    "#     for T in range(2,7)}\n",
    "# fpml_fixedexp = {\n",
    "#     f\"fpml_fixedexp_{T}\": meta.BanditMetaOptimizer(\n",
    "#         bandit_type=bandits.FPMLFixed,\n",
    "#         T=T, S=S)\n",
    "#     for T in range(2,7)}\n",
    "# fpml_probexp = {\n",
    "#     f\"fpml_probexp_{T}\": meta.BanditMetaOptimizer(\n",
    "#         bandit_type=bandits.FPMLProb,\n",
    "#         T=T, gamma=GAMMA)\n",
    "#     for T in range(2,7)}\n",
    "# fpml_gr_noexp = {\n",
    "#     f\"fpml_gr_noexp_{T}\": meta.BanditMetaOptimizer(\n",
    "#         bandit_type=bandits.FPMLWithGR,\n",
    "#         T=T, gamma=0)\n",
    "#     for T in range(2,7)}\n",
    "# fpml_gr_probexp = {\n",
    "#     f\"fpml_gr_probexp_{T}\": meta.BanditMetaOptimizer(\n",
    "#         bandit_type=bandits.FPMLWithGR,\n",
    "#         T=T, gamma=GAMMA)\n",
    "#     for T in range(2,7)}\n",
    "# streeter_fpml = {\n",
    "#     f\"streeter_fpml_{a}x{b}\": meta.BanditMetaOptimizer(\n",
    "#         bandit_type=bandits.StreeterFPML,\n",
    "#         T=a*b, T_1=a, T_2=b, gamma=GAMMA, gr=True)\n",
    "#     for a,b in factors}\n",
    "# streeter_exp3 = {\n",
    "#     f\"streeter_exp3_{T}\": meta.BanditMetaOptimizer(\n",
    "#         bandit_type=bandits.Streeter,\n",
    "#         T=T)\n",
    "#     for T in range(2,7)}\n",
    "\n",
    "# meta_optimizers = {**fpml_fixedexp, **fpml_probexp, **fpml_gr_noexp,\n",
    "#                    **fpml_gr_probexp, **streeter_fpml, **streeter_exp3}"
   ]
  },
  {
   "cell_type": "code",
   "execution_count": 3,
   "id": "25f4cae7-0281-43f6-8ade-1c0eb53aa6c3",
   "metadata": {},
   "outputs": [],
   "source": [
    "fpml_gr_probexp = {\n",
    "    f\"fpml_gr_probexp_{T}\": meta.BanditMetaOptimizer(\n",
    "        bandit_type=bandits.FPMLWithGR,\n",
    "        T=T, gamma=1.0)\n",
    "    for T in range(2,7)}\n",
    "\n",
    "meta_optimizers = {**fpml_gr_probexp}"
   ]
  },
  {
   "cell_type": "markdown",
   "id": "933de3c3",
   "metadata": {},
   "source": [
    "## Setup and run meta comparison"
   ]
  },
  {
   "cell_type": "code",
   "execution_count": 7,
   "id": "4419bfb0",
   "metadata": {
    "id": "4419bfb0"
   },
   "outputs": [],
   "source": [
    "meta_comparison = compare.MetaOptimizerComparison \\\n",
    "                         .from_precomputed_base_comparison(\n",
    "    dbid=DBID,\n",
    "    meta_optimizers=meta_optimizers,\n",
    "    db_root = \"./base_results\",\n",
    "    parallel_meta = False,\n",
    "    num_meta_repetitions = 1\n",
    ")"
   ]
  },
  {
   "cell_type": "code",
   "execution_count": 15,
   "id": "cf152acf",
   "metadata": {},
   "outputs": [
    {
     "name": "stdout",
     "output_type": "stream",
     "text": [
      "Starting meta-comparison, repetition 1 of 1\n",
      "-------------------------------------------\n",
      "Running meta-optimizer fpml_gr_probexp_2 on base study 1 of 1\n",
      "Running meta-optimizer fpml_gr_probexp_3 on base study 1 of 1\n",
      "Running meta-optimizer fpml_gr_probexp_4 on base study 1 of 1\n",
      "Running meta-optimizer fpml_gr_probexp_5 on base study 1 of 1\n",
      "Running meta-optimizer fpml_gr_probexp_6 on base study 1 of 1\n",
      "Finished meta-comparison in 10.719215869903564 seconds\n"
     ]
    }
   ],
   "source": [
    "meta_comparison.run_meta_comparison()\n",
    "# results_mean, results_std = meta_comparison.full_results()\n",
    "# summary_mean, summary_std = meta_comparison.summary()\n",
    "\n",
    "# results_mean.to_csv(\"meta_results/fpml_results_mean.csv\")\n",
    "# results_std.to_csv(\"meta_results/fpml_results_std.csv\")\n",
    "# summary_mean.to_csv(\"meta_results/fpml_summary_mean.csv\")\n",
    "# summary_std.to_csv(\"meta_results/fpml_summary_std.csv\")"
   ]
  },
  {
   "cell_type": "code",
   "execution_count": null,
   "id": "add56e95-79ac-4d8c-9320-17c4a5077f56",
   "metadata": {},
   "outputs": [],
   "source": [
    "df = meta_comparison.meta_results\n",
    "df = df.reorder_levels([\"optimizer\",\"function\", \"study_id\", \"meta_rep\"])\n",
    "df = df.sort_values(df.index.names)\n",
    "df"
   ]
  },
  {
   "cell_type": "code",
   "execution_count": 16,
   "id": "8d2ea9a5-4c1b-4842-a9cc-c63d7fcea8e4",
   "metadata": {},
   "outputs": [],
   "source": [
    "summary_mean, summary_std = meta_comparison.summary()"
   ]
  },
  {
   "cell_type": "code",
   "execution_count": 17,
   "id": "375b2936",
   "metadata": {},
   "outputs": [
    {
     "data": {
      "text/html": [
       "<div>\n",
       "<style scoped>\n",
       "    .dataframe tbody tr th:only-of-type {\n",
       "        vertical-align: middle;\n",
       "    }\n",
       "\n",
       "    .dataframe tbody tr th {\n",
       "        vertical-align: top;\n",
       "    }\n",
       "\n",
       "    .dataframe thead th {\n",
       "        text-align: right;\n",
       "    }\n",
       "</style>\n",
       "<table border=\"1\" class=\"dataframe\">\n",
       "  <thead>\n",
       "    <tr style=\"text-align: right;\">\n",
       "      <th></th>\n",
       "      <th>visible_score</th>\n",
       "      <th>generalization_score</th>\n",
       "    </tr>\n",
       "    <tr>\n",
       "      <th>optimizer</th>\n",
       "      <th></th>\n",
       "      <th></th>\n",
       "    </tr>\n",
       "  </thead>\n",
       "  <tbody>\n",
       "    <tr>\n",
       "      <th>HyperOpt_0.2.7_bd14afd</th>\n",
       "      <td>0.3082</td>\n",
       "      <td>0.3244</td>\n",
       "    </tr>\n",
       "    <tr>\n",
       "      <th>OpenTuner-BanditA_0.8.7_bd14afd</th>\n",
       "      <td>0.3059</td>\n",
       "      <td>0.2513</td>\n",
       "    </tr>\n",
       "    <tr>\n",
       "      <th>OpenTuner-GA-DE_0.8.7_bd14afd</th>\n",
       "      <td>0.2579</td>\n",
       "      <td>0.2178</td>\n",
       "    </tr>\n",
       "    <tr>\n",
       "      <th>OpenTuner-GA_0.8.7_bd14afd</th>\n",
       "      <td>0.2813</td>\n",
       "      <td>0.2400</td>\n",
       "    </tr>\n",
       "    <tr>\n",
       "      <th>PySOT_0.3.3_bd14afd</th>\n",
       "      <td>0.4299</td>\n",
       "      <td>0.3710</td>\n",
       "    </tr>\n",
       "    <tr>\n",
       "      <th>RandomSearch_0.0.8_bd14afd</th>\n",
       "      <td>0.0000</td>\n",
       "      <td>0.0000</td>\n",
       "    </tr>\n",
       "    <tr>\n",
       "      <th>Scikit-GBRT-Hedge_0.9.0_bd14afd</th>\n",
       "      <td>0.4689</td>\n",
       "      <td>0.4190</td>\n",
       "    </tr>\n",
       "    <tr>\n",
       "      <th>Scikit-GP-Hedge_0.9.0_bd14afd</th>\n",
       "      <td>0.5743</td>\n",
       "      <td>0.4884</td>\n",
       "    </tr>\n",
       "    <tr>\n",
       "      <th>Scikit-GP-LCB_0.9.0_bd14afd</th>\n",
       "      <td>0.4893</td>\n",
       "      <td>0.4060</td>\n",
       "    </tr>\n",
       "    <tr>\n",
       "      <th>fpml_gr_probexp_2</th>\n",
       "      <td>0.5248</td>\n",
       "      <td>0.4585</td>\n",
       "    </tr>\n",
       "    <tr>\n",
       "      <th>fpml_gr_probexp_3</th>\n",
       "      <td>0.6688</td>\n",
       "      <td>0.6280</td>\n",
       "    </tr>\n",
       "    <tr>\n",
       "      <th>fpml_gr_probexp_4</th>\n",
       "      <td>0.7441</td>\n",
       "      <td>0.6731</td>\n",
       "    </tr>\n",
       "    <tr>\n",
       "      <th>fpml_gr_probexp_5</th>\n",
       "      <td>0.7941</td>\n",
       "      <td>0.7667</td>\n",
       "    </tr>\n",
       "    <tr>\n",
       "      <th>fpml_gr_probexp_6</th>\n",
       "      <td>0.8445</td>\n",
       "      <td>0.7935</td>\n",
       "    </tr>\n",
       "  </tbody>\n",
       "</table>\n",
       "</div>"
      ],
      "text/plain": [
       "                                       visible_score  generalization_score\n",
       "optimizer                                                                 \n",
       "HyperOpt_0.2.7_bd14afd                        0.3082                0.3244\n",
       "OpenTuner-BanditA_0.8.7_bd14afd               0.3059                0.2513\n",
       "OpenTuner-GA-DE_0.8.7_bd14afd                 0.2579                0.2178\n",
       "OpenTuner-GA_0.8.7_bd14afd                    0.2813                0.2400\n",
       "PySOT_0.3.3_bd14afd                           0.4299                0.3710\n",
       "RandomSearch_0.0.8_bd14afd                    0.0000                0.0000\n",
       "Scikit-GBRT-Hedge_0.9.0_bd14afd               0.4689                0.4190\n",
       "Scikit-GP-Hedge_0.9.0_bd14afd                 0.5743                0.4884\n",
       "Scikit-GP-LCB_0.9.0_bd14afd                   0.4893                0.4060\n",
       "fpml_gr_probexp_2                             0.5248                0.4585\n",
       "fpml_gr_probexp_3                             0.6688                0.6280\n",
       "fpml_gr_probexp_4                             0.7441                0.6731\n",
       "fpml_gr_probexp_5                             0.7941                0.7667\n",
       "fpml_gr_probexp_6                             0.8445                0.7935"
      ]
     },
     "execution_count": 17,
     "metadata": {},
     "output_type": "execute_result"
    }
   ],
   "source": [
    "summary_mean"
   ]
  },
  {
   "cell_type": "code",
   "execution_count": null,
   "id": "e3d1861c",
   "metadata": {},
   "outputs": [],
   "source": []
  }
 ],
 "metadata": {
  "colab": {
   "name": "rough.ipynb",
   "provenance": []
  },
  "interpreter": {
   "hash": "d159b8f725754aa0b84fbd46d7cf122234efcf9980d72fcd55bfe021ea98b5b4"
  },
  "kernelspec": {
   "display_name": "Python 3.9.7 64-bit ('bandits': conda)",
   "name": "python3"
  },
  "language_info": {
   "codemirror_mode": {
    "name": "ipython",
    "version": 3
   },
   "file_extension": ".py",
   "mimetype": "text/x-python",
   "name": "python",
   "nbconvert_exporter": "python",
   "pygments_lexer": "ipython3",
   "version": "3.9.7"
  }
 },
 "nbformat": 4,
 "nbformat_minor": 5
}
