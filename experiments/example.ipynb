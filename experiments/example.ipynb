{
 "cells": [
  {
   "cell_type": "markdown",
   "id": "9e119645",
   "metadata": {
    "id": "9e119645"
   },
   "source": [
    "# Rough example usage"
   ]
  },
  {
   "cell_type": "code",
   "execution_count": 16,
   "id": "d3cbd1cf-a6fc-4282-8d6a-e5ae0c71910c",
   "metadata": {
    "colab": {
     "base_uri": "https://localhost:8080/",
     "height": 368
    },
    "id": "d3cbd1cf-a6fc-4282-8d6a-e5ae0c71910c",
    "outputId": "e6da4e31-46f0-4b85-d618-d213876640d3"
   },
   "outputs": [
    {
     "name": "stdout",
     "output_type": "stream",
     "text": [
      "The autoreload extension is already loaded. To reload it, use:\n",
      "  %reload_ext autoreload\n"
     ]
    }
   ],
   "source": [
    "%load_ext autoreload\n",
    "%autoreload 2\n",
    "\n",
    "from blackboxbandits import compare, bandits, meta, utils\n",
    "import pandas as pd\n",
    "\n",
    "pd.set_option('display.max_rows', None)\n",
    "pd.options.display.float_format = '{:20,.2f}'.format"
   ]
  },
  {
   "cell_type": "markdown",
   "id": "bdf2828e-d81b-40e3-98e0-26cd64b5375f",
   "metadata": {
    "tags": []
   },
   "source": [
    "## Run base optimizer comparison"
   ]
  },
  {
   "cell_type": "code",
   "execution_count": 2,
   "id": "fc58b8c1-6bf1-4460-b24c-1e3cc9135cd4",
   "metadata": {},
   "outputs": [],
   "source": [
    "import pmlb\n",
    "dataset_names = list(map(lambda x: \"clf-\"+x.replace(\"_\",\"-\"), pmlb.classification_dataset_names)) \\\n",
    "                + list(map(lambda x: \"reg-\"+x.replace(\"_\",\"-\"), pmlb.regression_dataset_names))"
   ]
  },
  {
   "cell_type": "code",
   "execution_count": 3,
   "id": "da513a7f-a9d2-40a8-8a45-a3e26f38db1a",
   "metadata": {},
   "outputs": [],
   "source": [
    "base_comparison = compare.BaseOptimizerComparison(\n",
    "    optimizers=[\"HyperOpt\", \"OpenTuner-BanditA\", \"OpenTuner-GA\",\n",
    "                \"OpenTuner-GA-DE\", \"PySOT\", \"RandomSearch\",\n",
    "                \"Scikit-GBRT-Hedge\", \"Scikit-GP-Hedge\", \"Scikit-GP-LCB\"],\n",
    "    classifiers=[\"MLP-adam\",\"lasso\"],\n",
    "    datasets = dataset_names,\n",
    "    metrics=[\"mse\", \"nll\"],\n",
    "    num_calls=20,\n",
    "    num_repetitions=1,\n",
    "    db_root = \"./saved_results\",\n",
    "    datasets_root=\"./penn_datasets\",\n",
    "    parallel = True\n",
    ")"
   ]
  },
  {
   "cell_type": "code",
   "execution_count": null,
   "id": "d0775e03-cbb3-4b4b-8f12-54be6ee6492f",
   "metadata": {},
   "outputs": [],
   "source": [
    "base_comparison.run()\n",
    "dbid = base_comparison.get_dbid()\n",
    "dbid"
   ]
  },
  {
   "cell_type": "markdown",
   "id": "05aab075",
   "metadata": {},
   "source": [
    "## View base comparison data"
   ]
  },
  {
   "cell_type": "code",
   "execution_count": null,
   "id": "9bc216b4",
   "metadata": {},
   "outputs": [],
   "source": [
    "DBID = \"bo_20220228_124924_b7rkpeqg\""
   ]
  },
  {
   "cell_type": "code",
   "execution_count": null,
   "id": "9b36406f",
   "metadata": {},
   "outputs": [],
   "source": [
    "df = compare.BaseOptimizerComparison.get_results_for_dbid(db_root=\"./saved_results\", dbid=DBID)"
   ]
  },
  {
   "cell_type": "markdown",
   "id": "62a908ac-fba8-4079-863b-c0c5f884959e",
   "metadata": {
    "jp-MarkdownHeadingCollapsed": true,
    "tags": []
   },
   "source": [
    "## Run meta optimizer comparison"
   ]
  },
  {
   "cell_type": "code",
   "execution_count": 19,
   "id": "8bcf98d1",
   "metadata": {
    "id": "8bcf98d1"
   },
   "outputs": [
    {
     "ename": "AttributeError",
     "evalue": "module 'blackboxbandits.bandits' has no attribute 'FPML'",
     "output_type": "error",
     "traceback": [
      "\u001b[0;31m---------------------------------------------------------------------------\u001b[0m",
      "\u001b[0;31mAttributeError\u001b[0m                            Traceback (most recent call last)",
      "\u001b[1;32m/Users/dfalck/Desktop/Research/blackboxbandits/experiments/example.ipynb Cell 11'\u001b[0m in \u001b[0;36m<module>\u001b[0;34m\u001b[0m\n\u001b[1;32m      <a href='vscode-notebook-cell:/Users/dfalck/Desktop/Research/blackboxbandits/experiments/example.ipynb#ch0000009?line=0'>1</a>\u001b[0m meta_optimizers \u001b[39m=\u001b[39m {\n\u001b[1;32m      <a href='vscode-notebook-cell:/Users/dfalck/Desktop/Research/blackboxbandits/experiments/example.ipynb#ch0000009?line=1'>2</a>\u001b[0m     \u001b[39m\"\u001b[39m\u001b[39mbest_2\u001b[39m\u001b[39m\"\u001b[39m: meta\u001b[39m.\u001b[39mBestFixedTAlgos(T\u001b[39m=\u001b[39m\u001b[39m2\u001b[39m),\n\u001b[1;32m      <a href='vscode-notebook-cell:/Users/dfalck/Desktop/Research/blackboxbandits/experiments/example.ipynb#ch0000009?line=2'>3</a>\u001b[0m     \u001b[39m\"\u001b[39m\u001b[39mbest_3\u001b[39m\u001b[39m\"\u001b[39m: meta\u001b[39m.\u001b[39mBestFixedTAlgos(T\u001b[39m=\u001b[39m\u001b[39m3\u001b[39m),\n\u001b[1;32m      <a href='vscode-notebook-cell:/Users/dfalck/Desktop/Research/blackboxbandits/experiments/example.ipynb#ch0000009?line=3'>4</a>\u001b[0m     \u001b[39m\"\u001b[39m\u001b[39mbest_4\u001b[39m\u001b[39m\"\u001b[39m: meta\u001b[39m.\u001b[39mBestFixedTAlgos(T\u001b[39m=\u001b[39m\u001b[39m4\u001b[39m),\n\u001b[1;32m      <a href='vscode-notebook-cell:/Users/dfalck/Desktop/Research/blackboxbandits/experiments/example.ipynb#ch0000009?line=4'>5</a>\u001b[0m     \u001b[39m\"\u001b[39m\u001b[39mbest_5\u001b[39m\u001b[39m\"\u001b[39m: meta\u001b[39m.\u001b[39mBestFixedTAlgos(T\u001b[39m=\u001b[39m\u001b[39m5\u001b[39m),\n\u001b[1;32m      <a href='vscode-notebook-cell:/Users/dfalck/Desktop/Research/blackboxbandits/experiments/example.ipynb#ch0000009?line=5'>6</a>\u001b[0m     \u001b[39m\"\u001b[39m\u001b[39mbest_6\u001b[39m\u001b[39m\"\u001b[39m: meta\u001b[39m.\u001b[39mBestFixedTAlgos(T\u001b[39m=\u001b[39m\u001b[39m6\u001b[39m),\n\u001b[1;32m      <a href='vscode-notebook-cell:/Users/dfalck/Desktop/Research/blackboxbandits/experiments/example.ipynb#ch0000009?line=6'>7</a>\u001b[0m     \u001b[39m\"\u001b[39m\u001b[39mpure_fpml_2\u001b[39m\u001b[39m\"\u001b[39m: meta\u001b[39m.\u001b[39mBanditMetaOptimizer(\n\u001b[0;32m----> <a href='vscode-notebook-cell:/Users/dfalck/Desktop/Research/blackboxbandits/experiments/example.ipynb#ch0000009?line=7'>8</a>\u001b[0m         bandit_type\u001b[39m=\u001b[39mbandits\u001b[39m.\u001b[39;49mFPML, T\u001b[39m=\u001b[39m\u001b[39m2\u001b[39m, S\u001b[39m=\u001b[39m\u001b[39m1\u001b[39m\n\u001b[1;32m      <a href='vscode-notebook-cell:/Users/dfalck/Desktop/Research/blackboxbandits/experiments/example.ipynb#ch0000009?line=8'>9</a>\u001b[0m     ),\n\u001b[1;32m     <a href='vscode-notebook-cell:/Users/dfalck/Desktop/Research/blackboxbandits/experiments/example.ipynb#ch0000009?line=9'>10</a>\u001b[0m     \u001b[39m\"\u001b[39m\u001b[39mpure_fpml_3\u001b[39m\u001b[39m\"\u001b[39m: meta\u001b[39m.\u001b[39mBanditMetaOptimizer(\n\u001b[1;32m     <a href='vscode-notebook-cell:/Users/dfalck/Desktop/Research/blackboxbandits/experiments/example.ipynb#ch0000009?line=10'>11</a>\u001b[0m         bandit_type\u001b[39m=\u001b[39mbandits\u001b[39m.\u001b[39mFPML, T\u001b[39m=\u001b[39m\u001b[39m3\u001b[39m, S\u001b[39m=\u001b[39m\u001b[39m1\u001b[39m\n\u001b[1;32m     <a href='vscode-notebook-cell:/Users/dfalck/Desktop/Research/blackboxbandits/experiments/example.ipynb#ch0000009?line=11'>12</a>\u001b[0m     ),\n\u001b[1;32m     <a href='vscode-notebook-cell:/Users/dfalck/Desktop/Research/blackboxbandits/experiments/example.ipynb#ch0000009?line=12'>13</a>\u001b[0m     \u001b[39m\"\u001b[39m\u001b[39mpure_fpml_4\u001b[39m\u001b[39m\"\u001b[39m: meta\u001b[39m.\u001b[39mBanditMetaOptimizer(\n\u001b[1;32m     <a href='vscode-notebook-cell:/Users/dfalck/Desktop/Research/blackboxbandits/experiments/example.ipynb#ch0000009?line=13'>14</a>\u001b[0m         bandit_type\u001b[39m=\u001b[39mbandits\u001b[39m.\u001b[39mFPML, T\u001b[39m=\u001b[39m\u001b[39m4\u001b[39m, S\u001b[39m=\u001b[39m\u001b[39m1\u001b[39m\n\u001b[1;32m     <a href='vscode-notebook-cell:/Users/dfalck/Desktop/Research/blackboxbandits/experiments/example.ipynb#ch0000009?line=14'>15</a>\u001b[0m     ),\n\u001b[1;32m     <a href='vscode-notebook-cell:/Users/dfalck/Desktop/Research/blackboxbandits/experiments/example.ipynb#ch0000009?line=15'>16</a>\u001b[0m     \u001b[39m\"\u001b[39m\u001b[39mpure_fpml_5\u001b[39m\u001b[39m\"\u001b[39m: meta\u001b[39m.\u001b[39mBanditMetaOptimizer(\n\u001b[1;32m     <a href='vscode-notebook-cell:/Users/dfalck/Desktop/Research/blackboxbandits/experiments/example.ipynb#ch0000009?line=16'>17</a>\u001b[0m         bandit_type\u001b[39m=\u001b[39mbandits\u001b[39m.\u001b[39mFPML, T\u001b[39m=\u001b[39m\u001b[39m5\u001b[39m, S\u001b[39m=\u001b[39m\u001b[39m1\u001b[39m\n\u001b[1;32m     <a href='vscode-notebook-cell:/Users/dfalck/Desktop/Research/blackboxbandits/experiments/example.ipynb#ch0000009?line=17'>18</a>\u001b[0m     ),\n\u001b[1;32m     <a href='vscode-notebook-cell:/Users/dfalck/Desktop/Research/blackboxbandits/experiments/example.ipynb#ch0000009?line=18'>19</a>\u001b[0m     \u001b[39m\"\u001b[39m\u001b[39mpure_fpml_6\u001b[39m\u001b[39m\"\u001b[39m: meta\u001b[39m.\u001b[39mBanditMetaOptimizer(\n\u001b[1;32m     <a href='vscode-notebook-cell:/Users/dfalck/Desktop/Research/blackboxbandits/experiments/example.ipynb#ch0000009?line=19'>20</a>\u001b[0m         bandit_type\u001b[39m=\u001b[39mbandits\u001b[39m.\u001b[39mFPML, T\u001b[39m=\u001b[39m\u001b[39m6\u001b[39m, S\u001b[39m=\u001b[39m\u001b[39m1\u001b[39m\n\u001b[1;32m     <a href='vscode-notebook-cell:/Users/dfalck/Desktop/Research/blackboxbandits/experiments/example.ipynb#ch0000009?line=20'>21</a>\u001b[0m     ),\n\u001b[1;32m     <a href='vscode-notebook-cell:/Users/dfalck/Desktop/Research/blackboxbandits/experiments/example.ipynb#ch0000009?line=21'>22</a>\u001b[0m     \u001b[39m\"\u001b[39m\u001b[39mpure_fpml_7\u001b[39m\u001b[39m\"\u001b[39m: meta\u001b[39m.\u001b[39mBanditMetaOptimizer(\n\u001b[1;32m     <a href='vscode-notebook-cell:/Users/dfalck/Desktop/Research/blackboxbandits/experiments/example.ipynb#ch0000009?line=22'>23</a>\u001b[0m         bandit_type\u001b[39m=\u001b[39mbandits\u001b[39m.\u001b[39mFPML, T\u001b[39m=\u001b[39m\u001b[39m7\u001b[39m, S\u001b[39m=\u001b[39m\u001b[39m1\u001b[39m\n\u001b[1;32m     <a href='vscode-notebook-cell:/Users/dfalck/Desktop/Research/blackboxbandits/experiments/example.ipynb#ch0000009?line=23'>24</a>\u001b[0m     ),\n\u001b[1;32m     <a href='vscode-notebook-cell:/Users/dfalck/Desktop/Research/blackboxbandits/experiments/example.ipynb#ch0000009?line=24'>25</a>\u001b[0m     \u001b[39m\"\u001b[39m\u001b[39mpure_fpmlgr_2\u001b[39m\u001b[39m\"\u001b[39m: meta\u001b[39m.\u001b[39mBanditMetaOptimizer(\n\u001b[1;32m     <a href='vscode-notebook-cell:/Users/dfalck/Desktop/Research/blackboxbandits/experiments/example.ipynb#ch0000009?line=25'>26</a>\u001b[0m         bandit_type\u001b[39m=\u001b[39mbandits\u001b[39m.\u001b[39mFPMLWithGR, T\u001b[39m=\u001b[39m\u001b[39m2\u001b[39m\n\u001b[1;32m     <a href='vscode-notebook-cell:/Users/dfalck/Desktop/Research/blackboxbandits/experiments/example.ipynb#ch0000009?line=26'>27</a>\u001b[0m     ),\n\u001b[1;32m     <a href='vscode-notebook-cell:/Users/dfalck/Desktop/Research/blackboxbandits/experiments/example.ipynb#ch0000009?line=27'>28</a>\u001b[0m     \u001b[39m\"\u001b[39m\u001b[39mpure_fpmlgr_3\u001b[39m\u001b[39m\"\u001b[39m: meta\u001b[39m.\u001b[39mBanditMetaOptimizer(\n\u001b[1;32m     <a href='vscode-notebook-cell:/Users/dfalck/Desktop/Research/blackboxbandits/experiments/example.ipynb#ch0000009?line=28'>29</a>\u001b[0m         bandit_type\u001b[39m=\u001b[39mbandits\u001b[39m.\u001b[39mFPMLWithGR, T\u001b[39m=\u001b[39m\u001b[39m3\u001b[39m\n\u001b[1;32m     <a href='vscode-notebook-cell:/Users/dfalck/Desktop/Research/blackboxbandits/experiments/example.ipynb#ch0000009?line=29'>30</a>\u001b[0m     ),\n\u001b[1;32m     <a href='vscode-notebook-cell:/Users/dfalck/Desktop/Research/blackboxbandits/experiments/example.ipynb#ch0000009?line=30'>31</a>\u001b[0m     \u001b[39m\"\u001b[39m\u001b[39mpure_fpmlgr_4\u001b[39m\u001b[39m\"\u001b[39m: meta\u001b[39m.\u001b[39mBanditMetaOptimizer(\n\u001b[1;32m     <a href='vscode-notebook-cell:/Users/dfalck/Desktop/Research/blackboxbandits/experiments/example.ipynb#ch0000009?line=31'>32</a>\u001b[0m         bandit_type\u001b[39m=\u001b[39mbandits\u001b[39m.\u001b[39mFPMLWithGR, T\u001b[39m=\u001b[39m\u001b[39m4\u001b[39m\n\u001b[1;32m     <a href='vscode-notebook-cell:/Users/dfalck/Desktop/Research/blackboxbandits/experiments/example.ipynb#ch0000009?line=32'>33</a>\u001b[0m     ),\n\u001b[1;32m     <a href='vscode-notebook-cell:/Users/dfalck/Desktop/Research/blackboxbandits/experiments/example.ipynb#ch0000009?line=33'>34</a>\u001b[0m     \u001b[39m\"\u001b[39m\u001b[39mpure_fpmlgr_5\u001b[39m\u001b[39m\"\u001b[39m: meta\u001b[39m.\u001b[39mBanditMetaOptimizer(\n\u001b[1;32m     <a href='vscode-notebook-cell:/Users/dfalck/Desktop/Research/blackboxbandits/experiments/example.ipynb#ch0000009?line=34'>35</a>\u001b[0m         bandit_type\u001b[39m=\u001b[39mbandits\u001b[39m.\u001b[39mFPMLWithGR, T\u001b[39m=\u001b[39m\u001b[39m5\u001b[39m\n\u001b[1;32m     <a href='vscode-notebook-cell:/Users/dfalck/Desktop/Research/blackboxbandits/experiments/example.ipynb#ch0000009?line=35'>36</a>\u001b[0m     ),\n\u001b[1;32m     <a href='vscode-notebook-cell:/Users/dfalck/Desktop/Research/blackboxbandits/experiments/example.ipynb#ch0000009?line=36'>37</a>\u001b[0m     \u001b[39m\"\u001b[39m\u001b[39mpure_fpmlgr_6\u001b[39m\u001b[39m\"\u001b[39m: meta\u001b[39m.\u001b[39mBanditMetaOptimizer(\n\u001b[1;32m     <a href='vscode-notebook-cell:/Users/dfalck/Desktop/Research/blackboxbandits/experiments/example.ipynb#ch0000009?line=37'>38</a>\u001b[0m         bandit_type\u001b[39m=\u001b[39mbandits\u001b[39m.\u001b[39mFPMLWithGR, T\u001b[39m=\u001b[39m\u001b[39m6\u001b[39m\n\u001b[1;32m     <a href='vscode-notebook-cell:/Users/dfalck/Desktop/Research/blackboxbandits/experiments/example.ipynb#ch0000009?line=38'>39</a>\u001b[0m     ),\n\u001b[1;32m     <a href='vscode-notebook-cell:/Users/dfalck/Desktop/Research/blackboxbandits/experiments/example.ipynb#ch0000009?line=39'>40</a>\u001b[0m     \u001b[39m\"\u001b[39m\u001b[39mstreeter_fpml_2x2\u001b[39m\u001b[39m\"\u001b[39m: meta\u001b[39m.\u001b[39mBanditMetaOptimizer(\n\u001b[1;32m     <a href='vscode-notebook-cell:/Users/dfalck/Desktop/Research/blackboxbandits/experiments/example.ipynb#ch0000009?line=40'>41</a>\u001b[0m         bandit_type\u001b[39m=\u001b[39mbandits\u001b[39m.\u001b[39mStreeterFPML, T\u001b[39m=\u001b[39m\u001b[39m4\u001b[39m,\n\u001b[1;32m     <a href='vscode-notebook-cell:/Users/dfalck/Desktop/Research/blackboxbandits/experiments/example.ipynb#ch0000009?line=41'>42</a>\u001b[0m         T_1\u001b[39m=\u001b[39m\u001b[39m2\u001b[39m, T_2\u001b[39m=\u001b[39m\u001b[39m2\u001b[39m, S\u001b[39m=\u001b[39m\u001b[39m1\u001b[39m\n\u001b[1;32m     <a href='vscode-notebook-cell:/Users/dfalck/Desktop/Research/blackboxbandits/experiments/example.ipynb#ch0000009?line=42'>43</a>\u001b[0m     ),\n\u001b[1;32m     <a href='vscode-notebook-cell:/Users/dfalck/Desktop/Research/blackboxbandits/experiments/example.ipynb#ch0000009?line=43'>44</a>\u001b[0m     \u001b[39m\"\u001b[39m\u001b[39mstreeter_fpml_2x3\u001b[39m\u001b[39m\"\u001b[39m: meta\u001b[39m.\u001b[39mBanditMetaOptimizer(\n\u001b[1;32m     <a href='vscode-notebook-cell:/Users/dfalck/Desktop/Research/blackboxbandits/experiments/example.ipynb#ch0000009?line=44'>45</a>\u001b[0m         bandit_type\u001b[39m=\u001b[39mbandits\u001b[39m.\u001b[39mStreeterFPML, T\u001b[39m=\u001b[39m\u001b[39m6\u001b[39m,\n\u001b[1;32m     <a href='vscode-notebook-cell:/Users/dfalck/Desktop/Research/blackboxbandits/experiments/example.ipynb#ch0000009?line=45'>46</a>\u001b[0m         T_1\u001b[39m=\u001b[39m\u001b[39m2\u001b[39m, T_2\u001b[39m=\u001b[39m\u001b[39m3\u001b[39m, S\u001b[39m=\u001b[39m\u001b[39m1\u001b[39m\n\u001b[1;32m     <a href='vscode-notebook-cell:/Users/dfalck/Desktop/Research/blackboxbandits/experiments/example.ipynb#ch0000009?line=46'>47</a>\u001b[0m     ),\n\u001b[1;32m     <a href='vscode-notebook-cell:/Users/dfalck/Desktop/Research/blackboxbandits/experiments/example.ipynb#ch0000009?line=47'>48</a>\u001b[0m     \u001b[39m\"\u001b[39m\u001b[39mstreeter_fpml_3x2\u001b[39m\u001b[39m\"\u001b[39m: meta\u001b[39m.\u001b[39mBanditMetaOptimizer(\n\u001b[1;32m     <a href='vscode-notebook-cell:/Users/dfalck/Desktop/Research/blackboxbandits/experiments/example.ipynb#ch0000009?line=48'>49</a>\u001b[0m         bandit_type\u001b[39m=\u001b[39mbandits\u001b[39m.\u001b[39mStreeterFPML, T\u001b[39m=\u001b[39m\u001b[39m6\u001b[39m,\n\u001b[1;32m     <a href='vscode-notebook-cell:/Users/dfalck/Desktop/Research/blackboxbandits/experiments/example.ipynb#ch0000009?line=49'>50</a>\u001b[0m         T_1\u001b[39m=\u001b[39m\u001b[39m3\u001b[39m, T_2\u001b[39m=\u001b[39m\u001b[39m2\u001b[39m, S\u001b[39m=\u001b[39m\u001b[39m1\u001b[39m\n\u001b[1;32m     <a href='vscode-notebook-cell:/Users/dfalck/Desktop/Research/blackboxbandits/experiments/example.ipynb#ch0000009?line=50'>51</a>\u001b[0m     ),\n\u001b[1;32m     <a href='vscode-notebook-cell:/Users/dfalck/Desktop/Research/blackboxbandits/experiments/example.ipynb#ch0000009?line=51'>52</a>\u001b[0m     \u001b[39m\"\u001b[39m\u001b[39mstreeter_fpmlgr_1x2\u001b[39m\u001b[39m\"\u001b[39m: meta\u001b[39m.\u001b[39mBanditMetaOptimizer(\n\u001b[1;32m     <a href='vscode-notebook-cell:/Users/dfalck/Desktop/Research/blackboxbandits/experiments/example.ipynb#ch0000009?line=52'>53</a>\u001b[0m         bandit_type\u001b[39m=\u001b[39mbandits\u001b[39m.\u001b[39mStreeterFPML, T\u001b[39m=\u001b[39m\u001b[39m2\u001b[39m,\n\u001b[1;32m     <a href='vscode-notebook-cell:/Users/dfalck/Desktop/Research/blackboxbandits/experiments/example.ipynb#ch0000009?line=53'>54</a>\u001b[0m         T_1\u001b[39m=\u001b[39m\u001b[39m1\u001b[39m, T_2\u001b[39m=\u001b[39m\u001b[39m2\u001b[39m, gr\u001b[39m=\u001b[39m\u001b[39mTrue\u001b[39;00m\n\u001b[1;32m     <a href='vscode-notebook-cell:/Users/dfalck/Desktop/Research/blackboxbandits/experiments/example.ipynb#ch0000009?line=54'>55</a>\u001b[0m     ),\n\u001b[1;32m     <a href='vscode-notebook-cell:/Users/dfalck/Desktop/Research/blackboxbandits/experiments/example.ipynb#ch0000009?line=55'>56</a>\u001b[0m     \u001b[39m\"\u001b[39m\u001b[39mstreeter_fpmlgr_1x3\u001b[39m\u001b[39m\"\u001b[39m: meta\u001b[39m.\u001b[39mBanditMetaOptimizer(\n\u001b[1;32m     <a href='vscode-notebook-cell:/Users/dfalck/Desktop/Research/blackboxbandits/experiments/example.ipynb#ch0000009?line=56'>57</a>\u001b[0m         bandit_type\u001b[39m=\u001b[39mbandits\u001b[39m.\u001b[39mStreeterFPML, T\u001b[39m=\u001b[39m\u001b[39m3\u001b[39m,\n\u001b[1;32m     <a href='vscode-notebook-cell:/Users/dfalck/Desktop/Research/blackboxbandits/experiments/example.ipynb#ch0000009?line=57'>58</a>\u001b[0m         T_1\u001b[39m=\u001b[39m\u001b[39m1\u001b[39m, T_2\u001b[39m=\u001b[39m\u001b[39m3\u001b[39m, gr\u001b[39m=\u001b[39m\u001b[39mTrue\u001b[39;00m\n\u001b[1;32m     <a href='vscode-notebook-cell:/Users/dfalck/Desktop/Research/blackboxbandits/experiments/example.ipynb#ch0000009?line=58'>59</a>\u001b[0m     ),\n\u001b[1;32m     <a href='vscode-notebook-cell:/Users/dfalck/Desktop/Research/blackboxbandits/experiments/example.ipynb#ch0000009?line=59'>60</a>\u001b[0m     \u001b[39m\"\u001b[39m\u001b[39mstreeter_fpmlgr_1x4\u001b[39m\u001b[39m\"\u001b[39m: meta\u001b[39m.\u001b[39mBanditMetaOptimizer(\n\u001b[1;32m     <a href='vscode-notebook-cell:/Users/dfalck/Desktop/Research/blackboxbandits/experiments/example.ipynb#ch0000009?line=60'>61</a>\u001b[0m         bandit_type\u001b[39m=\u001b[39mbandits\u001b[39m.\u001b[39mStreeterFPML, T\u001b[39m=\u001b[39m\u001b[39m4\u001b[39m,\n\u001b[1;32m     <a href='vscode-notebook-cell:/Users/dfalck/Desktop/Research/blackboxbandits/experiments/example.ipynb#ch0000009?line=61'>62</a>\u001b[0m         T_1\u001b[39m=\u001b[39m\u001b[39m1\u001b[39m, T_2\u001b[39m=\u001b[39m\u001b[39m4\u001b[39m, gr\u001b[39m=\u001b[39m\u001b[39mTrue\u001b[39;00m\n\u001b[1;32m     <a href='vscode-notebook-cell:/Users/dfalck/Desktop/Research/blackboxbandits/experiments/example.ipynb#ch0000009?line=62'>63</a>\u001b[0m     ),\n\u001b[1;32m     <a href='vscode-notebook-cell:/Users/dfalck/Desktop/Research/blackboxbandits/experiments/example.ipynb#ch0000009?line=63'>64</a>\u001b[0m     \u001b[39m\"\u001b[39m\u001b[39mstreeter_fpmlgr_2x2\u001b[39m\u001b[39m\"\u001b[39m: meta\u001b[39m.\u001b[39mBanditMetaOptimizer(\n\u001b[1;32m     <a href='vscode-notebook-cell:/Users/dfalck/Desktop/Research/blackboxbandits/experiments/example.ipynb#ch0000009?line=64'>65</a>\u001b[0m         bandit_type\u001b[39m=\u001b[39mbandits\u001b[39m.\u001b[39mStreeterFPML, T\u001b[39m=\u001b[39m\u001b[39m4\u001b[39m,\n\u001b[1;32m     <a href='vscode-notebook-cell:/Users/dfalck/Desktop/Research/blackboxbandits/experiments/example.ipynb#ch0000009?line=65'>66</a>\u001b[0m         T_1\u001b[39m=\u001b[39m\u001b[39m2\u001b[39m, T_2\u001b[39m=\u001b[39m\u001b[39m2\u001b[39m, gr\u001b[39m=\u001b[39m\u001b[39mTrue\u001b[39;00m\n\u001b[1;32m     <a href='vscode-notebook-cell:/Users/dfalck/Desktop/Research/blackboxbandits/experiments/example.ipynb#ch0000009?line=66'>67</a>\u001b[0m     ),\n\u001b[1;32m     <a href='vscode-notebook-cell:/Users/dfalck/Desktop/Research/blackboxbandits/experiments/example.ipynb#ch0000009?line=67'>68</a>\u001b[0m     \u001b[39m\"\u001b[39m\u001b[39mstreeter_fpmlgr_1x5\u001b[39m\u001b[39m\"\u001b[39m: meta\u001b[39m.\u001b[39mBanditMetaOptimizer(\n\u001b[1;32m     <a href='vscode-notebook-cell:/Users/dfalck/Desktop/Research/blackboxbandits/experiments/example.ipynb#ch0000009?line=68'>69</a>\u001b[0m         bandit_type\u001b[39m=\u001b[39mbandits\u001b[39m.\u001b[39mStreeterFPML, T\u001b[39m=\u001b[39m\u001b[39m5\u001b[39m,\n\u001b[1;32m     <a href='vscode-notebook-cell:/Users/dfalck/Desktop/Research/blackboxbandits/experiments/example.ipynb#ch0000009?line=69'>70</a>\u001b[0m         T_1\u001b[39m=\u001b[39m\u001b[39m1\u001b[39m, T_2\u001b[39m=\u001b[39m\u001b[39m5\u001b[39m, gr\u001b[39m=\u001b[39m\u001b[39mTrue\u001b[39;00m\n\u001b[1;32m     <a href='vscode-notebook-cell:/Users/dfalck/Desktop/Research/blackboxbandits/experiments/example.ipynb#ch0000009?line=70'>71</a>\u001b[0m     ),\n\u001b[1;32m     <a href='vscode-notebook-cell:/Users/dfalck/Desktop/Research/blackboxbandits/experiments/example.ipynb#ch0000009?line=71'>72</a>\u001b[0m     \u001b[39m\"\u001b[39m\u001b[39mstreeter_fpmlgr_1x6\u001b[39m\u001b[39m\"\u001b[39m: meta\u001b[39m.\u001b[39mBanditMetaOptimizer(\n\u001b[1;32m     <a href='vscode-notebook-cell:/Users/dfalck/Desktop/Research/blackboxbandits/experiments/example.ipynb#ch0000009?line=72'>73</a>\u001b[0m         bandit_type\u001b[39m=\u001b[39mbandits\u001b[39m.\u001b[39mStreeterFPML, T\u001b[39m=\u001b[39m\u001b[39m6\u001b[39m,\n\u001b[1;32m     <a href='vscode-notebook-cell:/Users/dfalck/Desktop/Research/blackboxbandits/experiments/example.ipynb#ch0000009?line=73'>74</a>\u001b[0m         T_1\u001b[39m=\u001b[39m\u001b[39m1\u001b[39m, T_2\u001b[39m=\u001b[39m\u001b[39m6\u001b[39m, gr\u001b[39m=\u001b[39m\u001b[39mTrue\u001b[39;00m\n\u001b[1;32m     <a href='vscode-notebook-cell:/Users/dfalck/Desktop/Research/blackboxbandits/experiments/example.ipynb#ch0000009?line=74'>75</a>\u001b[0m     ),\n\u001b[1;32m     <a href='vscode-notebook-cell:/Users/dfalck/Desktop/Research/blackboxbandits/experiments/example.ipynb#ch0000009?line=75'>76</a>\u001b[0m     \u001b[39m\"\u001b[39m\u001b[39mstreeter_fpmlgr_2x3\u001b[39m\u001b[39m\"\u001b[39m: meta\u001b[39m.\u001b[39mBanditMetaOptimizer(\n\u001b[1;32m     <a href='vscode-notebook-cell:/Users/dfalck/Desktop/Research/blackboxbandits/experiments/example.ipynb#ch0000009?line=76'>77</a>\u001b[0m         bandit_type\u001b[39m=\u001b[39mbandits\u001b[39m.\u001b[39mStreeterFPML, T\u001b[39m=\u001b[39m\u001b[39m6\u001b[39m,\n\u001b[1;32m     <a href='vscode-notebook-cell:/Users/dfalck/Desktop/Research/blackboxbandits/experiments/example.ipynb#ch0000009?line=77'>78</a>\u001b[0m         T_1\u001b[39m=\u001b[39m\u001b[39m2\u001b[39m, T_2\u001b[39m=\u001b[39m\u001b[39m3\u001b[39m, gr\u001b[39m=\u001b[39m\u001b[39mTrue\u001b[39;00m\n\u001b[1;32m     <a href='vscode-notebook-cell:/Users/dfalck/Desktop/Research/blackboxbandits/experiments/example.ipynb#ch0000009?line=78'>79</a>\u001b[0m     ),\n\u001b[1;32m     <a href='vscode-notebook-cell:/Users/dfalck/Desktop/Research/blackboxbandits/experiments/example.ipynb#ch0000009?line=79'>80</a>\u001b[0m     \u001b[39m\"\u001b[39m\u001b[39mstreeter_fpmlgr_3x2\u001b[39m\u001b[39m\"\u001b[39m: meta\u001b[39m.\u001b[39mBanditMetaOptimizer(\n\u001b[1;32m     <a href='vscode-notebook-cell:/Users/dfalck/Desktop/Research/blackboxbandits/experiments/example.ipynb#ch0000009?line=80'>81</a>\u001b[0m         bandit_type\u001b[39m=\u001b[39mbandits\u001b[39m.\u001b[39mStreeterFPML, T\u001b[39m=\u001b[39m\u001b[39m6\u001b[39m,\n\u001b[1;32m     <a href='vscode-notebook-cell:/Users/dfalck/Desktop/Research/blackboxbandits/experiments/example.ipynb#ch0000009?line=81'>82</a>\u001b[0m         T_1\u001b[39m=\u001b[39m\u001b[39m3\u001b[39m, T_2\u001b[39m=\u001b[39m\u001b[39m2\u001b[39m, gr\u001b[39m=\u001b[39m\u001b[39mTrue\u001b[39;00m\n\u001b[1;32m     <a href='vscode-notebook-cell:/Users/dfalck/Desktop/Research/blackboxbandits/experiments/example.ipynb#ch0000009?line=82'>83</a>\u001b[0m     ),\n\u001b[1;32m     <a href='vscode-notebook-cell:/Users/dfalck/Desktop/Research/blackboxbandits/experiments/example.ipynb#ch0000009?line=83'>84</a>\u001b[0m     \u001b[39m\"\u001b[39m\u001b[39mstreeter_exp3_2\u001b[39m\u001b[39m\"\u001b[39m: meta\u001b[39m.\u001b[39mBanditMetaOptimizer(\n\u001b[1;32m     <a href='vscode-notebook-cell:/Users/dfalck/Desktop/Research/blackboxbandits/experiments/example.ipynb#ch0000009?line=84'>85</a>\u001b[0m         bandit_type\u001b[39m=\u001b[39mbandits\u001b[39m.\u001b[39mStreeter, T\u001b[39m=\u001b[39m\u001b[39m2\u001b[39m\n\u001b[1;32m     <a href='vscode-notebook-cell:/Users/dfalck/Desktop/Research/blackboxbandits/experiments/example.ipynb#ch0000009?line=85'>86</a>\u001b[0m     ),\n\u001b[1;32m     <a href='vscode-notebook-cell:/Users/dfalck/Desktop/Research/blackboxbandits/experiments/example.ipynb#ch0000009?line=86'>87</a>\u001b[0m     \u001b[39m\"\u001b[39m\u001b[39mstreeter_exp3_3\u001b[39m\u001b[39m\"\u001b[39m: meta\u001b[39m.\u001b[39mBanditMetaOptimizer(\n\u001b[1;32m     <a href='vscode-notebook-cell:/Users/dfalck/Desktop/Research/blackboxbandits/experiments/example.ipynb#ch0000009?line=87'>88</a>\u001b[0m         bandit_type\u001b[39m=\u001b[39mbandits\u001b[39m.\u001b[39mStreeter, T\u001b[39m=\u001b[39m\u001b[39m3\u001b[39m\n\u001b[1;32m     <a href='vscode-notebook-cell:/Users/dfalck/Desktop/Research/blackboxbandits/experiments/example.ipynb#ch0000009?line=88'>89</a>\u001b[0m     ),\n\u001b[1;32m     <a href='vscode-notebook-cell:/Users/dfalck/Desktop/Research/blackboxbandits/experiments/example.ipynb#ch0000009?line=89'>90</a>\u001b[0m     \u001b[39m\"\u001b[39m\u001b[39mstreeter_exp3_4\u001b[39m\u001b[39m\"\u001b[39m: meta\u001b[39m.\u001b[39mBanditMetaOptimizer(\n\u001b[1;32m     <a href='vscode-notebook-cell:/Users/dfalck/Desktop/Research/blackboxbandits/experiments/example.ipynb#ch0000009?line=90'>91</a>\u001b[0m         bandit_type\u001b[39m=\u001b[39mbandits\u001b[39m.\u001b[39mStreeter, T\u001b[39m=\u001b[39m\u001b[39m4\u001b[39m\n\u001b[1;32m     <a href='vscode-notebook-cell:/Users/dfalck/Desktop/Research/blackboxbandits/experiments/example.ipynb#ch0000009?line=91'>92</a>\u001b[0m     ),\n\u001b[1;32m     <a href='vscode-notebook-cell:/Users/dfalck/Desktop/Research/blackboxbandits/experiments/example.ipynb#ch0000009?line=92'>93</a>\u001b[0m     \u001b[39m\"\u001b[39m\u001b[39mstreeter_exp3_5\u001b[39m\u001b[39m\"\u001b[39m: meta\u001b[39m.\u001b[39mBanditMetaOptimizer(\n\u001b[1;32m     <a href='vscode-notebook-cell:/Users/dfalck/Desktop/Research/blackboxbandits/experiments/example.ipynb#ch0000009?line=93'>94</a>\u001b[0m         bandit_type\u001b[39m=\u001b[39mbandits\u001b[39m.\u001b[39mStreeter, T\u001b[39m=\u001b[39m\u001b[39m5\u001b[39m\n\u001b[1;32m     <a href='vscode-notebook-cell:/Users/dfalck/Desktop/Research/blackboxbandits/experiments/example.ipynb#ch0000009?line=94'>95</a>\u001b[0m     ),\n\u001b[1;32m     <a href='vscode-notebook-cell:/Users/dfalck/Desktop/Research/blackboxbandits/experiments/example.ipynb#ch0000009?line=95'>96</a>\u001b[0m     \u001b[39m\"\u001b[39m\u001b[39mstreeter_exp3_6\u001b[39m\u001b[39m\"\u001b[39m: meta\u001b[39m.\u001b[39mBanditMetaOptimizer(\n\u001b[1;32m     <a href='vscode-notebook-cell:/Users/dfalck/Desktop/Research/blackboxbandits/experiments/example.ipynb#ch0000009?line=96'>97</a>\u001b[0m         bandit_type\u001b[39m=\u001b[39mbandits\u001b[39m.\u001b[39mStreeter, T\u001b[39m=\u001b[39m\u001b[39m6\u001b[39m\n\u001b[1;32m     <a href='vscode-notebook-cell:/Users/dfalck/Desktop/Research/blackboxbandits/experiments/example.ipynb#ch0000009?line=97'>98</a>\u001b[0m     ),\n\u001b[1;32m     <a href='vscode-notebook-cell:/Users/dfalck/Desktop/Research/blackboxbandits/experiments/example.ipynb#ch0000009?line=98'>99</a>\u001b[0m }\n",
      "\u001b[0;31mAttributeError\u001b[0m: module 'blackboxbandits.bandits' has no attribute 'FPML'"
     ]
    }
   ],
   "source": [
    "meta_optimizers = {\n",
    "    \"best_2\": meta.BestFixedTAlgos(T=2),\n",
    "    \"best_3\": meta.BestFixedTAlgos(T=3),\n",
    "    \"best_4\": meta.BestFixedTAlgos(T=4),\n",
    "    \"best_5\": meta.BestFixedTAlgos(T=5),\n",
    "    \"best_6\": meta.BestFixedTAlgos(T=6),\n",
    "    \"pure_fpml_2\": meta.BanditMetaOptimizer(\n",
    "        bandit_type=bandits.FPML, T=2, S=1\n",
    "    ),\n",
    "    \"pure_fpml_3\": meta.BanditMetaOptimizer(\n",
    "        bandit_type=bandits.FPML, T=3, S=1\n",
    "    ),\n",
    "    \"pure_fpml_4\": meta.BanditMetaOptimizer(\n",
    "        bandit_type=bandits.FPML, T=4, S=1\n",
    "    ),\n",
    "    \"pure_fpml_5\": meta.BanditMetaOptimizer(\n",
    "        bandit_type=bandits.FPML, T=5, S=1\n",
    "    ),\n",
    "    \"pure_fpml_6\": meta.BanditMetaOptimizer(\n",
    "        bandit_type=bandits.FPML, T=6, S=1\n",
    "    ),\n",
    "    \"pure_fpml_7\": meta.BanditMetaOptimizer(\n",
    "        bandit_type=bandits.FPML, T=7, S=1\n",
    "    ),\n",
    "    \"pure_fpmlgr_2\": meta.BanditMetaOptimizer(\n",
    "        bandit_type=bandits.FPMLWithGR, T=2\n",
    "    ),\n",
    "    \"pure_fpmlgr_3\": meta.BanditMetaOptimizer(\n",
    "        bandit_type=bandits.FPMLWithGR, T=3\n",
    "    ),\n",
    "    \"pure_fpmlgr_4\": meta.BanditMetaOptimizer(\n",
    "        bandit_type=bandits.FPMLWithGR, T=4\n",
    "    ),\n",
    "    \"pure_fpmlgr_5\": meta.BanditMetaOptimizer(\n",
    "        bandit_type=bandits.FPMLWithGR, T=5\n",
    "    ),\n",
    "    \"pure_fpmlgr_6\": meta.BanditMetaOptimizer(\n",
    "        bandit_type=bandits.FPMLWithGR, T=6\n",
    "    ),\n",
    "    \"streeter_fpml_2x2\": meta.BanditMetaOptimizer(\n",
    "        bandit_type=bandits.StreeterFPML, T=4,\n",
    "        T_1=2, T_2=2, S=1\n",
    "    ),\n",
    "    \"streeter_fpml_2x3\": meta.BanditMetaOptimizer(\n",
    "        bandit_type=bandits.StreeterFPML, T=6,\n",
    "        T_1=2, T_2=3, S=1\n",
    "    ),\n",
    "    \"streeter_fpml_3x2\": meta.BanditMetaOptimizer(\n",
    "        bandit_type=bandits.StreeterFPML, T=6,\n",
    "        T_1=3, T_2=2, S=1\n",
    "    ),\n",
    "    \"streeter_fpmlgr_1x2\": meta.BanditMetaOptimizer(\n",
    "        bandit_type=bandits.StreeterFPML, T=2,\n",
    "        T_1=1, T_2=2, gr=True\n",
    "    ),\n",
    "    \"streeter_fpmlgr_1x3\": meta.BanditMetaOptimizer(\n",
    "        bandit_type=bandits.StreeterFPML, T=3,\n",
    "        T_1=1, T_2=3, gr=True\n",
    "    ),\n",
    "    \"streeter_fpmlgr_1x4\": meta.BanditMetaOptimizer(\n",
    "        bandit_type=bandits.StreeterFPML, T=4,\n",
    "        T_1=1, T_2=4, gr=True\n",
    "    ),\n",
    "    \"streeter_fpmlgr_2x2\": meta.BanditMetaOptimizer(\n",
    "        bandit_type=bandits.StreeterFPML, T=4,\n",
    "        T_1=2, T_2=2, gr=True\n",
    "    ),\n",
    "    \"streeter_fpmlgr_1x5\": meta.BanditMetaOptimizer(\n",
    "        bandit_type=bandits.StreeterFPML, T=5,\n",
    "        T_1=1, T_2=5, gr=True\n",
    "    ),\n",
    "    \"streeter_fpmlgr_1x6\": meta.BanditMetaOptimizer(\n",
    "        bandit_type=bandits.StreeterFPML, T=6,\n",
    "        T_1=1, T_2=6, gr=True\n",
    "    ),\n",
    "    \"streeter_fpmlgr_2x3\": meta.BanditMetaOptimizer(\n",
    "        bandit_type=bandits.StreeterFPML, T=6,\n",
    "        T_1=2, T_2=3, gr=True\n",
    "    ),\n",
    "    \"streeter_fpmlgr_3x2\": meta.BanditMetaOptimizer(\n",
    "        bandit_type=bandits.StreeterFPML, T=6,\n",
    "        T_1=3, T_2=2, gr=True\n",
    "    ),\n",
    "    \"streeter_exp3_2\": meta.BanditMetaOptimizer(\n",
    "        bandit_type=bandits.Streeter, T=2\n",
    "    ),\n",
    "    \"streeter_exp3_3\": meta.BanditMetaOptimizer(\n",
    "        bandit_type=bandits.Streeter, T=3\n",
    "    ),\n",
    "    \"streeter_exp3_4\": meta.BanditMetaOptimizer(\n",
    "        bandit_type=bandits.Streeter, T=4\n",
    "    ),\n",
    "    \"streeter_exp3_5\": meta.BanditMetaOptimizer(\n",
    "        bandit_type=bandits.Streeter, T=5\n",
    "    ),\n",
    "    \"streeter_exp3_6\": meta.BanditMetaOptimizer(\n",
    "        bandit_type=bandits.Streeter, T=6\n",
    "    ),\n",
    "}"
   ]
  },
  {
   "cell_type": "code",
   "execution_count": 18,
   "id": "4419bfb0",
   "metadata": {
    "id": "4419bfb0"
   },
   "outputs": [
    {
     "ename": "NameError",
     "evalue": "name 'meta_optimizers' is not defined",
     "output_type": "error",
     "traceback": [
      "\u001b[0;31m---------------------------------------------------------------------------\u001b[0m",
      "\u001b[0;31mNameError\u001b[0m                                 Traceback (most recent call last)",
      "\u001b[1;32m/Users/dfalck/Desktop/Research/blackboxbandits/experiments/example.ipynb Cell 12'\u001b[0m in \u001b[0;36m<module>\u001b[0;34m\u001b[0m\n\u001b[1;32m      <a href='vscode-notebook-cell:/Users/dfalck/Desktop/Research/blackboxbandits/experiments/example.ipynb#ch0000010?line=0'>1</a>\u001b[0m meta_comparison \u001b[39m=\u001b[39m compare\u001b[39m.\u001b[39mMetaOptimizerComparison\u001b[39m.\u001b[39mfrom_precomputed_base_comparison(\n\u001b[1;32m      <a href='vscode-notebook-cell:/Users/dfalck/Desktop/Research/blackboxbandits/experiments/example.ipynb#ch0000010?line=1'>2</a>\u001b[0m     dbid\u001b[39m=\u001b[39mDBID,\n\u001b[0;32m----> <a href='vscode-notebook-cell:/Users/dfalck/Desktop/Research/blackboxbandits/experiments/example.ipynb#ch0000010?line=2'>3</a>\u001b[0m     meta_optimizers\u001b[39m=\u001b[39mmeta_optimizers,\n\u001b[1;32m      <a href='vscode-notebook-cell:/Users/dfalck/Desktop/Research/blackboxbandits/experiments/example.ipynb#ch0000010?line=3'>4</a>\u001b[0m     db_root \u001b[39m=\u001b[39m \u001b[39m\"\u001b[39m\u001b[39m./data\u001b[39m\u001b[39m\"\u001b[39m,\n\u001b[1;32m      <a href='vscode-notebook-cell:/Users/dfalck/Desktop/Research/blackboxbandits/experiments/example.ipynb#ch0000010?line=4'>5</a>\u001b[0m     parallel_meta \u001b[39m=\u001b[39m \u001b[39mFalse\u001b[39;00m,\n\u001b[1;32m      <a href='vscode-notebook-cell:/Users/dfalck/Desktop/Research/blackboxbandits/experiments/example.ipynb#ch0000010?line=5'>6</a>\u001b[0m     num_meta_repetitions \u001b[39m=\u001b[39m \u001b[39m1\u001b[39m\n\u001b[1;32m      <a href='vscode-notebook-cell:/Users/dfalck/Desktop/Research/blackboxbandits/experiments/example.ipynb#ch0000010?line=6'>7</a>\u001b[0m )\n",
      "\u001b[0;31mNameError\u001b[0m: name 'meta_optimizers' is not defined"
     ]
    }
   ],
   "source": [
    "meta_comparison = compare.MetaOptimizerComparison.from_precomputed_base_comparison(\n",
    "    dbid=DBID,\n",
    "    meta_optimizers=meta_optimizers,\n",
    "    db_root = \"./data\",\n",
    "    parallel_meta = False,\n",
    "    num_meta_repetitions = 1\n",
    ")"
   ]
  },
  {
   "cell_type": "code",
   "execution_count": null,
   "id": "eaa79fb4",
   "metadata": {
    "id": "eaa79fb4"
   },
   "outputs": [],
   "source": [
    "meta_comparison.run_base_comparison()\n",
    "dbid = meta_comparison.get_dbid()"
   ]
  },
  {
   "cell_type": "code",
   "execution_count": 33,
   "id": "55f1d143",
   "metadata": {
    "id": "55f1d143"
   },
   "outputs": [],
   "source": [
    "meta_comparison.load_base_comparison(dbid='bo_20220209_184815_6elli2k5')"
   ]
  },
  {
   "cell_type": "code",
   "execution_count": 35,
   "id": "cf152acf",
   "metadata": {},
   "outputs": [
    {
     "data": {
      "text/html": [
       "<div>\n",
       "<style scoped>\n",
       "    .dataframe tbody tr th:only-of-type {\n",
       "        vertical-align: middle;\n",
       "    }\n",
       "\n",
       "    .dataframe tbody tr th {\n",
       "        vertical-align: top;\n",
       "    }\n",
       "\n",
       "    .dataframe thead th {\n",
       "        text-align: right;\n",
       "    }\n",
       "</style>\n",
       "<table border=\"1\" class=\"dataframe\">\n",
       "  <thead>\n",
       "    <tr style=\"text-align: right;\">\n",
       "      <th></th>\n",
       "      <th>visible_score</th>\n",
       "      <th>generalization_score</th>\n",
       "    </tr>\n",
       "    <tr>\n",
       "      <th>optimizer</th>\n",
       "      <th></th>\n",
       "      <th></th>\n",
       "    </tr>\n",
       "  </thead>\n",
       "  <tbody>\n",
       "    <tr>\n",
       "      <th>HyperOpt_0.2.7_a376313</th>\n",
       "      <td>0.33</td>\n",
       "      <td>0.28</td>\n",
       "    </tr>\n",
       "    <tr>\n",
       "      <th>OpenTuner-BanditA_0.8.7_a376313</th>\n",
       "      <td>0.34</td>\n",
       "      <td>0.36</td>\n",
       "    </tr>\n",
       "    <tr>\n",
       "      <th>OpenTuner-GA-DE_0.8.7_a376313</th>\n",
       "      <td>0.38</td>\n",
       "      <td>0.28</td>\n",
       "    </tr>\n",
       "    <tr>\n",
       "      <th>OpenTuner-GA_0.8.7_a376313</th>\n",
       "      <td>0.25</td>\n",
       "      <td>0.22</td>\n",
       "    </tr>\n",
       "    <tr>\n",
       "      <th>PySOT_0.3.3_a376313</th>\n",
       "      <td>0.37</td>\n",
       "      <td>0.30</td>\n",
       "    </tr>\n",
       "    <tr>\n",
       "      <th>RandomSearch_0.0.8_a376313</th>\n",
       "      <td>0.19</td>\n",
       "      <td>0.28</td>\n",
       "    </tr>\n",
       "    <tr>\n",
       "      <th>Scikit-GBRT-Hedge_0.9.0_a376313</th>\n",
       "      <td>0.49</td>\n",
       "      <td>0.40</td>\n",
       "    </tr>\n",
       "    <tr>\n",
       "      <th>Scikit-GP-Hedge_0.9.0_a376313</th>\n",
       "      <td>0.53</td>\n",
       "      <td>0.49</td>\n",
       "    </tr>\n",
       "    <tr>\n",
       "      <th>Scikit-GP-LCB_0.9.0_a376313</th>\n",
       "      <td>0.58</td>\n",
       "      <td>0.35</td>\n",
       "    </tr>\n",
       "    <tr>\n",
       "      <th>best_2</th>\n",
       "      <td>0.77</td>\n",
       "      <td>0.52</td>\n",
       "    </tr>\n",
       "    <tr>\n",
       "      <th>best_3</th>\n",
       "      <td>0.86</td>\n",
       "      <td>0.63</td>\n",
       "    </tr>\n",
       "    <tr>\n",
       "      <th>best_4</th>\n",
       "      <td>0.89</td>\n",
       "      <td>0.66</td>\n",
       "    </tr>\n",
       "    <tr>\n",
       "      <th>best_5</th>\n",
       "      <td>0.91</td>\n",
       "      <td>0.78</td>\n",
       "    </tr>\n",
       "    <tr>\n",
       "      <th>best_6</th>\n",
       "      <td>0.92</td>\n",
       "      <td>0.78</td>\n",
       "    </tr>\n",
       "    <tr>\n",
       "      <th>pure_fpml_2</th>\n",
       "      <td>0.48</td>\n",
       "      <td>0.44</td>\n",
       "    </tr>\n",
       "    <tr>\n",
       "      <th>pure_fpml_3</th>\n",
       "      <td>0.74</td>\n",
       "      <td>0.55</td>\n",
       "    </tr>\n",
       "    <tr>\n",
       "      <th>pure_fpml_4</th>\n",
       "      <td>0.66</td>\n",
       "      <td>0.71</td>\n",
       "    </tr>\n",
       "    <tr>\n",
       "      <th>pure_fpml_5</th>\n",
       "      <td>0.84</td>\n",
       "      <td>0.72</td>\n",
       "    </tr>\n",
       "    <tr>\n",
       "      <th>pure_fpml_6</th>\n",
       "      <td>0.85</td>\n",
       "      <td>0.77</td>\n",
       "    </tr>\n",
       "    <tr>\n",
       "      <th>pure_fpml_7</th>\n",
       "      <td>0.87</td>\n",
       "      <td>0.80</td>\n",
       "    </tr>\n",
       "    <tr>\n",
       "      <th>pure_fpmlgr_2</th>\n",
       "      <td>0.55</td>\n",
       "      <td>0.47</td>\n",
       "    </tr>\n",
       "    <tr>\n",
       "      <th>pure_fpmlgr_3</th>\n",
       "      <td>0.75</td>\n",
       "      <td>0.61</td>\n",
       "    </tr>\n",
       "    <tr>\n",
       "      <th>pure_fpmlgr_4</th>\n",
       "      <td>0.81</td>\n",
       "      <td>0.75</td>\n",
       "    </tr>\n",
       "    <tr>\n",
       "      <th>pure_fpmlgr_5</th>\n",
       "      <td>0.88</td>\n",
       "      <td>0.79</td>\n",
       "    </tr>\n",
       "    <tr>\n",
       "      <th>pure_fpmlgr_6</th>\n",
       "      <td>0.86</td>\n",
       "      <td>0.76</td>\n",
       "    </tr>\n",
       "    <tr>\n",
       "      <th>streeter_exp3_2</th>\n",
       "      <td>0.60</td>\n",
       "      <td>0.44</td>\n",
       "    </tr>\n",
       "    <tr>\n",
       "      <th>streeter_exp3_3</th>\n",
       "      <td>0.64</td>\n",
       "      <td>0.57</td>\n",
       "    </tr>\n",
       "    <tr>\n",
       "      <th>streeter_exp3_4</th>\n",
       "      <td>0.71</td>\n",
       "      <td>0.59</td>\n",
       "    </tr>\n",
       "    <tr>\n",
       "      <th>streeter_exp3_5</th>\n",
       "      <td>0.71</td>\n",
       "      <td>0.71</td>\n",
       "    </tr>\n",
       "    <tr>\n",
       "      <th>streeter_exp3_6</th>\n",
       "      <td>0.80</td>\n",
       "      <td>0.73</td>\n",
       "    </tr>\n",
       "    <tr>\n",
       "      <th>streeter_fpml_2x2</th>\n",
       "      <td>0.73</td>\n",
       "      <td>0.65</td>\n",
       "    </tr>\n",
       "    <tr>\n",
       "      <th>streeter_fpml_2x3</th>\n",
       "      <td>0.78</td>\n",
       "      <td>0.75</td>\n",
       "    </tr>\n",
       "    <tr>\n",
       "      <th>streeter_fpml_3x2</th>\n",
       "      <td>0.76</td>\n",
       "      <td>0.69</td>\n",
       "    </tr>\n",
       "    <tr>\n",
       "      <th>streeter_fpmlgr_1x2</th>\n",
       "      <td>0.60</td>\n",
       "      <td>0.53</td>\n",
       "    </tr>\n",
       "    <tr>\n",
       "      <th>streeter_fpmlgr_1x3</th>\n",
       "      <td>0.64</td>\n",
       "      <td>0.61</td>\n",
       "    </tr>\n",
       "    <tr>\n",
       "      <th>streeter_fpmlgr_1x4</th>\n",
       "      <td>0.78</td>\n",
       "      <td>0.70</td>\n",
       "    </tr>\n",
       "    <tr>\n",
       "      <th>streeter_fpmlgr_1x5</th>\n",
       "      <td>0.74</td>\n",
       "      <td>0.71</td>\n",
       "    </tr>\n",
       "    <tr>\n",
       "      <th>streeter_fpmlgr_1x6</th>\n",
       "      <td>0.80</td>\n",
       "      <td>0.69</td>\n",
       "    </tr>\n",
       "    <tr>\n",
       "      <th>streeter_fpmlgr_2x2</th>\n",
       "      <td>0.81</td>\n",
       "      <td>0.71</td>\n",
       "    </tr>\n",
       "    <tr>\n",
       "      <th>streeter_fpmlgr_2x3</th>\n",
       "      <td>0.80</td>\n",
       "      <td>0.78</td>\n",
       "    </tr>\n",
       "    <tr>\n",
       "      <th>streeter_fpmlgr_3x2</th>\n",
       "      <td>0.79</td>\n",
       "      <td>0.78</td>\n",
       "    </tr>\n",
       "  </tbody>\n",
       "</table>\n",
       "</div>"
      ],
      "text/plain": [
       "                                       visible_score  generalization_score\n",
       "optimizer                                                                 \n",
       "HyperOpt_0.2.7_a376313                          0.33                  0.28\n",
       "OpenTuner-BanditA_0.8.7_a376313                 0.34                  0.36\n",
       "OpenTuner-GA-DE_0.8.7_a376313                   0.38                  0.28\n",
       "OpenTuner-GA_0.8.7_a376313                      0.25                  0.22\n",
       "PySOT_0.3.3_a376313                             0.37                  0.30\n",
       "RandomSearch_0.0.8_a376313                      0.19                  0.28\n",
       "Scikit-GBRT-Hedge_0.9.0_a376313                 0.49                  0.40\n",
       "Scikit-GP-Hedge_0.9.0_a376313                   0.53                  0.49\n",
       "Scikit-GP-LCB_0.9.0_a376313                     0.58                  0.35\n",
       "best_2                                          0.77                  0.52\n",
       "best_3                                          0.86                  0.63\n",
       "best_4                                          0.89                  0.66\n",
       "best_5                                          0.91                  0.78\n",
       "best_6                                          0.92                  0.78\n",
       "pure_fpml_2                                     0.48                  0.44\n",
       "pure_fpml_3                                     0.74                  0.55\n",
       "pure_fpml_4                                     0.66                  0.71\n",
       "pure_fpml_5                                     0.84                  0.72\n",
       "pure_fpml_6                                     0.85                  0.77\n",
       "pure_fpml_7                                     0.87                  0.80\n",
       "pure_fpmlgr_2                                   0.55                  0.47\n",
       "pure_fpmlgr_3                                   0.75                  0.61\n",
       "pure_fpmlgr_4                                   0.81                  0.75\n",
       "pure_fpmlgr_5                                   0.88                  0.79\n",
       "pure_fpmlgr_6                                   0.86                  0.76\n",
       "streeter_exp3_2                                 0.60                  0.44\n",
       "streeter_exp3_3                                 0.64                  0.57\n",
       "streeter_exp3_4                                 0.71                  0.59\n",
       "streeter_exp3_5                                 0.71                  0.71\n",
       "streeter_exp3_6                                 0.80                  0.73\n",
       "streeter_fpml_2x2                               0.73                  0.65\n",
       "streeter_fpml_2x3                               0.78                  0.75\n",
       "streeter_fpml_3x2                               0.76                  0.69\n",
       "streeter_fpmlgr_1x2                             0.60                  0.53\n",
       "streeter_fpmlgr_1x3                             0.64                  0.61\n",
       "streeter_fpmlgr_1x4                             0.78                  0.70\n",
       "streeter_fpmlgr_1x5                             0.74                  0.71\n",
       "streeter_fpmlgr_1x6                             0.80                  0.69\n",
       "streeter_fpmlgr_2x2                             0.81                  0.71\n",
       "streeter_fpmlgr_2x3                             0.80                  0.78\n",
       "streeter_fpmlgr_3x2                             0.79                  0.78"
      ]
     },
     "execution_count": 35,
     "metadata": {},
     "output_type": "execute_result"
    }
   ],
   "source": [
    "meta_comparison.run_meta_comparison()\n",
    "results = meta_comparison.summary()\n",
    "results"
   ]
  },
  {
   "cell_type": "code",
   "execution_count": 55,
   "id": "114969cc",
   "metadata": {},
   "outputs": [
    {
     "data": {
      "application/vnd.jupyter.widget-view+json": {
       "model_id": "96ec36cecd3346e6aa1f9012af6a2e86",
       "version_major": 2,
       "version_minor": 0
      },
      "text/plain": [
       "interactive(children=(IntSlider(value=1, description='T', max=7, min=1), Output()), _dom_classes=('widget-inte…"
      ]
     },
     "metadata": {},
     "output_type": "display_data"
    }
   ],
   "source": [
    "utils.visualise_by_budget(results)"
   ]
  }
 ],
 "metadata": {
  "colab": {
   "name": "rough.ipynb",
   "provenance": []
  },
  "kernelspec": {
   "display_name": "Python 3 (ipykernel)",
   "language": "python",
   "name": "python3"
  },
  "language_info": {
   "codemirror_mode": {
    "name": "ipython",
    "version": 3
   },
   "file_extension": ".py",
   "mimetype": "text/x-python",
   "name": "python",
   "nbconvert_exporter": "python",
   "pygments_lexer": "ipython3",
   "version": "3.9.7"
  }
 },
 "nbformat": 4,
 "nbformat_minor": 5
}
