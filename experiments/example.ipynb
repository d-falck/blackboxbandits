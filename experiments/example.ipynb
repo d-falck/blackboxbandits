{
 "cells": [
  {
   "cell_type": "markdown",
   "id": "9e119645",
   "metadata": {
    "id": "9e119645"
   },
   "source": [
    "# Rough example usage"
   ]
  },
  {
   "cell_type": "code",
   "execution_count": 1,
   "id": "d3cbd1cf-a6fc-4282-8d6a-e5ae0c71910c",
   "metadata": {
    "colab": {
     "base_uri": "https://localhost:8080/",
     "height": 368
    },
    "id": "d3cbd1cf-a6fc-4282-8d6a-e5ae0c71910c",
    "outputId": "e6da4e31-46f0-4b85-d618-d213876640d3"
   },
   "outputs": [],
   "source": [
    "%load_ext autoreload\n",
    "%autoreload 2\n",
    "\n",
    "from blackboxbandits import compare, bandits, meta, utils\n",
    "import pandas as pd\n",
    "\n",
    "pd.set_option('display.max_rows', None)\n",
    "pd.options.display.float_format = '{:20,.2f}'.format"
   ]
  },
  {
   "cell_type": "markdown",
   "id": "bdf2828e-d81b-40e3-98e0-26cd64b5375f",
   "metadata": {
    "tags": []
   },
   "source": [
    "## Base optimizer comparison"
   ]
  },
  {
   "cell_type": "markdown",
   "id": "5cf5caed",
   "metadata": {},
   "source": [
    "### Run a new comparison"
   ]
  },
  {
   "cell_type": "code",
   "execution_count": null,
   "id": "fc58b8c1-6bf1-4460-b24c-1e3cc9135cd4",
   "metadata": {},
   "outputs": [],
   "source": [
    "import pmlb\n",
    "dataset_names = list(map(lambda x: \"clf-\"+x.replace(\"_\",\"-\"), pmlb.classification_dataset_names)) \\\n",
    "                + list(map(lambda x: \"reg-\"+x.replace(\"_\",\"-\"), pmlb.regression_dataset_names))"
   ]
  },
  {
   "cell_type": "code",
   "execution_count": null,
   "id": "da513a7f-a9d2-40a8-8a45-a3e26f38db1a",
   "metadata": {},
   "outputs": [],
   "source": [
    "base_comparison = compare.BaseOptimizerComparison(\n",
    "    optimizers=[\"HyperOpt\", \"OpenTuner-BanditA\", \"OpenTuner-GA\",\n",
    "                \"OpenTuner-GA-DE\", \"PySOT\", \"RandomSearch\",\n",
    "                \"Scikit-GBRT-Hedge\", \"Scikit-GP-Hedge\", \"Scikit-GP-LCB\"],\n",
    "    classifiers=[\"MLP-adam\",\"lasso\"],\n",
    "    datasets = dataset_names,\n",
    "    metrics=[\"mse\", \"nll\"],\n",
    "    num_calls=20,\n",
    "    num_repetitions=1,\n",
    "    db_root = \"./saved_results\",\n",
    "    datasets_root=\"./penn_datasets\",\n",
    "    parallel = True\n",
    ")"
   ]
  },
  {
   "cell_type": "code",
   "execution_count": null,
   "id": "d0775e03-cbb3-4b4b-8f12-54be6ee6492f",
   "metadata": {},
   "outputs": [],
   "source": [
    "base_comparison.run()\n",
    "dbid = base_comparison.get_dbid()\n",
    "dbid"
   ]
  },
  {
   "cell_type": "markdown",
   "id": "05aab075",
   "metadata": {},
   "source": [
    "### View data from a previous comparison"
   ]
  },
  {
   "cell_type": "code",
   "execution_count": 2,
   "id": "9bc216b4",
   "metadata": {},
   "outputs": [],
   "source": [
    "DBID = \"bo_20220228_124924_b7rkpeqg\""
   ]
  },
  {
   "cell_type": "code",
   "execution_count": null,
   "id": "9b36406f",
   "metadata": {},
   "outputs": [],
   "source": [
    "df = compare.BaseOptimizerComparison.get_results_for_dbid(db_root=\"./saved_results\", dbid=DBID)"
   ]
  },
  {
   "cell_type": "markdown",
   "id": "62a908ac-fba8-4079-863b-c0c5f884959e",
   "metadata": {
    "tags": []
   },
   "source": [
    "## Meta optimizer comparison"
   ]
  },
  {
   "cell_type": "markdown",
   "id": "86fb2c3d",
   "metadata": {},
   "source": [
    "### Set up meta optimizers"
   ]
  },
  {
   "cell_type": "code",
   "execution_count": 3,
   "id": "a85c708c",
   "metadata": {},
   "outputs": [],
   "source": [
    "S = 1\n",
    "GAMMA = 0.2"
   ]
  },
  {
   "cell_type": "code",
   "execution_count": 10,
   "id": "16ce7ba4",
   "metadata": {},
   "outputs": [],
   "source": [
    "factors = [(a,b) for a in range(1,7) for b in range(1,7) if a*b < 7]\n",
    "\n",
    "best = {\n",
    "    f\"best_{T}\": meta.BestFixedTAlgos(T=T)\n",
    "    for T in range(2,7)}\n",
    "fpml_fixedexp = {\n",
    "    f\"fpml_fixedexp_{T}\": meta.BanditMetaOptimizer(\n",
    "        bandit_type=bandits.FPMLFixed,\n",
    "        T=T, S=S)\n",
    "    for T in range(2,7)}\n",
    "fpml_probexp = {\n",
    "    f\"fpml_probexp_{T}\": meta.BanditMetaOptimizer(\n",
    "        bandit_type=bandits.FPMLProb,\n",
    "        T=T, gamma=GAMMA)\n",
    "    for T in range(2,7)}\n",
    "fpml_gr_noexp = {\n",
    "    f\"fpml_gr_noexp_{T}\": meta.BanditMetaOptimizer(\n",
    "        bandit_type=bandits.FPMLWithGR,\n",
    "        T=T, gamma=0)\n",
    "    for T in range(2,7)}\n",
    "fpml_gr_probexp = {\n",
    "    f\"fpml_gr_probexp_{T}\": meta.BanditMetaOptimizer(\n",
    "        bandit_type=bandits.FPMLWithGR,\n",
    "        T=T, gamma=GAMMA)\n",
    "    for T in range(2,7)}\n",
    "streeter_fpml = {\n",
    "    f\"streeter_fpml_{a}x{b}\": meta.BanditMetaOptimizer(\n",
    "        bandit_type=bandits.StreeterFPML,\n",
    "        T=a*b, T_1=a, T_2=b, gamma=GAMMA, gr=True)\n",
    "    for a,b in factors}\n",
    "streeter_exp3 = {\n",
    "    f\"streeter_exp3_{T}\": meta.BanditMetaOptimizer(\n",
    "        bandit_type=bandits.Streeter,\n",
    "        T=T)\n",
    "    for T in range(2,7)}\n",
    "\n",
    "meta_optimizers = {**fpml_fixedexp, **fpml_probexp, **fpml_gr_noexp,\n",
    "                   **fpml_gr_probexp, **streeter_fpml, **streeter_exp3, **best}"
   ]
  },
  {
   "cell_type": "markdown",
   "id": "933de3c3",
   "metadata": {},
   "source": [
    "### Setup and run meta comparison"
   ]
  },
  {
   "cell_type": "code",
   "execution_count": 13,
   "id": "4419bfb0",
   "metadata": {
    "id": "4419bfb0"
   },
   "outputs": [],
   "source": [
    "meta_comparison = compare.MetaOptimizerComparison \\\n",
    "                         .from_precomputed_base_comparison(\n",
    "    dbid=DBID,\n",
    "    meta_optimizers=meta_optimizers,\n",
    "    db_root = \"./saved_results\",\n",
    "    parallel_meta = False,\n",
    "    num_meta_repetitions = 1\n",
    ")"
   ]
  },
  {
   "cell_type": "code",
   "execution_count": 14,
   "id": "cf152acf",
   "metadata": {},
   "outputs": [
    {
     "name": "stdout",
     "output_type": "stream",
     "text": [
      "Starting meta-comparison, repetition 1 of 1\n",
      "Running meta-optimizer fpml_fixedexp_2 on base study 1 of 1\n",
      "Running meta-optimizer fpml_fixedexp_3 on base study 1 of 1\n",
      "Running meta-optimizer fpml_fixedexp_4 on base study 1 of 1\n",
      "Running meta-optimizer fpml_fixedexp_5 on base study 1 of 1\n",
      "Running meta-optimizer fpml_fixedexp_6 on base study 1 of 1\n",
      "Running meta-optimizer fpml_probexp_2 on base study 1 of 1\n",
      "Running meta-optimizer fpml_probexp_3 on base study 1 of 1\n",
      "Running meta-optimizer fpml_probexp_4 on base study 1 of 1\n",
      "Running meta-optimizer fpml_probexp_5 on base study 1 of 1\n",
      "Running meta-optimizer fpml_probexp_6 on base study 1 of 1\n",
      "Running meta-optimizer fpml_gr_noexp_2 on base study 1 of 1\n",
      "Running meta-optimizer fpml_gr_noexp_3 on base study 1 of 1\n",
      "Running meta-optimizer fpml_gr_noexp_4 on base study 1 of 1\n",
      "Running meta-optimizer fpml_gr_noexp_5 on base study 1 of 1\n",
      "Running meta-optimizer fpml_gr_noexp_6 on base study 1 of 1\n",
      "Running meta-optimizer fpml_gr_probexp_2 on base study 1 of 1\n",
      "Running meta-optimizer fpml_gr_probexp_3 on base study 1 of 1\n",
      "Running meta-optimizer fpml_gr_probexp_4 on base study 1 of 1\n",
      "Running meta-optimizer fpml_gr_probexp_5 on base study 1 of 1\n",
      "Running meta-optimizer fpml_gr_probexp_6 on base study 1 of 1\n",
      "Running meta-optimizer streeter_fpml_1x1 on base study 1 of 1\n",
      "Running meta-optimizer streeter_fpml_1x2 on base study 1 of 1\n",
      "Running meta-optimizer streeter_fpml_1x3 on base study 1 of 1\n",
      "Running meta-optimizer streeter_fpml_1x4 on base study 1 of 1\n",
      "Running meta-optimizer streeter_fpml_1x5 on base study 1 of 1\n",
      "Running meta-optimizer streeter_fpml_1x6 on base study 1 of 1\n",
      "Running meta-optimizer streeter_fpml_2x1 on base study 1 of 1\n",
      "Running meta-optimizer streeter_fpml_2x2 on base study 1 of 1\n",
      "Running meta-optimizer streeter_fpml_2x3 on base study 1 of 1\n",
      "Running meta-optimizer streeter_fpml_3x1 on base study 1 of 1\n",
      "Running meta-optimizer streeter_fpml_3x2 on base study 1 of 1\n",
      "Running meta-optimizer streeter_fpml_4x1 on base study 1 of 1\n",
      "Running meta-optimizer streeter_fpml_5x1 on base study 1 of 1\n",
      "Running meta-optimizer streeter_fpml_6x1 on base study 1 of 1\n",
      "Running meta-optimizer streeter_exp3_2 on base study 1 of 1\n",
      "Running meta-optimizer streeter_exp3_3 on base study 1 of 1\n",
      "Running meta-optimizer streeter_exp3_4 on base study 1 of 1\n",
      "Running meta-optimizer streeter_exp3_5 on base study 1 of 1\n",
      "Running meta-optimizer streeter_exp3_6 on base study 1 of 1\n",
      "Running meta-optimizer best_2 on base study 1 of 1\n",
      "Running meta-optimizer best_3 on base study 1 of 1\n",
      "Running meta-optimizer best_4 on base study 1 of 1\n",
      "Running meta-optimizer best_5 on base study 1 of 1\n",
      "Running meta-optimizer best_6 on base study 1 of 1\n"
     ]
    },
    {
     "ename": "KeyError",
     "evalue": "'optimizer'",
     "output_type": "error",
     "traceback": [
      "\u001b[0;31m---------------------------------------------------------------------------\u001b[0m",
      "\u001b[0;31mKeyError\u001b[0m                                  Traceback (most recent call last)",
      "\u001b[0;32m/tmp/ipykernel_3470/790045159.py\u001b[0m in \u001b[0;36m<module>\u001b[0;34m\u001b[0m\n\u001b[1;32m      1\u001b[0m \u001b[0mmeta_comparison\u001b[0m\u001b[0;34m.\u001b[0m\u001b[0mrun_meta_comparison\u001b[0m\u001b[0;34m(\u001b[0m\u001b[0;34m)\u001b[0m\u001b[0;34m\u001b[0m\u001b[0;34m\u001b[0m\u001b[0m\n\u001b[0;32m----> 2\u001b[0;31m \u001b[0mresults\u001b[0m \u001b[0;34m=\u001b[0m \u001b[0mmeta_comparison\u001b[0m\u001b[0;34m.\u001b[0m\u001b[0msummary\u001b[0m\u001b[0;34m(\u001b[0m\u001b[0;34m)\u001b[0m\u001b[0;34m\u001b[0m\u001b[0;34m\u001b[0m\u001b[0m\n\u001b[0m\u001b[1;32m      3\u001b[0m \u001b[0mfull_details\u001b[0m \u001b[0;34m=\u001b[0m \u001b[0mmeta_comparison\u001b[0m\u001b[0;34m.\u001b[0m\u001b[0mfull_results\u001b[0m\u001b[0;34m(\u001b[0m\u001b[0;34m)\u001b[0m\u001b[0;34m\u001b[0m\u001b[0;34m\u001b[0m\u001b[0m\n\u001b[1;32m      4\u001b[0m \u001b[0mresults\u001b[0m\u001b[0;34m.\u001b[0m\u001b[0mto_csv\u001b[0m\u001b[0;34m(\u001b[0m\u001b[0;34m\"results.csv\"\u001b[0m\u001b[0;34m)\u001b[0m\u001b[0;34m\u001b[0m\u001b[0;34m\u001b[0m\u001b[0m\n\u001b[1;32m      5\u001b[0m \u001b[0mfull_details\u001b[0m\u001b[0;34m.\u001b[0m\u001b[0mto_csv\u001b[0m\u001b[0;34m(\u001b[0m\u001b[0;34m\"full_details.csv\"\u001b[0m\u001b[0;34m)\u001b[0m\u001b[0;34m\u001b[0m\u001b[0;34m\u001b[0m\u001b[0m\n",
      "\u001b[0;32m~/blackboxbandits/src/blackboxbandits/compare.py\u001b[0m in \u001b[0;36msummary\u001b[0;34m(self)\u001b[0m\n\u001b[1;32m    490\u001b[0m             \u001b[0mA\u001b[0m \u001b[0mdataframe\u001b[0m \u001b[0mcontaining\u001b[0m \u001b[0mvisible\u001b[0m \u001b[0;32mand\u001b[0m \u001b[0mgeneralization\u001b[0m \u001b[0mscores\u001b[0m\u001b[0;34m\u001b[0m\u001b[0;34m\u001b[0m\u001b[0m\n\u001b[1;32m    491\u001b[0m             \u001b[0;32mfor\u001b[0m \u001b[0meach\u001b[0m \u001b[0mbase\u001b[0m \u001b[0;32mand\u001b[0m \u001b[0meach\u001b[0m \u001b[0mmeta\u001b[0m \u001b[0moptimizer\u001b[0m \u001b[0maveraged\u001b[0m \u001b[0mover\u001b[0m \u001b[0mall\u001b[0m \u001b[0mtasks\u001b[0m\u001b[0;34m.\u001b[0m\u001b[0;34m\u001b[0m\u001b[0;34m\u001b[0m\u001b[0m\n\u001b[0;32m--> 492\u001b[0;31m         \"\"\"\n\u001b[0m\u001b[1;32m    493\u001b[0m         \u001b[0;32mreturn\u001b[0m \u001b[0mself\u001b[0m\u001b[0;34m.\u001b[0m\u001b[0mfull_results\u001b[0m\u001b[0;34m(\u001b[0m\u001b[0;34m)\u001b[0m\u001b[0;34m.\u001b[0m\u001b[0mgroupby\u001b[0m\u001b[0;34m(\u001b[0m\u001b[0;34m[\u001b[0m\u001b[0;34m\"optimizer\"\u001b[0m\u001b[0;34m]\u001b[0m\u001b[0;34m)\u001b[0m\u001b[0;34m.\u001b[0m\u001b[0mmean\u001b[0m\u001b[0;34m(\u001b[0m\u001b[0;34m)\u001b[0m\u001b[0;34m\u001b[0m\u001b[0;34m\u001b[0m\u001b[0m\n\u001b[1;32m    494\u001b[0m \u001b[0;34m\u001b[0m\u001b[0m\n",
      "\u001b[0;32m~/blackboxbandits/src/blackboxbandits/compare.py\u001b[0m in \u001b[0;36mfull_results\u001b[0;34m(self)\u001b[0m\n\u001b[1;32m    475\u001b[0m              \u001b[0;34m\"Must complete comparison before getting results\"\u001b[0m\u001b[0;34m\u001b[0m\u001b[0;34m\u001b[0m\u001b[0m\n\u001b[1;32m    476\u001b[0m         \u001b[0mbase_results\u001b[0m \u001b[0;34m=\u001b[0m \u001b[0mself\u001b[0m\u001b[0;34m.\u001b[0m\u001b[0m_base_comparison_data\u001b[0m\u001b[0;34m.\u001b[0m\u001b[0mxs\u001b[0m\u001b[0;34m(\u001b[0m\u001b[0;34m\"score\"\u001b[0m\u001b[0;34m,\u001b[0m \u001b[0mlevel\u001b[0m\u001b[0;34m=\u001b[0m\u001b[0;36m1\u001b[0m\u001b[0;34m,\u001b[0m \u001b[0maxis\u001b[0m\u001b[0;34m=\u001b[0m\u001b[0;36m1\u001b[0m\u001b[0;34m)\u001b[0m\u001b[0;31m \u001b[0m\u001b[0;31m\\\u001b[0m\u001b[0;34m\u001b[0m\u001b[0;34m\u001b[0m\u001b[0m\n\u001b[0;32m--> 477\u001b[0;31m                                         \u001b[0;34m.\u001b[0m\u001b[0mrename\u001b[0m\u001b[0;34m(\u001b[0m\u001b[0mcolumns\u001b[0m\u001b[0;34m=\u001b[0m\u001b[0;32mlambda\u001b[0m \u001b[0mx\u001b[0m\u001b[0;34m:\u001b[0m \u001b[0mx\u001b[0m\u001b[0;34m+\u001b[0m\u001b[0;34m\"_score\"\u001b[0m\u001b[0;34m)\u001b[0m\u001b[0;34m\u001b[0m\u001b[0;34m\u001b[0m\u001b[0m\n\u001b[0m\u001b[1;32m    478\u001b[0m         \u001b[0;32mreturn\u001b[0m \u001b[0mpd\u001b[0m\u001b[0;34m.\u001b[0m\u001b[0mconcat\u001b[0m\u001b[0;34m(\u001b[0m\u001b[0;34m[\u001b[0m\u001b[0mbase_results\u001b[0m\u001b[0;34m,\u001b[0m \u001b[0mself\u001b[0m\u001b[0;34m.\u001b[0m\u001b[0m_all_meta_results\u001b[0m\u001b[0;34m]\u001b[0m\u001b[0;34m)\u001b[0m\u001b[0;31m \u001b[0m\u001b[0;31m\\\u001b[0m\u001b[0;34m\u001b[0m\u001b[0;34m\u001b[0m\u001b[0m\n\u001b[1;32m    479\u001b[0m                 \u001b[0;34m.\u001b[0m\u001b[0mgroupby\u001b[0m\u001b[0;34m(\u001b[0m\u001b[0;34m[\u001b[0m\u001b[0;34m\"optimizer\"\u001b[0m\u001b[0;34m,\u001b[0m \u001b[0;34m\"function\"\u001b[0m\u001b[0;34m]\u001b[0m\u001b[0;34m)\u001b[0m\u001b[0;34m.\u001b[0m\u001b[0mmean\u001b[0m\u001b[0;34m(\u001b[0m\u001b[0;34m)\u001b[0m\u001b[0;31m \u001b[0m\u001b[0;31m\\\u001b[0m\u001b[0;34m\u001b[0m\u001b[0;34m\u001b[0m\u001b[0m\n",
      "\u001b[0;32m~/miniconda3/envs/bandits/lib/python3.9/site-packages/pandas/core/frame.py\u001b[0m in \u001b[0;36mgroupby\u001b[0;34m(self, by, axis, level, as_index, sort, group_keys, squeeze, observed, dropna)\u001b[0m\n\u001b[1;32m   7712\u001b[0m         \u001b[0;31m# error: Argument \"squeeze\" to \"DataFrameGroupBy\" has incompatible type\u001b[0m\u001b[0;34m\u001b[0m\u001b[0;34m\u001b[0m\u001b[0m\n\u001b[1;32m   7713\u001b[0m         \u001b[0;31m# \"Union[bool, NoDefault]\"; expected \"bool\"\u001b[0m\u001b[0;34m\u001b[0m\u001b[0;34m\u001b[0m\u001b[0m\n\u001b[0;32m-> 7714\u001b[0;31m         return DataFrameGroupBy(\n\u001b[0m\u001b[1;32m   7715\u001b[0m             \u001b[0mobj\u001b[0m\u001b[0;34m=\u001b[0m\u001b[0mself\u001b[0m\u001b[0;34m,\u001b[0m\u001b[0;34m\u001b[0m\u001b[0;34m\u001b[0m\u001b[0m\n\u001b[1;32m   7716\u001b[0m             \u001b[0mkeys\u001b[0m\u001b[0;34m=\u001b[0m\u001b[0mby\u001b[0m\u001b[0;34m,\u001b[0m\u001b[0;34m\u001b[0m\u001b[0;34m\u001b[0m\u001b[0m\n",
      "\u001b[0;32m~/miniconda3/envs/bandits/lib/python3.9/site-packages/pandas/core/groupby/groupby.py\u001b[0m in \u001b[0;36m__init__\u001b[0;34m(self, obj, keys, axis, level, grouper, exclusions, selection, as_index, sort, group_keys, squeeze, observed, mutated, dropna)\u001b[0m\n\u001b[1;32m    880\u001b[0m             \u001b[0;32mfrom\u001b[0m \u001b[0mpandas\u001b[0m\u001b[0;34m.\u001b[0m\u001b[0mcore\u001b[0m\u001b[0;34m.\u001b[0m\u001b[0mgroupby\u001b[0m\u001b[0;34m.\u001b[0m\u001b[0mgrouper\u001b[0m \u001b[0;32mimport\u001b[0m \u001b[0mget_grouper\u001b[0m\u001b[0;34m\u001b[0m\u001b[0;34m\u001b[0m\u001b[0m\n\u001b[1;32m    881\u001b[0m \u001b[0;34m\u001b[0m\u001b[0m\n\u001b[0;32m--> 882\u001b[0;31m             grouper, exclusions, obj = get_grouper(\n\u001b[0m\u001b[1;32m    883\u001b[0m                 \u001b[0mobj\u001b[0m\u001b[0;34m,\u001b[0m\u001b[0;34m\u001b[0m\u001b[0;34m\u001b[0m\u001b[0m\n\u001b[1;32m    884\u001b[0m                 \u001b[0mkeys\u001b[0m\u001b[0;34m,\u001b[0m\u001b[0;34m\u001b[0m\u001b[0;34m\u001b[0m\u001b[0m\n",
      "\u001b[0;32m~/miniconda3/envs/bandits/lib/python3.9/site-packages/pandas/core/groupby/grouper.py\u001b[0m in \u001b[0;36mget_grouper\u001b[0;34m(obj, key, axis, level, sort, observed, mutated, validate, dropna)\u001b[0m\n\u001b[1;32m    880\u001b[0m                 \u001b[0min_axis\u001b[0m\u001b[0;34m,\u001b[0m \u001b[0mlevel\u001b[0m\u001b[0;34m,\u001b[0m \u001b[0mgpr\u001b[0m \u001b[0;34m=\u001b[0m \u001b[0;32mFalse\u001b[0m\u001b[0;34m,\u001b[0m \u001b[0mgpr\u001b[0m\u001b[0;34m,\u001b[0m \u001b[0;32mNone\u001b[0m\u001b[0;34m\u001b[0m\u001b[0;34m\u001b[0m\u001b[0m\n\u001b[1;32m    881\u001b[0m             \u001b[0;32melse\u001b[0m\u001b[0;34m:\u001b[0m\u001b[0;34m\u001b[0m\u001b[0;34m\u001b[0m\u001b[0m\n\u001b[0;32m--> 882\u001b[0;31m                 \u001b[0;32mraise\u001b[0m \u001b[0mKeyError\u001b[0m\u001b[0;34m(\u001b[0m\u001b[0mgpr\u001b[0m\u001b[0;34m)\u001b[0m\u001b[0;34m\u001b[0m\u001b[0;34m\u001b[0m\u001b[0m\n\u001b[0m\u001b[1;32m    883\u001b[0m         \u001b[0;32melif\u001b[0m \u001b[0misinstance\u001b[0m\u001b[0;34m(\u001b[0m\u001b[0mgpr\u001b[0m\u001b[0;34m,\u001b[0m \u001b[0mGrouper\u001b[0m\u001b[0;34m)\u001b[0m \u001b[0;32mand\u001b[0m \u001b[0mgpr\u001b[0m\u001b[0;34m.\u001b[0m\u001b[0mkey\u001b[0m \u001b[0;32mis\u001b[0m \u001b[0;32mnot\u001b[0m \u001b[0;32mNone\u001b[0m\u001b[0;34m:\u001b[0m\u001b[0;34m\u001b[0m\u001b[0;34m\u001b[0m\u001b[0m\n\u001b[1;32m    884\u001b[0m             \u001b[0;31m# Add key to exclusions\u001b[0m\u001b[0;34m\u001b[0m\u001b[0;34m\u001b[0m\u001b[0m\n",
      "\u001b[0;31mKeyError\u001b[0m: 'optimizer'"
     ]
    }
   ],
   "source": [
    "meta_comparison.run_meta_comparison()\n",
    "results = meta_comparison.summary()\n",
    "full_details = meta_comparison.full_results()\n",
    "results.to_csv(\"results.csv\")\n",
    "full_details.to_csv(\"full_details.csv\")\n",
    "results"
   ]
  },
  {
   "cell_type": "code",
   "execution_count": 18,
   "id": "c47ada8c-d43c-463e-8333-fb7fa2aa503c",
   "metadata": {},
   "outputs": [],
   "source": [
    "import pickle\n",
    "pickle.dump(meta_comparison, open(\"meta_comparison.p\", \"wb\"))"
   ]
  },
  {
   "cell_type": "code",
   "execution_count": null,
   "id": "114969cc",
   "metadata": {},
   "outputs": [],
   "source": [
    "utils.visualise_by_budget(results)"
   ]
  }
 ],
 "metadata": {
  "colab": {
   "name": "rough.ipynb",
   "provenance": []
  },
  "kernelspec": {
   "display_name": "Python 3 (ipykernel)",
   "language": "python",
   "name": "python3"
  },
  "language_info": {
   "codemirror_mode": {
    "name": "ipython",
    "version": 3
   },
   "file_extension": ".py",
   "mimetype": "text/x-python",
   "name": "python",
   "nbconvert_exporter": "python",
   "pygments_lexer": "ipython3",
   "version": "3.9.7"
  }
 },
 "nbformat": 4,
 "nbformat_minor": 5
}
