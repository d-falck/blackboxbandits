{
 "cells": [
  {
   "cell_type": "markdown",
   "id": "9e119645",
   "metadata": {
    "id": "9e119645"
   },
   "source": [
    "# Rough example usage"
   ]
  },
  {
   "cell_type": "code",
   "execution_count": 16,
   "id": "d3cbd1cf-a6fc-4282-8d6a-e5ae0c71910c",
   "metadata": {
    "colab": {
     "base_uri": "https://localhost:8080/",
     "height": 368
    },
    "id": "d3cbd1cf-a6fc-4282-8d6a-e5ae0c71910c",
    "outputId": "e6da4e31-46f0-4b85-d618-d213876640d3"
   },
   "outputs": [
    {
     "name": "stdout",
     "output_type": "stream",
     "text": [
      "The autoreload extension is already loaded. To reload it, use:\n",
      "  %reload_ext autoreload\n"
     ]
    }
   ],
   "source": [
    "%load_ext autoreload\n",
    "%autoreload 2\n",
    "\n",
    "from blackboxbandits import compare, bandits, meta, utils\n",
    "import pandas as pd\n",
    "\n",
    "pd.set_option('display.max_rows', None)\n",
    "pd.options.display.float_format = '{:20,.2f}'.format"
   ]
  },
  {
   "cell_type": "markdown",
   "id": "bdf2828e-d81b-40e3-98e0-26cd64b5375f",
   "metadata": {
    "tags": []
   },
   "source": [
    "## Base optimizer comparison"
   ]
  },
  {
   "cell_type": "markdown",
   "id": "5cf5caed",
   "metadata": {},
   "source": [
    "### Run a new comparison"
   ]
  },
  {
   "cell_type": "code",
   "execution_count": 2,
   "id": "fc58b8c1-6bf1-4460-b24c-1e3cc9135cd4",
   "metadata": {},
   "outputs": [],
   "source": [
    "import pmlb\n",
    "dataset_names = list(map(lambda x: \"clf-\"+x.replace(\"_\",\"-\"), pmlb.classification_dataset_names)) \\\n",
    "                + list(map(lambda x: \"reg-\"+x.replace(\"_\",\"-\"), pmlb.regression_dataset_names))"
   ]
  },
  {
   "cell_type": "code",
   "execution_count": 3,
   "id": "da513a7f-a9d2-40a8-8a45-a3e26f38db1a",
   "metadata": {},
   "outputs": [],
   "source": [
    "base_comparison = compare.BaseOptimizerComparison(\n",
    "    optimizers=[\"HyperOpt\", \"OpenTuner-BanditA\", \"OpenTuner-GA\",\n",
    "                \"OpenTuner-GA-DE\", \"PySOT\", \"RandomSearch\",\n",
    "                \"Scikit-GBRT-Hedge\", \"Scikit-GP-Hedge\", \"Scikit-GP-LCB\"],\n",
    "    classifiers=[\"MLP-adam\",\"lasso\"],\n",
    "    datasets = dataset_names,\n",
    "    metrics=[\"mse\", \"nll\"],\n",
    "    num_calls=20,\n",
    "    num_repetitions=1,\n",
    "    db_root = \"./saved_results\",\n",
    "    datasets_root=\"./penn_datasets\",\n",
    "    parallel = True\n",
    ")"
   ]
  },
  {
   "cell_type": "code",
   "execution_count": null,
   "id": "d0775e03-cbb3-4b4b-8f12-54be6ee6492f",
   "metadata": {},
   "outputs": [],
   "source": [
    "base_comparison.run()\n",
    "dbid = base_comparison.get_dbid()\n",
    "dbid"
   ]
  },
  {
   "cell_type": "markdown",
   "id": "05aab075",
   "metadata": {},
   "source": [
    "### View data from a previous comparison"
   ]
  },
  {
   "cell_type": "code",
   "execution_count": null,
   "id": "9bc216b4",
   "metadata": {},
   "outputs": [],
   "source": [
    "DBID = \"bo_20220228_124924_b7rkpeqg\""
   ]
  },
  {
   "cell_type": "code",
   "execution_count": null,
   "id": "9b36406f",
   "metadata": {},
   "outputs": [],
   "source": [
    "df = compare.BaseOptimizerComparison.get_results_for_dbid(db_root=\"./saved_results\", dbid=DBID)"
   ]
  },
  {
   "cell_type": "markdown",
   "id": "62a908ac-fba8-4079-863b-c0c5f884959e",
   "metadata": {
    "jp-MarkdownHeadingCollapsed": true,
    "tags": []
   },
   "source": [
    "## Meta optimizer comparison"
   ]
  },
  {
   "cell_type": "markdown",
   "id": "86fb2c3d",
   "metadata": {},
   "source": [
    "### Set up meta optimizers"
   ]
  },
  {
   "cell_type": "code",
   "execution_count": null,
   "id": "a85c708c",
   "metadata": {},
   "outputs": [],
   "source": [
    "S = 1\n",
    "GAMMA = 0.2"
   ]
  },
  {
   "cell_type": "code",
   "execution_count": null,
   "id": "16ce7ba4",
   "metadata": {},
   "outputs": [],
   "source": [
    "factors = [(a,b) for a in range(1,7) for b in range(1,7) if a*b < 7]\n",
    "\n",
    "best = {\n",
    "    f\"best_{T}\": meta.BestFixedTAlgos(T=T)\n",
    "    for T in range(2,7)}\n",
    "fpml_fixedexp = {\n",
    "    f\"fpml_fixedexp_{T}\": meta.BanditMetaOptimizer(\n",
    "        bandit_type=bandits.FPMLFixed,\n",
    "        T=T, S=S)\n",
    "    for T in range(2,7)}\n",
    "fpml_probexp = {\n",
    "    f\"fpml_probexp_{T}\": meta.BanditMetaOptimizer(\n",
    "        bandit_type=bandits.FPMLProb,\n",
    "        T=T, gamma=GAMMA)\n",
    "    for T in range(2,7)}\n",
    "fpml_gr_noexp = {\n",
    "    f\"fpml_gr_noexp_{T}\": meta.BanditMetaOptimizer(\n",
    "        bandit_type=bandits.FPMLWithGR,\n",
    "        T=T, gamma=0)\n",
    "    for T in range(2,7)}\n",
    "fpml_gr_probexp = {\n",
    "    f\"fpml_gr_probexp_{T}\": meta.BanditMetaOptimizer(\n",
    "        bandit_type=bandits.FPMLWithGR,\n",
    "        T=T, gamma=GAMMA)\n",
    "    for T in range(2,7)}\n",
    "streeter_fpml = {\n",
    "    f\"streeter_fpml_{a}x{b}\": meta.BanditMetaOptimizer(\n",
    "        bandit_type=bandits.StreeterFPML,\n",
    "        T=a*b, T_1=a, T_2=b, gamma=GAMMA, gr=True)\n",
    "    for a,b in factors}\n",
    "streeter_exp3 = {\n",
    "    f\"streeter_exp3_{T}\": meta.BanditMetaOptimizer(\n",
    "        bandit_type=bandits.Streeter,\n",
    "        T=T)\n",
    "    for T in range(2,7)}\n",
    "\n",
    "meta_optimizers = {**best, **fpml_fixedexp, **fpml_probexp, **fpml_gr_noexp,\n",
    "                   **fpml_gr_probexp, **streeter_fpml, **streeter_exp3}"
   ]
  },
  {
   "cell_type": "markdown",
   "id": "933de3c3",
   "metadata": {},
   "source": [
    "### Setup and run meta comparison"
   ]
  },
  {
   "cell_type": "code",
   "execution_count": 18,
   "id": "4419bfb0",
   "metadata": {
    "id": "4419bfb0"
   },
   "outputs": [
    {
     "ename": "NameError",
     "evalue": "name 'meta_optimizers' is not defined",
     "output_type": "error",
     "traceback": [
      "\u001b[0;31m---------------------------------------------------------------------------\u001b[0m",
      "\u001b[0;31mNameError\u001b[0m                                 Traceback (most recent call last)",
      "\u001b[1;32m/Users/dfalck/Desktop/Research/blackboxbandits/experiments/example.ipynb Cell 12'\u001b[0m in \u001b[0;36m<module>\u001b[0;34m\u001b[0m\n\u001b[1;32m      <a href='vscode-notebook-cell:/Users/dfalck/Desktop/Research/blackboxbandits/experiments/example.ipynb#ch0000010?line=0'>1</a>\u001b[0m meta_comparison \u001b[39m=\u001b[39m compare\u001b[39m.\u001b[39mMetaOptimizerComparison\u001b[39m.\u001b[39mfrom_precomputed_base_comparison(\n\u001b[1;32m      <a href='vscode-notebook-cell:/Users/dfalck/Desktop/Research/blackboxbandits/experiments/example.ipynb#ch0000010?line=1'>2</a>\u001b[0m     dbid\u001b[39m=\u001b[39mDBID,\n\u001b[0;32m----> <a href='vscode-notebook-cell:/Users/dfalck/Desktop/Research/blackboxbandits/experiments/example.ipynb#ch0000010?line=2'>3</a>\u001b[0m     meta_optimizers\u001b[39m=\u001b[39mmeta_optimizers,\n\u001b[1;32m      <a href='vscode-notebook-cell:/Users/dfalck/Desktop/Research/blackboxbandits/experiments/example.ipynb#ch0000010?line=3'>4</a>\u001b[0m     db_root \u001b[39m=\u001b[39m \u001b[39m\"\u001b[39m\u001b[39m./data\u001b[39m\u001b[39m\"\u001b[39m,\n\u001b[1;32m      <a href='vscode-notebook-cell:/Users/dfalck/Desktop/Research/blackboxbandits/experiments/example.ipynb#ch0000010?line=4'>5</a>\u001b[0m     parallel_meta \u001b[39m=\u001b[39m \u001b[39mFalse\u001b[39;00m,\n\u001b[1;32m      <a href='vscode-notebook-cell:/Users/dfalck/Desktop/Research/blackboxbandits/experiments/example.ipynb#ch0000010?line=5'>6</a>\u001b[0m     num_meta_repetitions \u001b[39m=\u001b[39m \u001b[39m1\u001b[39m\n\u001b[1;32m      <a href='vscode-notebook-cell:/Users/dfalck/Desktop/Research/blackboxbandits/experiments/example.ipynb#ch0000010?line=6'>7</a>\u001b[0m )\n",
      "\u001b[0;31mNameError\u001b[0m: name 'meta_optimizers' is not defined"
     ]
    }
   ],
   "source": [
    "meta_comparison = compare.MetaOptimizerComparison \\\n",
    "                         .from_precomputed_base_comparison(\n",
    "    dbid=DBID,\n",
    "    meta_optimizers=meta_optimizers,\n",
    "    db_root = \"./data\",\n",
    "    parallel_meta = False,\n",
    "    num_meta_repetitions = 1\n",
    ")"
   ]
  },
  {
   "cell_type": "code",
   "execution_count": 35,
   "id": "cf152acf",
   "metadata": {},
   "outputs": [
    {
     "data": {
      "text/html": [
       "<div>\n",
       "<style scoped>\n",
       "    .dataframe tbody tr th:only-of-type {\n",
       "        vertical-align: middle;\n",
       "    }\n",
       "\n",
       "    .dataframe tbody tr th {\n",
       "        vertical-align: top;\n",
       "    }\n",
       "\n",
       "    .dataframe thead th {\n",
       "        text-align: right;\n",
       "    }\n",
       "</style>\n",
       "<table border=\"1\" class=\"dataframe\">\n",
       "  <thead>\n",
       "    <tr style=\"text-align: right;\">\n",
       "      <th></th>\n",
       "      <th>visible_score</th>\n",
       "      <th>generalization_score</th>\n",
       "    </tr>\n",
       "    <tr>\n",
       "      <th>optimizer</th>\n",
       "      <th></th>\n",
       "      <th></th>\n",
       "    </tr>\n",
       "  </thead>\n",
       "  <tbody>\n",
       "    <tr>\n",
       "      <th>HyperOpt_0.2.7_a376313</th>\n",
       "      <td>0.33</td>\n",
       "      <td>0.28</td>\n",
       "    </tr>\n",
       "    <tr>\n",
       "      <th>OpenTuner-BanditA_0.8.7_a376313</th>\n",
       "      <td>0.34</td>\n",
       "      <td>0.36</td>\n",
       "    </tr>\n",
       "    <tr>\n",
       "      <th>OpenTuner-GA-DE_0.8.7_a376313</th>\n",
       "      <td>0.38</td>\n",
       "      <td>0.28</td>\n",
       "    </tr>\n",
       "    <tr>\n",
       "      <th>OpenTuner-GA_0.8.7_a376313</th>\n",
       "      <td>0.25</td>\n",
       "      <td>0.22</td>\n",
       "    </tr>\n",
       "    <tr>\n",
       "      <th>PySOT_0.3.3_a376313</th>\n",
       "      <td>0.37</td>\n",
       "      <td>0.30</td>\n",
       "    </tr>\n",
       "    <tr>\n",
       "      <th>RandomSearch_0.0.8_a376313</th>\n",
       "      <td>0.19</td>\n",
       "      <td>0.28</td>\n",
       "    </tr>\n",
       "    <tr>\n",
       "      <th>Scikit-GBRT-Hedge_0.9.0_a376313</th>\n",
       "      <td>0.49</td>\n",
       "      <td>0.40</td>\n",
       "    </tr>\n",
       "    <tr>\n",
       "      <th>Scikit-GP-Hedge_0.9.0_a376313</th>\n",
       "      <td>0.53</td>\n",
       "      <td>0.49</td>\n",
       "    </tr>\n",
       "    <tr>\n",
       "      <th>Scikit-GP-LCB_0.9.0_a376313</th>\n",
       "      <td>0.58</td>\n",
       "      <td>0.35</td>\n",
       "    </tr>\n",
       "    <tr>\n",
       "      <th>best_2</th>\n",
       "      <td>0.77</td>\n",
       "      <td>0.52</td>\n",
       "    </tr>\n",
       "    <tr>\n",
       "      <th>best_3</th>\n",
       "      <td>0.86</td>\n",
       "      <td>0.63</td>\n",
       "    </tr>\n",
       "    <tr>\n",
       "      <th>best_4</th>\n",
       "      <td>0.89</td>\n",
       "      <td>0.66</td>\n",
       "    </tr>\n",
       "    <tr>\n",
       "      <th>best_5</th>\n",
       "      <td>0.91</td>\n",
       "      <td>0.78</td>\n",
       "    </tr>\n",
       "    <tr>\n",
       "      <th>best_6</th>\n",
       "      <td>0.92</td>\n",
       "      <td>0.78</td>\n",
       "    </tr>\n",
       "    <tr>\n",
       "      <th>pure_fpml_2</th>\n",
       "      <td>0.48</td>\n",
       "      <td>0.44</td>\n",
       "    </tr>\n",
       "    <tr>\n",
       "      <th>pure_fpml_3</th>\n",
       "      <td>0.74</td>\n",
       "      <td>0.55</td>\n",
       "    </tr>\n",
       "    <tr>\n",
       "      <th>pure_fpml_4</th>\n",
       "      <td>0.66</td>\n",
       "      <td>0.71</td>\n",
       "    </tr>\n",
       "    <tr>\n",
       "      <th>pure_fpml_5</th>\n",
       "      <td>0.84</td>\n",
       "      <td>0.72</td>\n",
       "    </tr>\n",
       "    <tr>\n",
       "      <th>pure_fpml_6</th>\n",
       "      <td>0.85</td>\n",
       "      <td>0.77</td>\n",
       "    </tr>\n",
       "    <tr>\n",
       "      <th>pure_fpml_7</th>\n",
       "      <td>0.87</td>\n",
       "      <td>0.80</td>\n",
       "    </tr>\n",
       "    <tr>\n",
       "      <th>pure_fpmlgr_2</th>\n",
       "      <td>0.55</td>\n",
       "      <td>0.47</td>\n",
       "    </tr>\n",
       "    <tr>\n",
       "      <th>pure_fpmlgr_3</th>\n",
       "      <td>0.75</td>\n",
       "      <td>0.61</td>\n",
       "    </tr>\n",
       "    <tr>\n",
       "      <th>pure_fpmlgr_4</th>\n",
       "      <td>0.81</td>\n",
       "      <td>0.75</td>\n",
       "    </tr>\n",
       "    <tr>\n",
       "      <th>pure_fpmlgr_5</th>\n",
       "      <td>0.88</td>\n",
       "      <td>0.79</td>\n",
       "    </tr>\n",
       "    <tr>\n",
       "      <th>pure_fpmlgr_6</th>\n",
       "      <td>0.86</td>\n",
       "      <td>0.76</td>\n",
       "    </tr>\n",
       "    <tr>\n",
       "      <th>streeter_exp3_2</th>\n",
       "      <td>0.60</td>\n",
       "      <td>0.44</td>\n",
       "    </tr>\n",
       "    <tr>\n",
       "      <th>streeter_exp3_3</th>\n",
       "      <td>0.64</td>\n",
       "      <td>0.57</td>\n",
       "    </tr>\n",
       "    <tr>\n",
       "      <th>streeter_exp3_4</th>\n",
       "      <td>0.71</td>\n",
       "      <td>0.59</td>\n",
       "    </tr>\n",
       "    <tr>\n",
       "      <th>streeter_exp3_5</th>\n",
       "      <td>0.71</td>\n",
       "      <td>0.71</td>\n",
       "    </tr>\n",
       "    <tr>\n",
       "      <th>streeter_exp3_6</th>\n",
       "      <td>0.80</td>\n",
       "      <td>0.73</td>\n",
       "    </tr>\n",
       "    <tr>\n",
       "      <th>streeter_fpml_2x2</th>\n",
       "      <td>0.73</td>\n",
       "      <td>0.65</td>\n",
       "    </tr>\n",
       "    <tr>\n",
       "      <th>streeter_fpml_2x3</th>\n",
       "      <td>0.78</td>\n",
       "      <td>0.75</td>\n",
       "    </tr>\n",
       "    <tr>\n",
       "      <th>streeter_fpml_3x2</th>\n",
       "      <td>0.76</td>\n",
       "      <td>0.69</td>\n",
       "    </tr>\n",
       "    <tr>\n",
       "      <th>streeter_fpmlgr_1x2</th>\n",
       "      <td>0.60</td>\n",
       "      <td>0.53</td>\n",
       "    </tr>\n",
       "    <tr>\n",
       "      <th>streeter_fpmlgr_1x3</th>\n",
       "      <td>0.64</td>\n",
       "      <td>0.61</td>\n",
       "    </tr>\n",
       "    <tr>\n",
       "      <th>streeter_fpmlgr_1x4</th>\n",
       "      <td>0.78</td>\n",
       "      <td>0.70</td>\n",
       "    </tr>\n",
       "    <tr>\n",
       "      <th>streeter_fpmlgr_1x5</th>\n",
       "      <td>0.74</td>\n",
       "      <td>0.71</td>\n",
       "    </tr>\n",
       "    <tr>\n",
       "      <th>streeter_fpmlgr_1x6</th>\n",
       "      <td>0.80</td>\n",
       "      <td>0.69</td>\n",
       "    </tr>\n",
       "    <tr>\n",
       "      <th>streeter_fpmlgr_2x2</th>\n",
       "      <td>0.81</td>\n",
       "      <td>0.71</td>\n",
       "    </tr>\n",
       "    <tr>\n",
       "      <th>streeter_fpmlgr_2x3</th>\n",
       "      <td>0.80</td>\n",
       "      <td>0.78</td>\n",
       "    </tr>\n",
       "    <tr>\n",
       "      <th>streeter_fpmlgr_3x2</th>\n",
       "      <td>0.79</td>\n",
       "      <td>0.78</td>\n",
       "    </tr>\n",
       "  </tbody>\n",
       "</table>\n",
       "</div>"
      ],
      "text/plain": [
       "                                       visible_score  generalization_score\n",
       "optimizer                                                                 \n",
       "HyperOpt_0.2.7_a376313                          0.33                  0.28\n",
       "OpenTuner-BanditA_0.8.7_a376313                 0.34                  0.36\n",
       "OpenTuner-GA-DE_0.8.7_a376313                   0.38                  0.28\n",
       "OpenTuner-GA_0.8.7_a376313                      0.25                  0.22\n",
       "PySOT_0.3.3_a376313                             0.37                  0.30\n",
       "RandomSearch_0.0.8_a376313                      0.19                  0.28\n",
       "Scikit-GBRT-Hedge_0.9.0_a376313                 0.49                  0.40\n",
       "Scikit-GP-Hedge_0.9.0_a376313                   0.53                  0.49\n",
       "Scikit-GP-LCB_0.9.0_a376313                     0.58                  0.35\n",
       "best_2                                          0.77                  0.52\n",
       "best_3                                          0.86                  0.63\n",
       "best_4                                          0.89                  0.66\n",
       "best_5                                          0.91                  0.78\n",
       "best_6                                          0.92                  0.78\n",
       "pure_fpml_2                                     0.48                  0.44\n",
       "pure_fpml_3                                     0.74                  0.55\n",
       "pure_fpml_4                                     0.66                  0.71\n",
       "pure_fpml_5                                     0.84                  0.72\n",
       "pure_fpml_6                                     0.85                  0.77\n",
       "pure_fpml_7                                     0.87                  0.80\n",
       "pure_fpmlgr_2                                   0.55                  0.47\n",
       "pure_fpmlgr_3                                   0.75                  0.61\n",
       "pure_fpmlgr_4                                   0.81                  0.75\n",
       "pure_fpmlgr_5                                   0.88                  0.79\n",
       "pure_fpmlgr_6                                   0.86                  0.76\n",
       "streeter_exp3_2                                 0.60                  0.44\n",
       "streeter_exp3_3                                 0.64                  0.57\n",
       "streeter_exp3_4                                 0.71                  0.59\n",
       "streeter_exp3_5                                 0.71                  0.71\n",
       "streeter_exp3_6                                 0.80                  0.73\n",
       "streeter_fpml_2x2                               0.73                  0.65\n",
       "streeter_fpml_2x3                               0.78                  0.75\n",
       "streeter_fpml_3x2                               0.76                  0.69\n",
       "streeter_fpmlgr_1x2                             0.60                  0.53\n",
       "streeter_fpmlgr_1x3                             0.64                  0.61\n",
       "streeter_fpmlgr_1x4                             0.78                  0.70\n",
       "streeter_fpmlgr_1x5                             0.74                  0.71\n",
       "streeter_fpmlgr_1x6                             0.80                  0.69\n",
       "streeter_fpmlgr_2x2                             0.81                  0.71\n",
       "streeter_fpmlgr_2x3                             0.80                  0.78\n",
       "streeter_fpmlgr_3x2                             0.79                  0.78"
      ]
     },
     "execution_count": 35,
     "metadata": {},
     "output_type": "execute_result"
    }
   ],
   "source": [
    "meta_comparison.run_meta_comparison()\n",
    "results = meta_comparison.summary()\n",
    "results"
   ]
  },
  {
   "cell_type": "code",
   "execution_count": 55,
   "id": "114969cc",
   "metadata": {},
   "outputs": [
    {
     "data": {
      "application/vnd.jupyter.widget-view+json": {
       "model_id": "96ec36cecd3346e6aa1f9012af6a2e86",
       "version_major": 2,
       "version_minor": 0
      },
      "text/plain": [
       "interactive(children=(IntSlider(value=1, description='T', max=7, min=1), Output()), _dom_classes=('widget-inte…"
      ]
     },
     "metadata": {},
     "output_type": "display_data"
    }
   ],
   "source": [
    "utils.visualise_by_budget(results)"
   ]
  }
 ],
 "metadata": {
  "colab": {
   "name": "rough.ipynb",
   "provenance": []
  },
  "kernelspec": {
   "display_name": "Python 3 (ipykernel)",
   "language": "python",
   "name": "python3"
  },
  "language_info": {
   "codemirror_mode": {
    "name": "ipython",
    "version": 3
   },
   "file_extension": ".py",
   "mimetype": "text/x-python",
   "name": "python",
   "nbconvert_exporter": "python",
   "pygments_lexer": "ipython3",
   "version": "3.9.7"
  }
 },
 "nbformat": 4,
 "nbformat_minor": 5
}
