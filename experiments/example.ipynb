{
 "cells": [
  {
   "cell_type": "markdown",
   "id": "9e119645",
   "metadata": {
    "id": "9e119645"
   },
   "source": [
    "# Rough example usage"
   ]
  },
  {
   "cell_type": "code",
   "execution_count": 2,
   "id": "d3cbd1cf-a6fc-4282-8d6a-e5ae0c71910c",
   "metadata": {
    "colab": {
     "base_uri": "https://localhost:8080/",
     "height": 368
    },
    "id": "d3cbd1cf-a6fc-4282-8d6a-e5ae0c71910c",
    "outputId": "e6da4e31-46f0-4b85-d618-d213876640d3"
   },
   "outputs": [],
   "source": [
    "%load_ext autoreload\n",
    "%autoreload 2\n",
    "\n",
    "from blackboxbandits import compare, bandits, meta, utils\n",
    "import pandas as pd\n",
    "\n",
    "pd.set_option('display.max_rows', None)\n",
    "pd.options.display.float_format = '{:20,.2f}'.format"
   ]
  },
  {
   "cell_type": "markdown",
   "id": "bdf2828e-d81b-40e3-98e0-26cd64b5375f",
   "metadata": {
    "tags": []
   },
   "source": [
    "## Base optimizer comparison"
   ]
  },
  {
   "cell_type": "markdown",
   "id": "5cf5caed",
   "metadata": {},
   "source": [
    "### Run a new comparison"
   ]
  },
  {
   "cell_type": "code",
   "execution_count": null,
   "id": "fc58b8c1-6bf1-4460-b24c-1e3cc9135cd4",
   "metadata": {},
   "outputs": [],
   "source": [
    "import pmlb\n",
    "dataset_names = list(map(lambda x: \"clf-\"+x.replace(\"_\",\"-\"), pmlb.classification_dataset_names)) \\\n",
    "                + list(map(lambda x: \"reg-\"+x.replace(\"_\",\"-\"), pmlb.regression_dataset_names))"
   ]
  },
  {
   "cell_type": "code",
   "execution_count": null,
   "id": "da513a7f-a9d2-40a8-8a45-a3e26f38db1a",
   "metadata": {},
   "outputs": [],
   "source": [
    "base_comparison = compare.BaseOptimizerComparison(\n",
    "    optimizers=[\"HyperOpt\", \"OpenTuner-BanditA\", \"OpenTuner-GA\",\n",
    "                \"OpenTuner-GA-DE\", \"PySOT\", \"RandomSearch\",\n",
    "                \"Scikit-GBRT-Hedge\", \"Scikit-GP-Hedge\", \"Scikit-GP-LCB\"],\n",
    "    classifiers=[\"MLP-adam\",\"lasso\"],\n",
    "    datasets = dataset_names,\n",
    "    metrics=[\"mse\", \"nll\"],\n",
    "    num_calls=20,\n",
    "    num_repetitions=1,\n",
    "    db_root = \"./saved_results\",\n",
    "    datasets_root=\"./penn_datasets\",\n",
    "    parallel = True\n",
    ")"
   ]
  },
  {
   "cell_type": "code",
   "execution_count": null,
   "id": "d0775e03-cbb3-4b4b-8f12-54be6ee6492f",
   "metadata": {},
   "outputs": [],
   "source": [
    "base_comparison.run()\n",
    "dbid = base_comparison.get_dbid()\n",
    "dbid"
   ]
  },
  {
   "cell_type": "markdown",
   "id": "05aab075",
   "metadata": {},
   "source": [
    "### View data from a previous comparison"
   ]
  },
  {
   "cell_type": "code",
   "execution_count": null,
   "id": "9bc216b4",
   "metadata": {},
   "outputs": [],
   "source": [
    "DBID = \"bo_20220228_124924_b7rkpeqg\""
   ]
  },
  {
   "cell_type": "code",
   "execution_count": null,
   "id": "9b36406f",
   "metadata": {},
   "outputs": [],
   "source": [
    "df = compare.BaseOptimizerComparison.get_results_for_dbid(db_root=\"./saved_results\", dbid=DBID)"
   ]
  },
  {
   "cell_type": "markdown",
   "id": "62a908ac-fba8-4079-863b-c0c5f884959e",
   "metadata": {
    "tags": []
   },
   "source": [
    "## Meta optimizer comparison"
   ]
  },
  {
   "cell_type": "markdown",
   "id": "86fb2c3d",
   "metadata": {},
   "source": [
    "### Set up meta optimizers"
   ]
  },
  {
   "cell_type": "code",
   "execution_count": null,
   "id": "a85c708c",
   "metadata": {},
   "outputs": [],
   "source": [
    "S = 1\n",
    "GAMMA = 0.2"
   ]
  },
  {
   "cell_type": "code",
   "execution_count": null,
   "id": "16ce7ba4",
   "metadata": {},
   "outputs": [],
   "source": [
    "factors = [(a,b) for a in range(1,7) for b in range(1,7) if a*b < 7]\n",
    "\n",
    "best = {\n",
    "    f\"best_{T}\": meta.BestFixedTAlgos(T=T)\n",
    "    for T in range(2,7)}\n",
    "fpml_fixedexp = {\n",
    "    f\"fpml_fixedexp_{T}\": meta.BanditMetaOptimizer(\n",
    "        bandit_type=bandits.FPMLFixed,\n",
    "        T=T, S=S)\n",
    "    for T in range(2,7)}\n",
    "fpml_probexp = {\n",
    "    f\"fpml_probexp_{T}\": meta.BanditMetaOptimizer(\n",
    "        bandit_type=bandits.FPMLProb,\n",
    "        T=T, gamma=GAMMA)\n",
    "    for T in range(2,7)}\n",
    "fpml_gr_noexp = {\n",
    "    f\"fpml_gr_noexp_{T}\": meta.BanditMetaOptimizer(\n",
    "        bandit_type=bandits.FPMLWithGR,\n",
    "        T=T, gamma=0)\n",
    "    for T in range(2,7)}\n",
    "fpml_gr_probexp = {\n",
    "    f\"fpml_gr_probexp_{T}\": meta.BanditMetaOptimizer(\n",
    "        bandit_type=bandits.FPMLWithGR,\n",
    "        T=T, gamma=GAMMA)\n",
    "    for T in range(2,7)}\n",
    "streeter_fpml = {\n",
    "    f\"streeter_fpml_{a}x{b}\": meta.BanditMetaOptimizer(\n",
    "        bandit_type=bandits.StreeterFPML,\n",
    "        T=a*b, T_1=a, T_2=b, gamma=GAMMA, gr=True)\n",
    "    for a,b in factors}\n",
    "streeter_exp3 = {\n",
    "    f\"streeter_exp3_{T}\": meta.BanditMetaOptimizer(\n",
    "        bandit_type=bandits.Streeter,\n",
    "        T=T)\n",
    "    for T in range(2,7)}\n",
    "\n",
    "meta_optimizers = {**fpml_fixedexp, **fpml_probexp, **fpml_gr_noexp,\n",
    "                   **fpml_gr_probexp, **streeter_fpml, **streeter_exp3}"
   ]
  },
  {
   "cell_type": "markdown",
   "id": "933de3c3",
   "metadata": {},
   "source": [
    "### Setup and run meta comparison"
   ]
  },
  {
   "cell_type": "code",
   "execution_count": null,
   "id": "4419bfb0",
   "metadata": {
    "id": "4419bfb0"
   },
   "outputs": [],
   "source": [
    "meta_comparison = compare.MetaOptimizerComparison \\\n",
    "                         .from_precomputed_base_comparison(\n",
    "    dbid=DBID,\n",
    "    meta_optimizers=meta_optimizers,\n",
    "    db_root = \"./saved_results\",\n",
    "    parallel_meta = True,\n",
    "    num_meta_repetitions = 100\n",
    ")"
   ]
  },
  {
   "cell_type": "code",
   "execution_count": null,
   "id": "cf152acf",
   "metadata": {},
   "outputs": [],
   "source": [
    "meta_comparison.run_meta_comparison()\n",
    "results = meta_comparison.summary()\n",
    "full_details = meta_comparison.full_results()\n",
    "results.to_csv(\"results.csv\")\n",
    "full_details.to_csv(\"full_details.csv\")\n",
    "results"
   ]
  },
  {
   "cell_type": "code",
   "execution_count": 4,
   "id": "a522236b-2ffa-447e-b642-700ec8a6c3cf",
   "metadata": {},
   "outputs": [],
   "source": [
    "results = pd.read_csv(\"results.csv\")"
   ]
  },
  {
   "cell_type": "code",
   "execution_count": 8,
   "id": "da028965-07a0-416e-90d4-b4935b08f98c",
   "metadata": {},
   "outputs": [],
   "source": [
    "results = results.set_index(\"optimizer\")"
   ]
  },
  {
   "cell_type": "code",
   "execution_count": 9,
   "id": "114969cc",
   "metadata": {},
   "outputs": [
    {
     "data": {
      "application/vnd.jupyter.widget-view+json": {
       "model_id": "e147efd467c348168d4ddbf00cdf0222",
       "version_major": 2,
       "version_minor": 0
      },
      "text/plain": [
       "interactive(children=(IntSlider(value=1, description='T', max=7, min=1), Output()), _dom_classes=('widget-inte…"
      ]
     },
     "metadata": {},
     "output_type": "display_data"
    }
   ],
   "source": [
    "utils.visualise_by_budget(results)"
   ]
  }
 ],
 "metadata": {
  "colab": {
   "name": "rough.ipynb",
   "provenance": []
  },
  "kernelspec": {
   "display_name": "Python 3 (ipykernel)",
   "language": "python",
   "name": "python3"
  },
  "language_info": {
   "codemirror_mode": {
    "name": "ipython",
    "version": 3
   },
   "file_extension": ".py",
   "mimetype": "text/x-python",
   "name": "python",
   "nbconvert_exporter": "python",
   "pygments_lexer": "ipython3",
   "version": "3.9.7"
  }
 },
 "nbformat": 4,
 "nbformat_minor": 5
}
