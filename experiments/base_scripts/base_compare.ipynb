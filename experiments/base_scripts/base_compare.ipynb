{
 "cells": [
  {
   "cell_type": "markdown",
   "id": "9e119645",
   "metadata": {
    "id": "9e119645"
   },
   "source": [
    "# Base comparison working notebook"
   ]
  },
  {
   "cell_type": "code",
   "execution_count": 1,
   "id": "d3cbd1cf-a6fc-4282-8d6a-e5ae0c71910c",
   "metadata": {
    "colab": {
     "base_uri": "https://localhost:8080/",
     "height": 368
    },
    "id": "d3cbd1cf-a6fc-4282-8d6a-e5ae0c71910c",
    "outputId": "e6da4e31-46f0-4b85-d618-d213876640d3"
   },
   "outputs": [],
   "source": [
    "%load_ext autoreload\n",
    "%autoreload 2\n",
    "\n",
    "from blackboxbandits import compare, bandits, meta, utils\n",
    "import pandas as pd\n",
    "\n",
    "pd.set_option('display.max_rows', None)\n",
    "pd.options.display.float_format = '{:20,.4f}'.format"
   ]
  },
  {
   "cell_type": "markdown",
   "id": "5cf5caed",
   "metadata": {},
   "source": [
    "## Run a new comparison"
   ]
  },
  {
   "cell_type": "code",
   "execution_count": null,
   "id": "fc58b8c1-6bf1-4460-b24c-1e3cc9135cd4",
   "metadata": {},
   "outputs": [],
   "source": [
    "import pmlb\n",
    "dataset_names = list(map(lambda x: \"clf-\"+x.replace(\"_\",\"-\"), pmlb.classification_dataset_names)) \\\n",
    "                + list(map(lambda x: \"reg-\"+x.replace(\"_\",\"-\"), pmlb.regression_dataset_names))"
   ]
  },
  {
   "cell_type": "code",
   "execution_count": null,
   "id": "da513a7f-a9d2-40a8-8a45-a3e26f38db1a",
   "metadata": {},
   "outputs": [],
   "source": [
    "base_comparison = compare.BaseOptimizerComparison(\n",
    "    optimizers=[\"HyperOpt\", \"OpenTuner-BanditA\", \"OpenTuner-GA\",\n",
    "                \"OpenTuner-GA-DE\", \"PySOT\", \"RandomSearch\",\n",
    "                \"Scikit-GBRT-Hedge\", \"Scikit-GP-Hedge\", \"Scikit-GP-LCB\"],\n",
    "    classifiers=[\"MLP-adam\",\"lasso\"],\n",
    "    datasets = dataset_names,\n",
    "    metrics=[\"mse\", \"nll\"],\n",
    "    num_calls=20,\n",
    "    num_repetitions=1,\n",
    "    db_root = \"./base_results\",\n",
    "    datasets_root=\"./penn_datasets\",\n",
    "    parallel = True\n",
    ")"
   ]
  },
  {
   "cell_type": "code",
   "execution_count": null,
   "id": "d0775e03-cbb3-4b4b-8f12-54be6ee6492f",
   "metadata": {},
   "outputs": [],
   "source": [
    "base_comparison.run()\n",
    "dbid = base_comparison.get_dbid()\n",
    "dbid"
   ]
  },
  {
   "cell_type": "markdown",
   "id": "05aab075",
   "metadata": {},
   "source": [
    "## View data from a previous comparison"
   ]
  },
  {
   "cell_type": "code",
   "execution_count": 2,
   "id": "9bc216b4",
   "metadata": {},
   "outputs": [],
   "source": [
    "DBID = \"bo_20220228_124924_b7rkpeqg\""
   ]
  },
  {
   "cell_type": "code",
   "execution_count": null,
   "id": "9b36406f",
   "metadata": {},
   "outputs": [],
   "source": [
    "df = compare.BaseOptimizerComparison.get_results_for_dbid(db_root=\"./saved_results\", dbid=DBID)"
   ]
  }
 ],
 "metadata": {
  "colab": {
   "name": "rough.ipynb",
   "provenance": []
  },
  "interpreter": {
   "hash": "d159b8f725754aa0b84fbd46d7cf122234efcf9980d72fcd55bfe021ea98b5b4"
  },
  "kernelspec": {
   "display_name": "Python 3.9.7 64-bit ('bandits': conda)",
   "name": "python3"
  },
  "language_info": {
   "codemirror_mode": {
    "name": "ipython",
    "version": 3
   },
   "file_extension": ".py",
   "mimetype": "text/x-python",
   "name": "python",
   "nbconvert_exporter": "python",
   "pygments_lexer": "ipython3",
   "version": "3.9.7"
  }
 },
 "nbformat": 4,
 "nbformat_minor": 5
}
