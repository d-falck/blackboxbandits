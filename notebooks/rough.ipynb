{
  "cells": [
    {
      "cell_type": "markdown",
      "id": "9e119645",
      "metadata": {
        "id": "9e119645"
      },
      "source": [
        "# Rough example usage"
      ]
    },
    {
      "cell_type": "markdown",
      "id": "6322153c",
      "metadata": {
        "id": "6322153c"
      },
      "source": [
        "[![Open In Colab](https://colab.research.google.com/assets/colab-badge.svg)](https://colab.research.google.com/github/d-falck/blackboxbandits/blob/main/notebooks/rough.ipynb)"
      ]
    },
    {
      "cell_type": "markdown",
      "source": [
        "## Admin if running in Colab"
      ],
      "metadata": {
        "id": "TWF7z4Sl9m-k"
      },
      "id": "TWF7z4Sl9m-k"
    },
    {
      "cell_type": "code",
      "source": [
        "!git clone https://github.com/d-falck/blackboxbandits.git\n",
        "%cd blackboxbandits\n",
        "!pip install -e .\n",
        "%cd notebooks"
      ],
      "metadata": {
        "id": "MaywijQ49ttG"
      },
      "id": "MaywijQ49ttG",
      "execution_count": null,
      "outputs": []
    },
    {
      "cell_type": "markdown",
      "source": [
        "## Main"
      ],
      "metadata": {
        "id": "LYm9N5cN9oVV"
      },
      "id": "LYm9N5cN9oVV"
    },
    {
      "cell_type": "code",
      "execution_count": null,
      "id": "d3cbd1cf-a6fc-4282-8d6a-e5ae0c71910c",
      "metadata": {
        "id": "d3cbd1cf-a6fc-4282-8d6a-e5ae0c71910c"
      },
      "outputs": [],
      "source": [
        "%load_ext autoreload\n",
        "%autoreload 2\n",
        "\n",
        "from blackboxbandits import compare, bandits, meta\n",
        "import pandas as pd\n",
        "\n",
        "pd.set_option('display.max_rows', None)\n",
        "pd.options.display.float_format = '{:20,.2f}'.format"
      ]
    },
    {
      "cell_type": "code",
      "execution_count": null,
      "id": "8bcf98d1",
      "metadata": {
        "id": "8bcf98d1"
      },
      "outputs": [],
      "source": [
        "meta_optimizers = {\n",
        "    \"best_2\": meta.BestFixedTAlgos(T=2),\n",
        "    \"pure_2_fpml\": meta.BanditMetaOptimizer(\n",
        "        bandit_type=bandits.FPML, T=3, S=1\n",
        "    )\n",
        "}"
      ]
    },
    {
      "cell_type": "code",
      "execution_count": null,
      "id": "4419bfb0",
      "metadata": {
        "id": "4419bfb0"
      },
      "outputs": [],
      "source": [
        "meta_comparison = compare.MetaOptimizerComparison(\n",
        "    meta_optimizers=meta_optimizers,\n",
        "    base_optimizers=[\"HyperOpt\", \"PySOT\", \"RandomSearch\", \"Scikit-GBRT-Hedge\"],\n",
        "    classifiers=[\"lasso\", \"MLP-adam\"],\n",
        "    datasets = [\"breast\", \"digits\"],\n",
        "    metrics = [\"mse\", \"nll\"],\n",
        "    num_calls = 15,\n",
        "    num_repetitions = 3,\n",
        "    db_root = \"./data\"\n",
        ")"
      ]
    },
    {
      "cell_type": "code",
      "execution_count": null,
      "id": "eaa79fb4",
      "metadata": {
        "id": "eaa79fb4"
      },
      "outputs": [],
      "source": [
        "meta_comparison.run_base_comparison()\n",
        "dbid = meta_comparison.get_dbid()"
      ]
    },
    {
      "cell_type": "code",
      "execution_count": null,
      "id": "55f1d143",
      "metadata": {
        "id": "55f1d143"
      },
      "outputs": [],
      "source": [
        "meta_comparison.load_base_comparison(dbid='bo_20220208_111458_rxokbt8a')"
      ]
    },
    {
      "cell_type": "code",
      "execution_count": null,
      "id": "a16868ee",
      "metadata": {
        "id": "a16868ee",
        "outputId": "d836e681-9c81-409f-c47d-77a34484e329"
      },
      "outputs": [
        {
          "data": {
            "text/html": [
              "<div>\n",
              "<style scoped>\n",
              "    .dataframe tbody tr th:only-of-type {\n",
              "        vertical-align: middle;\n",
              "    }\n",
              "\n",
              "    .dataframe tbody tr th {\n",
              "        vertical-align: top;\n",
              "    }\n",
              "\n",
              "    .dataframe thead th {\n",
              "        text-align: right;\n",
              "    }\n",
              "</style>\n",
              "<table border=\"1\" class=\"dataframe\">\n",
              "  <thead>\n",
              "    <tr style=\"text-align: right;\">\n",
              "      <th></th>\n",
              "      <th>visible_score</th>\n",
              "      <th>generalization_score</th>\n",
              "    </tr>\n",
              "    <tr>\n",
              "      <th>optimizer</th>\n",
              "      <th></th>\n",
              "      <th></th>\n",
              "    </tr>\n",
              "  </thead>\n",
              "  <tbody>\n",
              "    <tr>\n",
              "      <th>HyperOpt_0.2.7_a376313</th>\n",
              "      <td>0.35</td>\n",
              "      <td>0.35</td>\n",
              "    </tr>\n",
              "    <tr>\n",
              "      <th>PySOT_0.3.3_a376313</th>\n",
              "      <td>0.37</td>\n",
              "      <td>0.25</td>\n",
              "    </tr>\n",
              "    <tr>\n",
              "      <th>RandomSearch_0.0.8_a376313</th>\n",
              "      <td>0.24</td>\n",
              "      <td>0.23</td>\n",
              "    </tr>\n",
              "    <tr>\n",
              "      <th>Scikit-GBRT-Hedge_0.9.0_a376313</th>\n",
              "      <td>0.53</td>\n",
              "      <td>0.56</td>\n",
              "    </tr>\n",
              "    <tr>\n",
              "      <th>best_2</th>\n",
              "      <td>0.75</td>\n",
              "      <td>0.49</td>\n",
              "    </tr>\n",
              "    <tr>\n",
              "      <th>pure_2_fpml</th>\n",
              "      <td>0.62</td>\n",
              "      <td>0.68</td>\n",
              "    </tr>\n",
              "  </tbody>\n",
              "</table>\n",
              "</div>"
            ],
            "text/plain": [
              "                                       visible_score  generalization_score\n",
              "optimizer                                                                 \n",
              "HyperOpt_0.2.7_a376313                          0.35                  0.35\n",
              "PySOT_0.3.3_a376313                             0.37                  0.25\n",
              "RandomSearch_0.0.8_a376313                      0.24                  0.23\n",
              "Scikit-GBRT-Hedge_0.9.0_a376313                 0.53                  0.56\n",
              "best_2                                          0.75                  0.49\n",
              "pure_2_fpml                                     0.62                  0.68"
            ]
          },
          "execution_count": 30,
          "metadata": {},
          "output_type": "execute_result"
        }
      ],
      "source": [
        "meta_comparison.run_meta_comparison()\n",
        "meta_comparison.summary()"
      ]
    },
    {
      "cell_type": "code",
      "execution_count": null,
      "id": "3752895a",
      "metadata": {
        "id": "3752895a"
      },
      "outputs": [],
      "source": [
        ""
      ]
    }
  ],
  "metadata": {
    "kernelspec": {
      "display_name": "Python 3",
      "language": "python",
      "name": "python3"
    },
    "language_info": {
      "codemirror_mode": {
        "name": "ipython",
        "version": 3
      },
      "file_extension": ".py",
      "mimetype": "text/x-python",
      "name": "python",
      "nbconvert_exporter": "python",
      "pygments_lexer": "ipython3",
      "version": "3.9.7"
    },
    "colab": {
      "name": "rough.ipynb",
      "provenance": []
    }
  },
  "nbformat": 4,
  "nbformat_minor": 5
}