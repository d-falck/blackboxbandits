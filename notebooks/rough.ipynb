{
 "cells": [
  {
   "cell_type": "markdown",
   "id": "9e119645",
   "metadata": {
    "id": "9e119645"
   },
   "source": [
    "# Rough example usage"
   ]
  },
  {
   "cell_type": "code",
   "execution_count": 1,
   "id": "d3cbd1cf-a6fc-4282-8d6a-e5ae0c71910c",
   "metadata": {
    "colab": {
     "base_uri": "https://localhost:8080/",
     "height": 368
    },
    "id": "d3cbd1cf-a6fc-4282-8d6a-e5ae0c71910c",
    "outputId": "e6da4e31-46f0-4b85-d618-d213876640d3"
   },
   "outputs": [],
   "source": [
    "%load_ext autoreload\n",
    "%autoreload 2\n",
    "\n",
    "from blackboxbandits import compare, bandits, meta\n",
    "import pandas as pd\n",
    "\n",
    "pd.set_option('display.max_rows', None)\n",
    "pd.options.display.float_format = '{:20,.2f}'.format"
   ]
  },
  {
   "cell_type": "code",
   "execution_count": 52,
   "id": "8bcf98d1",
   "metadata": {
    "id": "8bcf98d1"
   },
   "outputs": [],
   "source": [
    "meta_optimizers = {\n",
    "    \"best_2\": meta.BestFixedTAlgos(T=2),\n",
    "    \"best_3\": meta.BestFixedTAlgos(T=3),\n",
    "    \"best_4\": meta.BestFixedTAlgos(T=4),\n",
    "    \"best_5\": meta.BestFixedTAlgos(T=5),\n",
    "    \"best_6\": meta.BestFixedTAlgos(T=6),\n",
    "    \"pure_2_fpml\": meta.BanditMetaOptimizer(\n",
    "        bandit_type=bandits.FPML, T=2, S=1\n",
    "    ),\n",
    "    \"pure_fpml_3\": meta.BanditMetaOptimizer(\n",
    "        bandit_type=bandits.FPML, T=3, S=1\n",
    "    ),\n",
    "    \"pure_fpml_4\": meta.BanditMetaOptimizer(\n",
    "        bandit_type=bandits.FPML, T=4, S=1\n",
    "    ),\n",
    "    \"pure_fpml_5\": meta.BanditMetaOptimizer(\n",
    "        bandit_type=bandits.FPML, T=5, S=1\n",
    "    ),\n",
    "    \"pure_fpml_6\": meta.BanditMetaOptimizer(\n",
    "        bandit_type=bandits.FPML, T=6, S=1\n",
    "    ),\n",
    "    \"pure_fpml_7\": meta.BanditMetaOptimizer(\n",
    "        bandit_type=bandits.FPML, T=7, S=1\n",
    "    ),\n",
    "    \"streeterfpml_2x3\": meta.BanditMetaOptimizer(\n",
    "        bandit_type=bandits.StreeterFPML, T=6,\n",
    "        T_1=2, T_2=3, S=1\n",
    "    ),\n",
    "}"
   ]
  },
  {
   "cell_type": "code",
   "execution_count": 53,
   "id": "4419bfb0",
   "metadata": {
    "id": "4419bfb0"
   },
   "outputs": [],
   "source": [
    "meta_comparison = compare.MetaOptimizerComparison(\n",
    "    meta_optimizers=meta_optimizers,\n",
    "    base_optimizers=[\"HyperOpt\", \"OpenTuner-BanditA\", \"OpenTuner-GA\",\n",
    "                     \"OpenTuner-GA-DE\", \"PySOT\", \"RandomSearch\",\n",
    "                     \"Scikit-GBRT-Hedge\", \"Scikit-GP-Hedge\", \"Scikit-GP-LCB\"],\n",
    "    classifiers=[\"MLP-adam\",\"SVM\",\"ada\",\"lasso\"],\n",
    "    datasets = [\"breast\", \"digits\", \"iris\", \"wine\", \"boston\", \"diabetes\"],\n",
    "    metrics = [\"mse\", \"nll\"],\n",
    "    num_calls = 15,\n",
    "    num_repetitions = 2,\n",
    "    db_root = \"./data\",\n",
    "    parallel = True\n",
    ")"
   ]
  },
  {
   "cell_type": "code",
   "execution_count": null,
   "id": "eaa79fb4",
   "metadata": {
    "id": "eaa79fb4"
   },
   "outputs": [],
   "source": [
    "meta_comparison.run_base_comparison()\n",
    "dbid = meta_comparison.get_dbid()"
   ]
  },
  {
   "cell_type": "code",
   "execution_count": 54,
   "id": "55f1d143",
   "metadata": {
    "id": "55f1d143"
   },
   "outputs": [],
   "source": [
    "meta_comparison.load_base_comparison(dbid='bo_20220209_184815_6elli2k5')"
   ]
  },
  {
   "cell_type": "code",
   "execution_count": 55,
   "id": "cf152acf",
   "metadata": {},
   "outputs": [
    {
     "data": {
      "text/html": [
       "<div>\n",
       "<style scoped>\n",
       "    .dataframe tbody tr th:only-of-type {\n",
       "        vertical-align: middle;\n",
       "    }\n",
       "\n",
       "    .dataframe tbody tr th {\n",
       "        vertical-align: top;\n",
       "    }\n",
       "\n",
       "    .dataframe thead th {\n",
       "        text-align: right;\n",
       "    }\n",
       "</style>\n",
       "<table border=\"1\" class=\"dataframe\">\n",
       "  <thead>\n",
       "    <tr style=\"text-align: right;\">\n",
       "      <th></th>\n",
       "      <th>visible_score</th>\n",
       "      <th>generalization_score</th>\n",
       "    </tr>\n",
       "    <tr>\n",
       "      <th>optimizer</th>\n",
       "      <th></th>\n",
       "      <th></th>\n",
       "    </tr>\n",
       "  </thead>\n",
       "  <tbody>\n",
       "    <tr>\n",
       "      <th>HyperOpt_0.2.7_a376313</th>\n",
       "      <td>0.33</td>\n",
       "      <td>0.28</td>\n",
       "    </tr>\n",
       "    <tr>\n",
       "      <th>OpenTuner-BanditA_0.8.7_a376313</th>\n",
       "      <td>0.34</td>\n",
       "      <td>0.36</td>\n",
       "    </tr>\n",
       "    <tr>\n",
       "      <th>OpenTuner-GA-DE_0.8.7_a376313</th>\n",
       "      <td>0.38</td>\n",
       "      <td>0.28</td>\n",
       "    </tr>\n",
       "    <tr>\n",
       "      <th>OpenTuner-GA_0.8.7_a376313</th>\n",
       "      <td>0.25</td>\n",
       "      <td>0.22</td>\n",
       "    </tr>\n",
       "    <tr>\n",
       "      <th>PySOT_0.3.3_a376313</th>\n",
       "      <td>0.37</td>\n",
       "      <td>0.30</td>\n",
       "    </tr>\n",
       "    <tr>\n",
       "      <th>RandomSearch_0.0.8_a376313</th>\n",
       "      <td>0.19</td>\n",
       "      <td>0.28</td>\n",
       "    </tr>\n",
       "    <tr>\n",
       "      <th>Scikit-GBRT-Hedge_0.9.0_a376313</th>\n",
       "      <td>0.49</td>\n",
       "      <td>0.40</td>\n",
       "    </tr>\n",
       "    <tr>\n",
       "      <th>Scikit-GP-Hedge_0.9.0_a376313</th>\n",
       "      <td>0.53</td>\n",
       "      <td>0.49</td>\n",
       "    </tr>\n",
       "    <tr>\n",
       "      <th>Scikit-GP-LCB_0.9.0_a376313</th>\n",
       "      <td>0.58</td>\n",
       "      <td>0.35</td>\n",
       "    </tr>\n",
       "    <tr>\n",
       "      <th>best_2</th>\n",
       "      <td>0.77</td>\n",
       "      <td>0.52</td>\n",
       "    </tr>\n",
       "    <tr>\n",
       "      <th>best_3</th>\n",
       "      <td>0.86</td>\n",
       "      <td>0.63</td>\n",
       "    </tr>\n",
       "    <tr>\n",
       "      <th>best_4</th>\n",
       "      <td>0.89</td>\n",
       "      <td>0.66</td>\n",
       "    </tr>\n",
       "    <tr>\n",
       "      <th>best_5</th>\n",
       "      <td>0.91</td>\n",
       "      <td>0.78</td>\n",
       "    </tr>\n",
       "    <tr>\n",
       "      <th>best_6</th>\n",
       "      <td>0.92</td>\n",
       "      <td>0.78</td>\n",
       "    </tr>\n",
       "    <tr>\n",
       "      <th>pure_2_fpml</th>\n",
       "      <td>0.58</td>\n",
       "      <td>0.53</td>\n",
       "    </tr>\n",
       "    <tr>\n",
       "      <th>pure_fpml_3</th>\n",
       "      <td>0.67</td>\n",
       "      <td>0.61</td>\n",
       "    </tr>\n",
       "    <tr>\n",
       "      <th>pure_fpml_4</th>\n",
       "      <td>0.79</td>\n",
       "      <td>0.66</td>\n",
       "    </tr>\n",
       "    <tr>\n",
       "      <th>pure_fpml_5</th>\n",
       "      <td>0.78</td>\n",
       "      <td>0.68</td>\n",
       "    </tr>\n",
       "    <tr>\n",
       "      <th>pure_fpml_6</th>\n",
       "      <td>0.88</td>\n",
       "      <td>0.77</td>\n",
       "    </tr>\n",
       "    <tr>\n",
       "      <th>pure_fpml_7</th>\n",
       "      <td>0.89</td>\n",
       "      <td>0.82</td>\n",
       "    </tr>\n",
       "    <tr>\n",
       "      <th>streeterfpml_2x3</th>\n",
       "      <td>0.80</td>\n",
       "      <td>0.71</td>\n",
       "    </tr>\n",
       "  </tbody>\n",
       "</table>\n",
       "</div>"
      ],
      "text/plain": [
       "                                       visible_score  generalization_score\n",
       "optimizer                                                                 \n",
       "HyperOpt_0.2.7_a376313                          0.33                  0.28\n",
       "OpenTuner-BanditA_0.8.7_a376313                 0.34                  0.36\n",
       "OpenTuner-GA-DE_0.8.7_a376313                   0.38                  0.28\n",
       "OpenTuner-GA_0.8.7_a376313                      0.25                  0.22\n",
       "PySOT_0.3.3_a376313                             0.37                  0.30\n",
       "RandomSearch_0.0.8_a376313                      0.19                  0.28\n",
       "Scikit-GBRT-Hedge_0.9.0_a376313                 0.49                  0.40\n",
       "Scikit-GP-Hedge_0.9.0_a376313                   0.53                  0.49\n",
       "Scikit-GP-LCB_0.9.0_a376313                     0.58                  0.35\n",
       "best_2                                          0.77                  0.52\n",
       "best_3                                          0.86                  0.63\n",
       "best_4                                          0.89                  0.66\n",
       "best_5                                          0.91                  0.78\n",
       "best_6                                          0.92                  0.78\n",
       "pure_2_fpml                                     0.58                  0.53\n",
       "pure_fpml_3                                     0.67                  0.61\n",
       "pure_fpml_4                                     0.79                  0.66\n",
       "pure_fpml_5                                     0.78                  0.68\n",
       "pure_fpml_6                                     0.88                  0.77\n",
       "pure_fpml_7                                     0.89                  0.82\n",
       "streeterfpml_2x3                                0.80                  0.71"
      ]
     },
     "execution_count": 55,
     "metadata": {},
     "output_type": "execute_result"
    }
   ],
   "source": [
    "meta_comparison.run_meta_comparison()\n",
    "meta_comparison.summary()"
   ]
  }
 ],
 "metadata": {
  "colab": {
   "name": "rough.ipynb",
   "provenance": []
  },
  "kernelspec": {
   "display_name": "Python 3 (ipykernel)",
   "language": "python",
   "name": "python3"
  },
  "language_info": {
   "codemirror_mode": {
    "name": "ipython",
    "version": 3
   },
   "file_extension": ".py",
   "mimetype": "text/x-python",
   "name": "python",
   "nbconvert_exporter": "python",
   "pygments_lexer": "ipython3",
   "version": "3.9.7"
  }
 },
 "nbformat": 4,
 "nbformat_minor": 5
}
