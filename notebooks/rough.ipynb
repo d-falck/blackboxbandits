{
 "cells": [
  {
   "cell_type": "code",
   "execution_count": 1,
   "id": "622da77c",
   "metadata": {},
   "outputs": [],
   "source": [
    "%load_ext autoreload\n",
    "%autoreload 2"
   ]
  },
  {
   "cell_type": "code",
   "execution_count": 5,
   "id": "d3cbd1cf-a6fc-4282-8d6a-e5ae0c71910c",
   "metadata": {},
   "outputs": [],
   "source": [
    "from blackboxbandits import compare, bandits, meta\n",
    "import pandas as pd\n",
    "\n",
    "pd.set_option('display.max_rows', None)\n",
    "pd.options.display.float_format = '{:20,.2f}'.format"
   ]
  },
  {
   "cell_type": "code",
   "execution_count": 6,
   "id": "8bcf98d1",
   "metadata": {},
   "outputs": [],
   "source": [
    "meta_optimizers = {\n",
    "    \"best_2\": meta.BestFixedTAlgos(T=2),\n",
    "    \"best_3\": meta.BestFixedTAlgos(T=3),\n",
    "    \"best_6\": meta.BestFixedTAlgos(T=6),\n",
    "    \"pure_6_fpml\": meta.BanditMetaOptimizer(\n",
    "        bandit_type=bandits.FPML, T=5, S=1\n",
    "    ),\n",
    "    \"2_3_fpmlstreeter\": meta.BanditMetaOptimizer(\n",
    "        bandit_type=bandits.StreeterFPML, T=6, T_1=2, T_2=3, S=1\n",
    "    )\n",
    "}"
   ]
  },
  {
   "cell_type": "code",
   "execution_count": 7,
   "id": "4419bfb0",
   "metadata": {},
   "outputs": [],
   "source": [
    "meta_comparison = compare.MetaOptimizerComparison(\n",
    "    meta_optimizers=meta_optimizers,\n",
    "    base_optimizers=[\"HyperOpt\", \"Nevergrad-OnePlusOne\", \"OpenTuner-BanditA\",\n",
    "                     \"OpenTuner-GA\", \"OpenTuner-GA-DE\", \"PySOT\", \"RandomSearch\",\n",
    "                     \"Scikit-GBRT-Hedge\", \"Scikit-GP-Hedge\", \"Scikit-GP-LCB\"],\n",
    "    classifiers=[\"lasso\", \"SVM\", \"MLP-adam\"],\n",
    "    datasets = [\"breast\", \"digits\", \"boston\"],\n",
    "    metrics = [\"nll\", \"mse\"],\n",
    "    num_calls = 20,\n",
    "    num_repetitions = 4,\n",
    "    db_root = \"./data\"\n",
    ")"
   ]
  },
  {
   "cell_type": "code",
   "execution_count": 8,
   "id": "eaa79fb4",
   "metadata": {},
   "outputs": [
    {
     "name": "stdout",
     "output_type": "stream",
     "text": [
      "{\"exp-agg sig errors\": {\"MLP-adam_boston_mse\": {\"0\": 0.0, \"1\": 0.0, \"2\": 0.0, \"3\": 0.0, \"4\": 0.0, \"max\": 0.0}, \"max\": {\"0\": 0.0, \"1\": 0.0, \"2\": 0.0, \"3\": 0.0, \"4\": 0.0, \"max\": 0.0}}}\n"
     ]
    },
    {
     "name": "stderr",
     "output_type": "stream",
     "text": [
      "/Users/dfalck/opt/anaconda3/envs/bandits/lib/python3.9/site-packages/bayesmark/experiment_analysis.py:256: UserWarning: Baselines not found. Need to construct baseline.\n",
      "  warnings.warn(\"Baselines not found. Need to construct baseline.\")\n",
      "Traceback (most recent call last):\n",
      "  File \"/Users/dfalck/opt/anaconda3/envs/bandits/bin/bayesmark-anal\", line 8, in <module>\n",
      "    sys.exit(main())\n",
      "  File \"/Users/dfalck/opt/anaconda3/envs/bandits/lib/python3.9/site-packages/bayesmark/experiment_analysis.py\", line 257, in main\n",
      "    do_baseline(args)\n",
      "  File \"/Users/dfalck/opt/anaconda3/envs/bandits/lib/python3.9/site-packages/bayesmark/experiment_baseline.py\", line 155, in do_baseline\n",
      "    D[(kk,)] = compute_baseline(perf_da)\n",
      "  File \"/Users/dfalck/opt/anaconda3/envs/bandits/lib/python3.9/site-packages/bayesmark/experiment_baseline.py\", line 79, in compute_baseline\n",
      "    assert len(ref_random) > 0, \"Did not find any random search in methods.\"\n",
      "AssertionError: Did not find any random search in methods.\n"
     ]
    },
    {
     "ename": "TypeError",
     "evalue": "get_results() takes 1 positional argument but 2 were given",
     "output_type": "error",
     "traceback": [
      "\u001b[0;31m---------------------------------------------------------------------------\u001b[0m",
      "\u001b[0;31mTypeError\u001b[0m                                 Traceback (most recent call last)",
      "\u001b[1;32m/Users/dfalck/OneDrive - Nexus365/Documents/Oxford/Academic/Part C/Research/Code/blackboxbandits/notebooks/rough.ipynb Cell 5'\u001b[0m in \u001b[0;36m<module>\u001b[0;34m\u001b[0m\n\u001b[0;32m----> <a href='vscode-notebook-cell:/Users/dfalck/OneDrive%20-%20Nexus365/Documents/Oxford/Academic/Part%20C/Research/Code/blackboxbandits/notebooks/rough.ipynb#ch0000021?line=0'>1</a>\u001b[0m meta_comparison\u001b[39m.\u001b[39;49mrun_base_comparison()\n\u001b[1;32m      <a href='vscode-notebook-cell:/Users/dfalck/OneDrive%20-%20Nexus365/Documents/Oxford/Academic/Part%20C/Research/Code/blackboxbandits/notebooks/rough.ipynb#ch0000021?line=1'>2</a>\u001b[0m dbid \u001b[39m=\u001b[39m meta_comparison\u001b[39m.\u001b[39mget_dbid()\n",
      "File \u001b[0;32m~/OneDrive - Nexus365/Documents/Oxford/Academic/Part C/Research/Code/blackboxbandits/src/blackboxbandits/compare.py:158\u001b[0m, in \u001b[0;36mMetaOptimizerComparison.run_base_comparison\u001b[0;34m(self)\u001b[0m\n\u001b[1;32m    <a href='file:///~/OneDrive%20-%20Nexus365/Documents/Oxford/Academic/Part%20C/Research/Code/blackboxbandits/src/blackboxbandits/compare.py?line=155'>156</a>\u001b[0m base_comparison\u001b[39m.\u001b[39mrun()\n\u001b[1;32m    <a href='file:///~/OneDrive%20-%20Nexus365/Documents/Oxford/Academic/Part%20C/Research/Code/blackboxbandits/src/blackboxbandits/compare.py?line=156'>157</a>\u001b[0m \u001b[39mself\u001b[39m\u001b[39m.\u001b[39mdbid \u001b[39m=\u001b[39m base_comparison\u001b[39m.\u001b[39mget_dbid()\n\u001b[0;32m--> <a href='file:///~/OneDrive%20-%20Nexus365/Documents/Oxford/Academic/Part%20C/Research/Code/blackboxbandits/src/blackboxbandits/compare.py?line=157'>158</a>\u001b[0m \u001b[39mself\u001b[39m\u001b[39m.\u001b[39mbase_comparison_data \u001b[39m=\u001b[39m BaseOptimizerComparison \\\n\u001b[1;32m    <a href='file:///~/OneDrive%20-%20Nexus365/Documents/Oxford/Academic/Part%20C/Research/Code/blackboxbandits/src/blackboxbandits/compare.py?line=158'>159</a>\u001b[0m     \u001b[39m.\u001b[39;49mget_results(\u001b[39mself\u001b[39;49m\u001b[39m.\u001b[39;49mdbid, \u001b[39mself\u001b[39;49m\u001b[39m.\u001b[39;49mdb_root)\n",
      "\u001b[0;31mTypeError\u001b[0m: get_results() takes 1 positional argument but 2 were given"
     ]
    }
   ],
   "source": [
    "meta_comparison.run_base_comparison()\n",
    "dbid = meta_comparison.get_dbid()"
   ]
  },
  {
   "cell_type": "code",
   "execution_count": null,
   "id": "a16868ee",
   "metadata": {},
   "outputs": [],
   "source": [
    "meta_comparison.run_meta_comparison()\n",
    "meta_comparison.results()"
   ]
  }
 ],
 "metadata": {
  "kernelspec": {
   "display_name": "Python 3",
   "language": "python",
   "name": "python3"
  },
  "language_info": {
   "codemirror_mode": {
    "name": "ipython",
    "version": 3
   },
   "file_extension": ".py",
   "mimetype": "text/x-python",
   "name": "python",
   "nbconvert_exporter": "python",
   "pygments_lexer": "ipython3",
   "version": "3.9.7"
  }
 },
 "nbformat": 4,
 "nbformat_minor": 5
}
