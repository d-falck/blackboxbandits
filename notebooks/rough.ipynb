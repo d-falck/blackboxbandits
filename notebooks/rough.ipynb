{
 "cells": [
  {
   "cell_type": "code",
   "execution_count": 2,
   "id": "622da77c",
   "metadata": {},
   "outputs": [],
   "source": [
    "%load_ext autoreload\n",
    "%autoreload 2"
   ]
  },
  {
   "cell_type": "code",
   "execution_count": 2,
   "id": "d3cbd1cf-a6fc-4282-8d6a-e5ae0c71910c",
   "metadata": {},
   "outputs": [],
   "source": [
    "from blackboxbandits import compare, bandits\n",
    "import pandas as pd\n",
    "\n",
    "pd.set_option('display.max_rows', None)\n",
    "pd.options.display.float_format = '{:20,.2f}'.format"
   ]
  },
  {
   "cell_type": "code",
   "execution_count": null,
   "id": "8bcf98d1",
   "metadata": {},
   "outputs": [],
   "source": [
    "meta_optimizers = {\n",
    "    \"best_2\": compare.BestFixedTAlgos(T=2),\n",
    "    \"best_3\": compare.BestFixedTAlgos(T=3),\n",
    "    \"best_6\": compare.BestFixedTAlgos(T=6),\n",
    "    \"pure_6_fpml\": compare.BanditMetaOptimizer(\n",
    "        bandit_type=bandits.FPML,\n",
    "        T=5,\n",
    "        S=1\n",
    "    ),\n",
    "    \"2_3_fpmlstreeter\": compare.BanditMetaOptimizer(\n",
    "        bandit_type=bandits.StreeterFPML,\n",
    "        T=6,\n",
    "        T_1=2,\n",
    "        T_2=3,\n",
    "        S=1\n",
    "    )\n",
    "}"
   ]
  },
  {
   "cell_type": "code",
   "execution_count": null,
   "id": "4419bfb0",
   "metadata": {},
   "outputs": [],
   "source": [
    "meta_comparison = compare.MetaOptimizerComparison(\n",
    "    meta_optimizers=meta_optimizers,\n",
    "    base_optimizers=[\"HyperOpt\", \"Nevergrad-OnePlusOne\", \"OpenTuner-BanditA\",\n",
    "                     \"OpenTuner-GA\", \"OpenTuner-GA-DE\", \"PySOT\", \"RandomSearch\",\n",
    "                     \"Scikit-GBRT-Hedge\", \"Scikit-GP-Hedge\", \"Scikit-GP-LCB\"],\n",
    "    classifiers=[\"lasso\", \"SVM\", \"MLP-adam\"],\n",
    "    datasets = [\"breast\", \"digits\", \"boston\"],\n",
    "    metrics = [\"nll\", \"mse\"],\n",
    "    num_calls = 20,\n",
    "    num_repetitions = 4,\n",
    "    db_root = \"./data\"\n",
    ")"
   ]
  },
  {
   "cell_type": "code",
   "execution_count": null,
   "id": "eaa79fb4",
   "metadata": {},
   "outputs": [],
   "source": [
    "meta_comparison.run_base_comparison()\n",
    "dbid = meta_comparison.get_dbid()"
   ]
  },
  {
   "cell_type": "code",
   "execution_count": null,
   "id": "a16868ee",
   "metadata": {},
   "outputs": [],
   "source": [
    "meta_comparison.run_meta_comparison()\n",
    "meta_comparison.results()"
   ]
  }
 ],
 "metadata": {
  "kernelspec": {
   "display_name": "Python 3",
   "language": "python",
   "name": "python3"
  },
  "language_info": {
   "codemirror_mode": {
    "name": "ipython",
    "version": 3
   },
   "file_extension": ".py",
   "mimetype": "text/x-python",
   "name": "python",
   "nbconvert_exporter": "python",
   "pygments_lexer": "ipython3",
   "version": "3.9.7"
  }
 },
 "nbformat": 4,
 "nbformat_minor": 5
}
