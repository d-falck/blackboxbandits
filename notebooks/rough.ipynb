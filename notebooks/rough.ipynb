{
 "cells": [
  {
   "cell_type": "markdown",
   "id": "9e119645",
   "metadata": {
    "id": "9e119645"
   },
   "source": [
    "# Rough example usage"
   ]
  },
  {
   "cell_type": "markdown",
   "id": "6322153c",
   "metadata": {
    "id": "6322153c"
   },
   "source": [
    "[![Open In Colab](https://colab.research.google.com/assets/colab-badge.svg)](https://colab.research.google.com/github/d-falck/blackboxbandits/blob/main/notebooks/rough.ipynb)"
   ]
  },
  {
   "cell_type": "markdown",
   "id": "TWF7z4Sl9m-k",
   "metadata": {
    "id": "TWF7z4Sl9m-k"
   },
   "source": [
    "## Admin if running in Colab"
   ]
  },
  {
   "cell_type": "code",
   "execution_count": null,
   "id": "KmJuv5k3AgJu",
   "metadata": {
    "id": "KmJuv5k3AgJu"
   },
   "outputs": [],
   "source": [
    "!pip install git+https://github.com/d-falck/blackboxbandits.git"
   ]
  },
  {
   "cell_type": "code",
   "execution_count": null,
   "id": "MaywijQ49ttG",
   "metadata": {
    "id": "MaywijQ49ttG"
   },
   "outputs": [],
   "source": [
    "!git clone https://github.com/d-falck/blackboxbandits.git\n",
    "%cd blackboxbandits/notebooks"
   ]
  },
  {
   "cell_type": "markdown",
   "id": "LYm9N5cN9oVV",
   "metadata": {
    "id": "LYm9N5cN9oVV"
   },
   "source": [
    "## Main"
   ]
  },
  {
   "cell_type": "code",
   "execution_count": 1,
   "id": "d3cbd1cf-a6fc-4282-8d6a-e5ae0c71910c",
   "metadata": {
    "colab": {
     "base_uri": "https://localhost:8080/",
     "height": 368
    },
    "id": "d3cbd1cf-a6fc-4282-8d6a-e5ae0c71910c",
    "outputId": "e6da4e31-46f0-4b85-d618-d213876640d3"
   },
   "outputs": [],
   "source": [
    "%load_ext autoreload\n",
    "%autoreload 2\n",
    "\n",
    "from blackboxbandits import compare, bandits, meta\n",
    "import pandas as pd\n",
    "\n",
    "pd.set_option('display.max_rows', None)\n",
    "pd.options.display.float_format = '{:20,.2f}'.format"
   ]
  },
  {
   "cell_type": "code",
   "execution_count": 2,
   "id": "8bcf98d1",
   "metadata": {
    "id": "8bcf98d1"
   },
   "outputs": [],
   "source": [
    "meta_optimizers = {\n",
    "    \"best_2\": meta.BestFixedTAlgos(T=2),\n",
    "    \"pure_2_fpml\": meta.BanditMetaOptimizer(\n",
    "        bandit_type=bandits.FPML, T=3, S=1\n",
    "    )\n",
    "}"
   ]
  },
  {
   "cell_type": "code",
   "execution_count": 9,
   "id": "4419bfb0",
   "metadata": {
    "id": "4419bfb0"
   },
   "outputs": [],
   "source": [
    "meta_comparison = compare.MetaOptimizerComparison(\n",
    "    meta_optimizers=meta_optimizers,\n",
    "    base_optimizers=[\"HyperOpt\", \"PySOT\", \"RandomSearch\", \"Scikit-GBRT-Hedge\"],\n",
    "    classifiers=[\"lasso\", \"MLP-adam\"],\n",
    "    datasets = [\"breast\", \"digits\"],\n",
    "    metrics = [\"mse\", \"nll\"],\n",
    "    num_calls = 15,\n",
    "    num_repetitions = 3,\n",
    "    db_root = \"./data\",\n",
    "    parallel = True\n",
    ")"
   ]
  },
  {
   "cell_type": "code",
   "execution_count": 8,
   "id": "eaa79fb4",
   "metadata": {
    "id": "eaa79fb4"
   },
   "outputs": [
    {
     "name": "stdout",
     "output_type": "stream",
     "text": [
      "Supply --uuid 82fea453eb7f45cb85dd5ffbf0fa87c4 to reproduce this run.\n",
      "\n",
      "/home/damon_falck/miniconda3/envs/bandits/lib/python3.9/site-packages/bayesmark/experiment_launcher.py:175: UserWarning: \n",
      "\n",
      "User must ensure\n",
      "\n",
      "/home/damon_falck/blackboxbandits/notebooks/data/bo_20220209_175037_6vttc2n1\n",
      "\n",
      "exists, and setup folder using\n",
      "\n",
      "mkdir derived log eval time suggest_log\n",
      "\n",
      "User must ensure equal reps of each optimizer for unbiased results.\n",
      "\n",
      "  warnings.warn(manual_setup_info, UserWarning)\n",
      "\n",
      "-c MLP-adam -d breast -o HyperOpt -u 06fe3d4a6fb75c3a8b4c407deeabe006 -m nll -n 15 -p 1 -dir /home/damon_falck/blackboxbandits/notebooks/data -b bo_20220209_175037_6vttc2n1\n",
      "\n",
      "-c MLP-adam -d breast -o PySOT -u 6fd8be2d70c157fcbee680e26e6d9d9b -m nll -n 15 -p 1 -dir /home/damon_falck/blackboxbandits/notebooks/data -b bo_20220209_175037_6vttc2n1\n",
      "\n",
      "-c MLP-adam -d breast -o RandomSearch -u 32b89777491c576da4048449d4b4bc40 -m nll -n 15 -p 1 -dir /home/damon_falck/blackboxbandits/notebooks/data -b bo_20220209_175037_6vttc2n1\n",
      "\n",
      "-c MLP-adam -d breast -o Scikit-GBRT-Hedge -u 347d5948c13f58d4b03ea0d29abfe87a -m nll -n 15 -p 1 -dir /home/damon_falck/blackboxbandits/notebooks/data -b bo_20220209_175037_6vttc2n1\n",
      "\n",
      "-c MLP-adam -d digits -o HyperOpt -u c29ed2d7d90c53d4a28098afad31cac3 -m nll -n 15 -p 1 -dir /home/damon_falck/blackboxbandits/notebooks/data -b bo_20220209_175037_6vttc2n1\n",
      "\n",
      "-c MLP-adam -d digits -o PySOT -u f6a038e06f655122814a980d6aa4e7b9 -m nll -n 15 -p 1 -dir /home/damon_falck/blackboxbandits/notebooks/data -b bo_20220209_175037_6vttc2n1\n",
      "\n",
      "-c MLP-adam -d digits -o RandomSearch -u 50b15eb2895853e78f902beff8cbbf43 -m nll -n 15 -p 1 -dir /home/damon_falck/blackboxbandits/notebooks/data -b bo_20220209_175037_6vttc2n1\n",
      "\n",
      "-c MLP-adam -d digits -o Scikit-GBRT-Hedge -u e9bd511dbab756a8af49463f5cdb1476 -m nll -n 15 -p 1 -dir /home/damon_falck/blackboxbandits/notebooks/data -b bo_20220209_175037_6vttc2n1\n",
      "\n",
      "-c lasso -d breast -o HyperOpt -u 89a16b65919b58908723f3646edf13b6 -m nll -n 15 -p 1 -dir /home/damon_falck/blackboxbandits/notebooks/data -b bo_20220209_175037_6vttc2n1\n",
      "\n",
      "-c lasso -d breast -o PySOT -u 823cabd0f5285da9b4d9291ceff66af6 -m nll -n 15 -p 1 -dir /home/damon_falck/blackboxbandits/notebooks/data -b bo_20220209_175037_6vttc2n1\n",
      "\n",
      "-c lasso -d breast -o RandomSearch -u 9087d7ca90e05876b3ebb0023d252a97 -m nll -n 15 -p 1 -dir /home/damon_falck/blackboxbandits/notebooks/data -b bo_20220209_175037_6vttc2n1\n",
      "\n",
      "-c lasso -d breast -o Scikit-GBRT-Hedge -u ac0c3111d3705852901b431626b65b34 -m nll -n 15 -p 1 -dir /home/damon_falck/blackboxbandits/notebooks/data -b bo_20220209_175037_6vttc2n1\n",
      "\n",
      "-c lasso -d digits -o HyperOpt -u 5ca78b58b2a156bea1373c5171a41d57 -m nll -n 15 -p 1 -dir /home/damon_falck/blackboxbandits/notebooks/data -b bo_20220209_175037_6vttc2n1\n",
      "\n",
      "-c lasso -d digits -o PySOT -u f246b0a23a895a498a2b775393eea343 -m nll -n 15 -p 1 -dir /home/damon_falck/blackboxbandits/notebooks/data -b bo_20220209_175037_6vttc2n1\n",
      "\n",
      "-c lasso -d digits -o RandomSearch -u e0094ce5791757d3b43e38b7fc0767c8 -m nll -n 15 -p 1 -dir /home/damon_falck/blackboxbandits/notebooks/data -b bo_20220209_175037_6vttc2n1\n",
      "\n",
      "-c lasso -d digits -o Scikit-GBRT-Hedge -u acefc888d82e51beb10e01181b5fdfbf -m nll -n 15 -p 1 -dir /home/damon_falck/blackboxbandits/notebooks/data -b bo_20220209_175037_6vttc2n1\n",
      "\n",
      "-c MLP-adam -d breast -o HyperOpt -u 4e91d53ac4c959e19e137237a324a7e0 -m nll -n 15 -p 1 -dir /home/damon_falck/blackboxbandits/notebooks/data -b bo_20220209_175037_6vttc2n1\n",
      "\n",
      "-c MLP-adam -d breast -o PySOT -u 57facd30d7b255eb963b531021facd9f -m nll -n 15 -p 1 -dir /home/damon_falck/blackboxbandits/notebooks/data -b bo_20220209_175037_6vttc2n1\n",
      "\n",
      "-c MLP-adam -d breast -o RandomSearch -u cc22a0a92bb25f8ca0e9e50e2af3f9d1 -m nll -n 15 -p 1 -dir /home/damon_falck/blackboxbandits/notebooks/data -b bo_20220209_175037_6vttc2n1\n",
      "\n",
      "-c MLP-adam -d breast -o Scikit-GBRT-Hedge -u 83bb6de54524581dbf4410ef5b7dc996 -m nll -n 15 -p 1 -dir /home/damon_falck/blackboxbandits/notebooks/data -b bo_20220209_175037_6vttc2n1\n",
      "\n",
      "-c MLP-adam -d digits -o HyperOpt -u d0cb987f0fbc5ab198a3ff4dc2ba3195 -m nll -n 15 -p 1 -dir /home/damon_falck/blackboxbandits/notebooks/data -b bo_20220209_175037_6vttc2n1\n",
      "\n",
      "-c MLP-adam -d digits -o PySOT -u 059f83b35fa55e3a90fc5ea970ca0844 -m nll -n 15 -p 1 -dir /home/damon_falck/blackboxbandits/notebooks/data -b bo_20220209_175037_6vttc2n1\n",
      "\n",
      "-c MLP-adam -d digits -o RandomSearch -u 29488afb85b05018b1d2162d166594fb -m nll -n 15 -p 1 -dir /home/damon_falck/blackboxbandits/notebooks/data -b bo_20220209_175037_6vttc2n1\n",
      "\n",
      "-c MLP-adam -d digits -o Scikit-GBRT-Hedge -u 47c67e023b3d5303aaea7f73046d5603 -m nll -n 15 -p 1 -dir /home/damon_falck/blackboxbandits/notebooks/data -b bo_20220209_175037_6vttc2n1\n",
      "\n",
      "-c lasso -d breast -o HyperOpt -u b4c036e85dcd5f30a16a4aadcd2934ad -m nll -n 15 -p 1 -dir /home/damon_falck/blackboxbandits/notebooks/data -b bo_20220209_175037_6vttc2n1\n",
      "\n",
      "-c lasso -d breast -o PySOT -u ea9417e76d19597cbb79646a3f82670b -m nll -n 15 -p 1 -dir /home/damon_falck/blackboxbandits/notebooks/data -b bo_20220209_175037_6vttc2n1\n",
      "\n",
      "-c lasso -d breast -o RandomSearch -u aa10f5718f3f5a49bc40df0806c69974 -m nll -n 15 -p 1 -dir /home/damon_falck/blackboxbandits/notebooks/data -b bo_20220209_175037_6vttc2n1\n",
      "\n",
      "-c lasso -d breast -o Scikit-GBRT-Hedge -u 54a20208d0e2535ea1064e09dd51b313 -m nll -n 15 -p 1 -dir /home/damon_falck/blackboxbandits/notebooks/data -b bo_20220209_175037_6vttc2n1\n",
      "\n",
      "-c lasso -d digits -o HyperOpt -u 9a5a2e54ea6f5db1897c81dcfde6c190 -m nll -n 15 -p 1 -dir /home/damon_falck/blackboxbandits/notebooks/data -b bo_20220209_175037_6vttc2n1\n",
      "\n",
      "-c lasso -d digits -o PySOT -u 3760c46be28259b6ad6a1b790abe9011 -m nll -n 15 -p 1 -dir /home/damon_falck/blackboxbandits/notebooks/data -b bo_20220209_175037_6vttc2n1\n",
      "\n",
      "-c lasso -d digits -o RandomSearch -u 6b912fbf6911592e92be9d220259dcff -m nll -n 15 -p 1 -dir /home/damon_falck/blackboxbandits/notebooks/data -b bo_20220209_175037_6vttc2n1\n",
      "\n",
      "-c lasso -d digits -o Scikit-GBRT-Hedge -u 9ba99ddebc2f5533a93aa510b238606d -m nll -n 15 -p 1 -dir /home/damon_falck/blackboxbandits/notebooks/data -b bo_20220209_175037_6vttc2n1\n",
      "\n",
      "-c MLP-adam -d breast -o HyperOpt -u b5d34247dff5534d878bf8d036660942 -m nll -n 15 -p 1 -dir /home/damon_falck/blackboxbandits/notebooks/data -b bo_20220209_175037_6vttc2n1\n",
      "\n",
      "-c MLP-adam -d breast -o PySOT -u 5af07f39e987510abd3175887488ea5f -m nll -n 15 -p 1 -dir /home/damon_falck/blackboxbandits/notebooks/data -b bo_20220209_175037_6vttc2n1\n",
      "\n",
      "-c MLP-adam -d breast -o RandomSearch -u e70528abddae5db5be7e3375906a238f -m nll -n 15 -p 1 -dir /home/damon_falck/blackboxbandits/notebooks/data -b bo_20220209_175037_6vttc2n1\n",
      "\n",
      "-c MLP-adam -d breast -o Scikit-GBRT-Hedge -u 47e57af2112a52f2b36b59c32b79a280 -m nll -n 15 -p 1 -dir /home/damon_falck/blackboxbandits/notebooks/data -b bo_20220209_175037_6vttc2n1\n",
      "\n",
      "-c MLP-adam -d digits -o HyperOpt -u 299e7ccea7ff5b6bad46758ad1c162ec -m nll -n 15 -p 1 -dir /home/damon_falck/blackboxbandits/notebooks/data -b bo_20220209_175037_6vttc2n1\n",
      "\n",
      "-c MLP-adam -d digits -o PySOT -u 591633d6e32455f983cd0fbce6215962 -m nll -n 15 -p 1 -dir /home/damon_falck/blackboxbandits/notebooks/data -b bo_20220209_175037_6vttc2n1\n",
      "\n",
      "-c MLP-adam -d digits -o RandomSearch -u 29c985cc4fbf50a6bd3d03eb4fb58d07 -m nll -n 15 -p 1 -dir /home/damon_falck/blackboxbandits/notebooks/data -b bo_20220209_175037_6vttc2n1\n",
      "\n",
      "-c MLP-adam -d digits -o Scikit-GBRT-Hedge -u 38ba28f5d4eb5007b5a8b9eafb2292db -m nll -n 15 -p 1 -dir /home/damon_falck/blackboxbandits/notebooks/data -b bo_20220209_175037_6vttc2n1\n",
      "\n",
      "-c lasso -d breast -o HyperOpt -u eb925a660bac50d799333183a5831477 -m nll -n 15 -p 1 -dir /home/damon_falck/blackboxbandits/notebooks/data -b bo_20220209_175037_6vttc2n1\n",
      "\n",
      "-c lasso -d breast -o PySOT -u 19e94fd36d245386a580449aec41ab44 -m nll -n 15 -p 1 -dir /home/damon_falck/blackboxbandits/notebooks/data -b bo_20220209_175037_6vttc2n1\n",
      "\n",
      "-c lasso -d breast -o RandomSearch -u 1e679287edfa5ab5819ca012485ae732 -m nll -n 15 -p 1 -dir /home/damon_falck/blackboxbandits/notebooks/data -b bo_20220209_175037_6vttc2n1\n",
      "\n",
      "-c lasso -d breast -o Scikit-GBRT-Hedge -u ceab5ea6e19e5d52a8c6448c3e8e4323 -m nll -n 15 -p 1 -dir /home/damon_falck/blackboxbandits/notebooks/data -b bo_20220209_175037_6vttc2n1\n",
      "\n",
      "-c lasso -d digits -o HyperOpt -u 7c08492b0b8b587d9cd4dcc6ad91bf6c -m nll -n 15 -p 1 -dir /home/damon_falck/blackboxbandits/notebooks/data -b bo_20220209_175037_6vttc2n1\n",
      "\n",
      "-c lasso -d digits -o PySOT -u f6a7bb4ec17c545db6e816771de8dedd -m nll -n 15 -p 1 -dir /home/damon_falck/blackboxbandits/notebooks/data -b bo_20220209_175037_6vttc2n1\n",
      "\n",
      "-c lasso -d digits -o RandomSearch -u 2904a53de24759ea8f4a0841256b155e -m nll -n 15 -p 1 -dir /home/damon_falck/blackboxbandits/notebooks/data -b bo_20220209_175037_6vttc2n1\n",
      "\n",
      "-c lasso -d digits -o Scikit-GBRT-Hedge -u 1afffc6b42105d1abfc3a54376f3e69c -m nll -n 15 -p 1 -dir /home/damon_falck/blackboxbandits/notebooks/data -b bo_20220209_175037_6vttc2n1\n",
      "\n",
      "done\n",
      "\n",
      "Launcher options (JSON):\n",
      "\n",
      "{\"bayesmark-launch-args\": {\"--uuid\": \"82fea453eb7f45cb85dd5ffbf0fa87c4\", \"-db-root\": \"/home/damon_falck/blackboxbandits/notebooks/data\", \"--opt-root\": \"/home/damon_falck/blackboxbandits/notebooks\", \"--data-root\": null, \"--db\": \"bo_20220209_175037_6vttc2n1\", \"--opt\": [\"HyperOpt\", \"PySOT\", \"RandomSearch\", \"Scikit-GBRT-Hedge\"], \"--data\": [\"breast\", \"digits\"], \"--classifier\": [\"lasso\", \"MLP-adam\"], \"--metric\": [\"mse\", \"nll\"], \"--calls\": 15, \"--suggestions\": 1, \"--repeat\": 3, \"--num-jobs\": 48, \"--jobs-file\": \"/home/damon_falck/blackboxbandits/notebooks/jobs.txt\", \"--verbose\": true, \"--timeout\": 0, \"dry_run\": true, \"rev\": \"a376313\", \"opt_rev\": null}}\n",
      "\n",
      "\n",
      "\n",
      "Starting job Starting processing 48 jobs.\n",
      "job_82fea45_00\n",
      "Starting job job_82fea45_01\n",
      "Starting job job_82fea45_02\n",
      "Starting job job_82fea45_03\n",
      "Starting job job_82fea45_04\n",
      "Starting job job_82fea45_05\n",
      "Starting job job_82fea45_06\n",
      "Starting job job_82fea45_07\n",
      "Starting job job_82fea45_08\n",
      "Starting job job_82fea45_09\n",
      "Starting job job_82fea45_10\n",
      "Starting job job_82fea45_11\n",
      "Starting job job_82fea45_12\n",
      "Starting job job_82fea45_13\n",
      "Starting job job_82fea45_14\n",
      "Starting job job_82fea45_15\n",
      "Starting job job_82fea45_16\n",
      "Starting job job_82fea45_17\n",
      "Starting job job_82fea45_18\n",
      "Starting job job_82fea45_19\n",
      "Starting job job_82fea45_20\n",
      "Starting job job_82fea45_21\n",
      "Starting job job_82fea45_22\n",
      "Starting job job_82fea45_23\n",
      "Starting job job_82fea45_24\n",
      "Starting job job_82fea45_25\n",
      "Starting job job_82fea45_26\n",
      "Starting job job_82fea45_27\n",
      "Starting job job_82fea45_28\n",
      "Starting job job_82fea45_29\n",
      "Finished job job_82fea45_00\n",
      "Starting job job_82fea45_30\n",
      "Finished job job_82fea45_26\n",
      "Starting job job_82fea45_31\n",
      "Finished job job_82fea45_07\n",
      "Starting job job_82fea45_32\n",
      "Finished job job_82fea45_04\n",
      "Starting job job_82fea45_33\n",
      "Finished job job_82fea45_18\n",
      "Starting job job_82fea45_34\n",
      "Finished job job_82fea45_14\n",
      "Starting job job_82fea45_35\n",
      "Finished job job_82fea45_11\n",
      "Starting job job_82fea45_36\n",
      "Finished job job_82fea45_15\n",
      "Starting job job_82fea45_37\n",
      "Finished job job_82fea45_23\n",
      "Starting job job_82fea45_38\n",
      "Finished job job_82fea45_30\n",
      "Starting job job_82fea45_39\n",
      "Finished job job_82fea45_32\n",
      "Starting job job_82fea45_40\n",
      "Finished job job_82fea45_29\n",
      "Starting job job_82fea45_41\n",
      "Finished job job_82fea45_02\n",
      "Starting job job_82fea45_42\n",
      "Finished job job_82fea45_19\n",
      "Starting job job_82fea45_43\n",
      "Finished job job_82fea45_13\n",
      "Starting job job_82fea45_44\n",
      "Finished job job_82fea45_16\n",
      "Starting job job_82fea45_45\n",
      "Finished job job_82fea45_17\n",
      "Starting job job_82fea45_46\n",
      "Finished job job_82fea45_36\n",
      "Starting job job_82fea45_47\n",
      "Finished job job_82fea45_38\n",
      "Finished job job_82fea45_39\n",
      "Finished job job_82fea45_43\n",
      "Finished job job_82fea45_35\n",
      "Finished job job_82fea45_37\n",
      "Finished job job_82fea45_05\n",
      "Finished job job_82fea45_44\n",
      "Finished job job_82fea45_10\n",
      "Finished job job_82fea45_08\n",
      "Finished job job_82fea45_12\n",
      "Finished job job_82fea45_25\n",
      "Finished job job_82fea45_20\n",
      "Finished job job_82fea45_28\n",
      "Finished job job_82fea45_24\n",
      "Finished job job_82fea45_09\n",
      "Finished job job_82fea45_22\n",
      "Finished job job_82fea45_42\n",
      "Finished job job_82fea45_34\n",
      "Finished job job_82fea45_06\n",
      "Finished job job_82fea45_40\n",
      "Finished job job_82fea45_27\n",
      "Finished job job_82fea45_21\n",
      "Finished job job_82fea45_01\n",
      "Finished job job_82fea45_03\n",
      "Finished job job_82fea45_33\n",
      "Finished job job_82fea45_31\n",
      "Finished job job_82fea45_45\n",
      "Finished job job_82fea45_41\n",
      "Finished job job_82fea45_46\n",
      "Finished job job_82fea45_47\n",
      "Finished processing all jobs.\n",
      "{\"exp-agg sig errors\": {\"MLP-adam_digits_nll\": {\"0\": 0.0, \"1\": 0.0, \"2\": 0.0, \"3\": 0.0, \"4\": 0.0, \"max\": 0.0}, \"MLP-adam_breast_nll\": {\"0\": 0.0, \"1\": 0.0, \"2\": 0.0, \"3\": 0.0, \"4\": 0.0, \"max\": 0.0}, \"lasso_breast_nll\": {\"0\": 0.0, \"1\": 0.0, \"2\": 0.0, \"3\": 0.0, \"4\": 0.0, \"max\": 0.0}, \"lasso_digits_nll\": {\"0\": 0.0, \"1\": 0.0, \"2\": 0.0, \"3\": 0.0, \"4\": 0.0, \"max\": 0.0}, \"max\": {\"0\": 0.0, \"1\": 0.0, \"2\": 0.0, \"3\": 0.0, \"4\": 0.0, \"max\": 0.0}}}\n"
     ]
    },
    {
     "name": "stderr",
     "output_type": "stream",
     "text": [
      "/home/damon_falck/miniconda3/envs/bandits/lib/python3.9/site-packages/bayesmark/experiment_analysis.py:256: UserWarning: Baselines not found. Need to construct baseline.\n",
      "  warnings.warn(\"Baselines not found. Need to construct baseline.\")\n"
     ]
    },
    {
     "name": "stdout",
     "output_type": "stream",
     "text": [
      "{\"exp-anal sig errors\": {\"MLP-adam_digits_nll\": {\"0\": 0.0, \"1\": 0.0, \"2\": 0.0, \"3\": 0.0, \"4\": 0.0, \"max\": 0.0}, \"MLP-adam_breast_nll\": {\"0\": 0.0, \"1\": 0.0, \"2\": 0.0, \"3\": 0.0, \"4\": 0.0, \"max\": 0.0}, \"lasso_breast_nll\": {\"0\": 0.0, \"1\": 0.0, \"2\": 0.0, \"3\": 0.0, \"4\": 0.0, \"max\": 0.0}, \"lasso_digits_nll\": {\"0\": 0.0, \"1\": 0.0, \"2\": 0.0, \"3\": 0.0, \"4\": 0.0, \"max\": 0.0}, \"max\": {\"0\": 0.0, \"1\": 0.0, \"2\": 0.0, \"3\": 0.0, \"4\": 0.0, \"max\": 0.0}}}\n",
      "Scores by problem (JSON):\n",
      "\n",
      "{\"_visible_to_opt\": {\"HyperOpt_0.2.7_a376313\": {\"MLP-adam_breast_nll\": 0.019044382807787977, \"MLP-adam_digits_nll\": 0.10941266195518695, \"lasso_breast_nll\": 0.28760659314536074, \"lasso_digits_nll\": 0.1130110590756596}, \"PySOT_0.3.3_a376313\": {\"MLP-adam_breast_nll\": 0.01982279329617666, \"MLP-adam_digits_nll\": 0.17348709799691406, \"lasso_breast_nll\": 0.27256274579013345, \"lasso_digits_nll\": 0.011210704640611835}, \"RandomSearch_0.0.8_a376313\": {\"MLP-adam_breast_nll\": 0.012878104256077846, \"MLP-adam_digits_nll\": 0.07840537513745056, \"lasso_breast_nll\": 0.1559157022766753, \"lasso_digits_nll\": 0.043299819402562334}, \"Scikit-GBRT-Hedge_0.9.0_a376313\": {\"MLP-adam_breast_nll\": 0.0041485270748737235, \"MLP-adam_digits_nll\": 0.062350225290558954, \"lasso_breast_nll\": 0.23551674815857607, \"lasso_digits_nll\": 0.07859996992780781}}}\n",
      "\n",
      "\n",
      "Final scores (JSON):\n",
      "\n",
      "{\"_visible_to_opt\": {\"HyperOpt_0.2.7_a376313\": 0.1322686742459988, \"PySOT_0.3.3_a376313\": 0.11927083543095901, \"RandomSearch_0.0.8_a376313\": 0.07262475026819151, \"Scikit-GBRT-Hedge_0.9.0_a376313\": 0.09515386761295413}}\n",
      "\n",
      "\n",
      "Scores by problem (JSON):\n",
      "\n",
      "{\"generalization\": {\"HyperOpt_0.2.7_a376313\": {\"MLP-adam_breast_nll\": 0.2523028772512442, \"MLP-adam_digits_nll\": 0.15080860114045763, \"lasso_breast_nll\": 0.07416754894751094, \"lasso_digits_nll\": 0.07863239496426754}, \"PySOT_0.3.3_a376313\": {\"MLP-adam_breast_nll\": 0.3200601731328609, \"MLP-adam_digits_nll\": 0.24366360431385445, \"lasso_breast_nll\": 0.33843100014241695, \"lasso_digits_nll\": 0.0491545744268469}, \"RandomSearch_0.0.8_a376313\": {\"MLP-adam_breast_nll\": 0.03271500399525755, \"MLP-adam_digits_nll\": 0.13591428543229264, \"lasso_breast_nll\": 0.1332123707701832, \"lasso_digits_nll\": 0.08419602262078581}, \"Scikit-GBRT-Hedge_0.9.0_a376313\": {\"MLP-adam_breast_nll\": 0.2384897519056982, \"MLP-adam_digits_nll\": 0.16852556927624704, \"lasso_breast_nll\": 0.08592203671669668, \"lasso_digits_nll\": 0.014115917610517894}}}\n",
      "\n",
      "\n",
      "Final scores (JSON):\n",
      "\n",
      "{\"generalization\": {\"HyperOpt_0.2.7_a376313\": 0.13897785557587006, \"PySOT_0.3.3_a376313\": 0.2378273380039948, \"RandomSearch_0.0.8_a376313\": 0.0965094207046298, \"Scikit-GBRT-Hedge_0.9.0_a376313\": 0.12676331887728998}}\n",
      "\n",
      "\n"
     ]
    }
   ],
   "source": [
    "meta_comparison.run_base_comparison()\n",
    "dbid = meta_comparison.get_dbid()"
   ]
  },
  {
   "cell_type": "code",
   "execution_count": 10,
   "id": "5346a36f-338c-497d-8266-37138bd6052e",
   "metadata": {},
   "outputs": [
    {
     "data": {
      "text/plain": [
       "'bo_20220209_175037_6vttc2n1'"
      ]
     },
     "execution_count": 10,
     "metadata": {},
     "output_type": "execute_result"
    }
   ],
   "source": [
    "dbid"
   ]
  },
  {
   "cell_type": "code",
   "execution_count": 11,
   "id": "55f1d143",
   "metadata": {
    "id": "55f1d143"
   },
   "outputs": [],
   "source": [
    "meta_comparison.load_base_comparison(dbid='bo_20220209_175037_6vttc2n1')"
   ]
  },
  {
   "cell_type": "code",
   "execution_count": 12,
   "id": "cf152acf",
   "metadata": {},
   "outputs": [
    {
     "data": {
      "text/html": [
       "<div>\n",
       "<style scoped>\n",
       "    .dataframe tbody tr th:only-of-type {\n",
       "        vertical-align: middle;\n",
       "    }\n",
       "\n",
       "    .dataframe tbody tr th {\n",
       "        vertical-align: top;\n",
       "    }\n",
       "\n",
       "    .dataframe thead th {\n",
       "        text-align: right;\n",
       "    }\n",
       "</style>\n",
       "<table border=\"1\" class=\"dataframe\">\n",
       "  <thead>\n",
       "    <tr style=\"text-align: right;\">\n",
       "      <th></th>\n",
       "      <th>visible_score</th>\n",
       "      <th>generalization_score</th>\n",
       "    </tr>\n",
       "    <tr>\n",
       "      <th>optimizer</th>\n",
       "      <th></th>\n",
       "      <th></th>\n",
       "    </tr>\n",
       "  </thead>\n",
       "  <tbody>\n",
       "    <tr>\n",
       "      <th>HyperOpt_0.2.7_a376313</th>\n",
       "      <td>0.15</td>\n",
       "      <td>0.30</td>\n",
       "    </tr>\n",
       "    <tr>\n",
       "      <th>PySOT_0.3.3_a376313</th>\n",
       "      <td>0.23</td>\n",
       "      <td>0.42</td>\n",
       "    </tr>\n",
       "    <tr>\n",
       "      <th>RandomSearch_0.0.8_a376313</th>\n",
       "      <td>0.37</td>\n",
       "      <td>0.31</td>\n",
       "    </tr>\n",
       "    <tr>\n",
       "      <th>Scikit-GBRT-Hedge_0.9.0_a376313</th>\n",
       "      <td>0.40</td>\n",
       "      <td>0.61</td>\n",
       "    </tr>\n",
       "    <tr>\n",
       "      <th>best_2</th>\n",
       "      <td>0.67</td>\n",
       "      <td>0.55</td>\n",
       "    </tr>\n",
       "    <tr>\n",
       "      <th>pure_2_fpml</th>\n",
       "      <td>0.58</td>\n",
       "      <td>0.65</td>\n",
       "    </tr>\n",
       "  </tbody>\n",
       "</table>\n",
       "</div>"
      ],
      "text/plain": [
       "                                       visible_score  generalization_score\n",
       "optimizer                                                                 \n",
       "HyperOpt_0.2.7_a376313                          0.15                  0.30\n",
       "PySOT_0.3.3_a376313                             0.23                  0.42\n",
       "RandomSearch_0.0.8_a376313                      0.37                  0.31\n",
       "Scikit-GBRT-Hedge_0.9.0_a376313                 0.40                  0.61\n",
       "best_2                                          0.67                  0.55\n",
       "pure_2_fpml                                     0.58                  0.65"
      ]
     },
     "execution_count": 12,
     "metadata": {},
     "output_type": "execute_result"
    }
   ],
   "source": [
    "meta_comparison.run_meta_comparison()\n",
    "meta_comparison.summary()"
   ]
  },
  {
   "cell_type": "code",
   "execution_count": null,
   "id": "537c91b3-c37d-4a62-8fca-a3d8f5ee54a4",
   "metadata": {},
   "outputs": [],
   "source": []
  }
 ],
 "metadata": {
  "colab": {
   "name": "rough.ipynb",
   "provenance": []
  },
  "kernelspec": {
   "display_name": "Python 3 (ipykernel)",
   "language": "python",
   "name": "python3"
  },
  "language_info": {
   "codemirror_mode": {
    "name": "ipython",
    "version": 3
   },
   "file_extension": ".py",
   "mimetype": "text/x-python",
   "name": "python",
   "nbconvert_exporter": "python",
   "pygments_lexer": "ipython3",
   "version": "3.9.7"
  }
 },
 "nbformat": 4,
 "nbformat_minor": 5
}
