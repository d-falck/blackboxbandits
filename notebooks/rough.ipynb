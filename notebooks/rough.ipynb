{
 "cells": [
  {
   "cell_type": "code",
   "execution_count": 1,
   "id": "622da77c",
   "metadata": {},
   "outputs": [],
   "source": [
    "%load_ext autoreload\n",
    "%autoreload 2"
   ]
  },
  {
   "cell_type": "code",
   "execution_count": 2,
   "id": "d3cbd1cf-a6fc-4282-8d6a-e5ae0c71910c",
   "metadata": {},
   "outputs": [],
   "source": [
    "from blackboxbandits import compare, bandits, meta\n",
    "import pandas as pd\n",
    "\n",
    "pd.set_option('display.max_rows', None)\n",
    "pd.options.display.float_format = '{:20,.2f}'.format"
   ]
  },
  {
   "cell_type": "code",
   "execution_count": 3,
   "id": "8bcf98d1",
   "metadata": {},
   "outputs": [],
   "source": [
    "meta_optimizers = {\n",
    "    \"best_2\": meta.BestFixedTAlgos(T=2),\n",
    "    \"pure_2_fpml\": meta.BanditMetaOptimizer(\n",
    "        bandit_type=bandits.FPML, T=3, S=1\n",
    "    )\n",
    "}"
   ]
  },
  {
   "cell_type": "code",
   "execution_count": 20,
   "id": "4419bfb0",
   "metadata": {},
   "outputs": [],
   "source": [
    "meta_comparison = compare.MetaOptimizerComparison(\n",
    "    meta_optimizers=meta_optimizers,\n",
    "    base_optimizers=[\"HyperOpt\", \"PySOT\", \"RandomSearch\", \"Scikit-GBRT-Hedge\"],\n",
    "    classifiers=[\"lasso\", \"MLP-adam\"],\n",
    "    datasets = [\"breast\", \"digits\"],\n",
    "    metrics = [\"mse\", \"nll\"],\n",
    "    num_calls = 15,\n",
    "    num_repetitions = 3,\n",
    "    db_root = \"./data\"\n",
    ")"
   ]
  },
  {
   "cell_type": "code",
   "execution_count": null,
   "id": "eaa79fb4",
   "metadata": {},
   "outputs": [],
   "source": [
    "meta_comparison.run_base_comparison()\n",
    "dbid = meta_comparison.get_dbid()"
   ]
  },
  {
   "cell_type": "code",
   "execution_count": 21,
   "id": "55f1d143",
   "metadata": {},
   "outputs": [],
   "source": [
    "meta_comparison.load_base_comparison(dbid='bo_20220208_111458_rxokbt8a')"
   ]
  },
  {
   "cell_type": "code",
   "execution_count": 23,
   "id": "a16868ee",
   "metadata": {},
   "outputs": [
    {
     "data": {
      "text/html": [
       "<div>\n",
       "<style scoped>\n",
       "    .dataframe tbody tr th:only-of-type {\n",
       "        vertical-align: middle;\n",
       "    }\n",
       "\n",
       "    .dataframe tbody tr th {\n",
       "        vertical-align: top;\n",
       "    }\n",
       "\n",
       "    .dataframe thead th {\n",
       "        text-align: right;\n",
       "    }\n",
       "</style>\n",
       "<table border=\"1\" class=\"dataframe\">\n",
       "  <thead>\n",
       "    <tr style=\"text-align: right;\">\n",
       "      <th></th>\n",
       "      <th>generalization_score</th>\n",
       "      <th>visible_score</th>\n",
       "    </tr>\n",
       "    <tr>\n",
       "      <th>optimizer</th>\n",
       "      <th></th>\n",
       "      <th></th>\n",
       "    </tr>\n",
       "  </thead>\n",
       "  <tbody>\n",
       "    <tr>\n",
       "      <th>HyperOpt_0.2.7_a376313</th>\n",
       "      <td>0.35</td>\n",
       "      <td>0.35</td>\n",
       "    </tr>\n",
       "    <tr>\n",
       "      <th>PySOT_0.3.3_a376313</th>\n",
       "      <td>0.25</td>\n",
       "      <td>0.37</td>\n",
       "    </tr>\n",
       "    <tr>\n",
       "      <th>RandomSearch_0.0.8_a376313</th>\n",
       "      <td>0.23</td>\n",
       "      <td>0.24</td>\n",
       "    </tr>\n",
       "    <tr>\n",
       "      <th>Scikit-GBRT-Hedge_0.9.0_a376313</th>\n",
       "      <td>0.56</td>\n",
       "      <td>0.53</td>\n",
       "    </tr>\n",
       "    <tr>\n",
       "      <th>best_2</th>\n",
       "      <td>0.49</td>\n",
       "      <td>0.75</td>\n",
       "    </tr>\n",
       "    <tr>\n",
       "      <th>pure_2_fpml</th>\n",
       "      <td>0.69</td>\n",
       "      <td>0.75</td>\n",
       "    </tr>\n",
       "  </tbody>\n",
       "</table>\n",
       "</div>"
      ],
      "text/plain": [
       "                                 generalization_score        visible_score\n",
       "optimizer                                                                 \n",
       "HyperOpt_0.2.7_a376313                           0.35                 0.35\n",
       "PySOT_0.3.3_a376313                              0.25                 0.37\n",
       "RandomSearch_0.0.8_a376313                       0.23                 0.24\n",
       "Scikit-GBRT-Hedge_0.9.0_a376313                  0.56                 0.53\n",
       "best_2                                           0.49                 0.75\n",
       "pure_2_fpml                                      0.69                 0.75"
      ]
     },
     "execution_count": 23,
     "metadata": {},
     "output_type": "execute_result"
    }
   ],
   "source": [
    "meta_comparison.run_meta_comparison()\n",
    "meta_comparison.summary()"
   ]
  },
  {
   "cell_type": "code",
   "execution_count": null,
   "id": "ee8277b7",
   "metadata": {},
   "outputs": [],
   "source": []
  }
 ],
 "metadata": {
  "kernelspec": {
   "display_name": "Python 3",
   "language": "python",
   "name": "python3"
  },
  "language_info": {
   "codemirror_mode": {
    "name": "ipython",
    "version": 3
   },
   "file_extension": ".py",
   "mimetype": "text/x-python",
   "name": "python",
   "nbconvert_exporter": "python",
   "pygments_lexer": "ipython3",
   "version": "3.9.7"
  }
 },
 "nbformat": 4,
 "nbformat_minor": 5
}
