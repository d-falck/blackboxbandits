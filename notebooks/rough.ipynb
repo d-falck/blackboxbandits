{
  "cells": [
    {
      "cell_type": "markdown",
      "id": "9e119645",
      "metadata": {
        "id": "9e119645"
      },
      "source": [
        "# Rough example usage"
      ]
    },
    {
      "cell_type": "markdown",
      "id": "6322153c",
      "metadata": {
        "id": "6322153c"
      },
      "source": [
        "[![Open In Colab](https://colab.research.google.com/assets/colab-badge.svg)](https://colab.research.google.com/github/d-falck/blackboxbandits/blob/main/notebooks/rough.ipynb)"
      ]
    },
    {
      "cell_type": "markdown",
      "id": "TWF7z4Sl9m-k",
      "metadata": {
        "id": "TWF7z4Sl9m-k"
      },
      "source": [
        "## Admin if running in Colab"
      ]
    },
    {
      "cell_type": "code",
      "execution_count": null,
      "id": "KmJuv5k3AgJu",
      "metadata": {
        "id": "KmJuv5k3AgJu"
      },
      "outputs": [],
      "source": [
        "!pip install git+https://github.com/d-falck/blackboxbandits.git"
      ]
    },
    {
      "cell_type": "code",
      "execution_count": null,
      "id": "MaywijQ49ttG",
      "metadata": {
        "id": "MaywijQ49ttG"
      },
      "outputs": [],
      "source": [
        "!git clone https://github.com/d-falck/blackboxbandits.git\n",
        "%cd blackboxbandits/notebooks"
      ]
    },
    {
      "cell_type": "markdown",
      "id": "LYm9N5cN9oVV",
      "metadata": {
        "id": "LYm9N5cN9oVV"
      },
      "source": [
        "## Main"
      ]
    },
    {
      "cell_type": "code",
      "execution_count": null,
      "id": "d3cbd1cf-a6fc-4282-8d6a-e5ae0c71910c",
      "metadata": {
        "colab": {
          "base_uri": "https://localhost:8080/",
          "height": 368
        },
        "id": "d3cbd1cf-a6fc-4282-8d6a-e5ae0c71910c",
        "outputId": "e6da4e31-46f0-4b85-d618-d213876640d3"
      },
      "outputs": [],
      "source": [
        "%load_ext autoreload\n",
        "%autoreload 2\n",
        "\n",
        "from blackboxbandits import compare, bandits, meta\n",
        "import pandas as pd\n",
        "\n",
        "pd.set_option('display.max_rows', None)\n",
        "pd.options.display.float_format = '{:20,.2f}'.format"
      ]
    },
    {
      "cell_type": "code",
      "execution_count": null,
      "id": "8bcf98d1",
      "metadata": {
        "id": "8bcf98d1"
      },
      "outputs": [],
      "source": [
        "meta_optimizers = {\n",
        "    \"best_2\": meta.BestFixedTAlgos(T=2),\n",
        "    \"pure_2_fpml\": meta.BanditMetaOptimizer(\n",
        "        bandit_type=bandits.FPML, T=3, S=1\n",
        "    )\n",
        "}"
      ]
    },
    {
      "cell_type": "code",
      "execution_count": null,
      "id": "4419bfb0",
      "metadata": {
        "id": "4419bfb0"
      },
      "outputs": [],
      "source": [
        "meta_comparison = compare.MetaOptimizerComparison(\n",
        "    meta_optimizers=meta_optimizers,\n",
        "    base_optimizers=[\"HyperOpt\", \"PySOT\", \"RandomSearch\", \"Scikit-GBRT-Hedge\"],\n",
        "    classifiers=[\"lasso\", \"MLP-adam\"],\n",
        "    datasets = [\"breast\", \"digits\"],\n",
        "    metrics = [\"mse\", \"nll\"],\n",
        "    num_calls = 15,\n",
        "    num_repetitions = 3,\n",
        "    db_root = \"./data\",\n",
        "    parallel = True,\n",
        "    num_workers = 2\n",
        ")"
      ]
    },
    {
      "cell_type": "code",
      "execution_count": null,
      "id": "eaa79fb4",
      "metadata": {
        "id": "eaa79fb4"
      },
      "outputs": [],
      "source": [
        "meta_comparison.run_base_comparison()\n",
        "dbid = meta_comparison.get_dbid()"
      ]
    },
    {
      "cell_type": "code",
      "execution_count": null,
      "id": "55f1d143",
      "metadata": {
        "id": "55f1d143"
      },
      "outputs": [],
      "source": [
        "meta_comparison.load_base_comparison(dbid='bo_20220208_111458_rxokbt8a')"
      ]
    },
    {
      "cell_type": "code",
      "execution_count": null,
      "id": "cf152acf",
      "metadata": {},
      "outputs": [],
      "source": [
        "meta_comparison.run_meta_comparison()\n",
        "meta_comparison.summary()"
      ]
    }
  ],
  "metadata": {
    "colab": {
      "name": "rough.ipynb",
      "provenance": []
    },
    "kernelspec": {
      "display_name": "Python 3",
      "language": "python",
      "name": "python3"
    },
    "language_info": {
      "codemirror_mode": {
        "name": "ipython",
        "version": 3
      },
      "file_extension": ".py",
      "mimetype": "text/x-python",
      "name": "python",
      "nbconvert_exporter": "python",
      "pygments_lexer": "ipython3",
      "version": "3.9.7"
    }
  },
  "nbformat": 4,
  "nbformat_minor": 5
}
